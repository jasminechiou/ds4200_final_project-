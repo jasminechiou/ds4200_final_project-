{
 "cells": [
  {
   "cell_type": "code",
   "execution_count": 2,
   "id": "8141b28c",
   "metadata": {
    "is_executing": true
   },
   "outputs": [],
   "source": [
    "import pandas as pd \n",
    "import matplotlib.pyplot as plt\n",
    "from scipy.stats import entropy\n",
    "import numpy as np\n",
    "import altair as alt \n",
    "import plotly.graph_objects as go\n",
    "import seaborn as sns\n",
    "import networkx as nx"
   ]
  },
  {
   "cell_type": "code",
   "execution_count": 3,
   "id": "6d898e9f",
   "metadata": {},
   "outputs": [
    {
     "data": {
      "text/plain": [
       "(10661, 33)"
      ]
     },
     "execution_count": 3,
     "metadata": {},
     "output_type": "execute_result"
    }
   ],
   "source": [
    "# load in data from our 3 California national Parks \n",
    "df_redwood = pd.read_excel(\"redwood.xlsx\")\n",
    "df_joshua = pd.read_excel(\"joshua.xlsx\")\n",
    "df_sequoia = pd.read_excel(\"sequoia.xlsx\")\n",
    "\n",
    "# combine them into one dataframe\n",
    "df_combined = pd.concat([df_redwood, df_joshua, df_sequoia], ignore_index=True)\n",
    "df_combined.shape"
   ]
  },
  {
   "cell_type": "code",
   "execution_count": 4,
   "id": "30c969f3-bb05-49ea-aa7f-edbaa7033561",
   "metadata": {},
   "outputs": [
    {
     "data": {
      "text/plain": [
       "Region                 10661\n",
       "Park Code                  0\n",
       "Park Name                  0\n",
       "Category                   0\n",
       "Category Sort              0\n",
       "Order                    500\n",
       "Family                   504\n",
       "Taxon Code                 0\n",
       "TSN                       47\n",
       "Taxon Record Status        0\n",
       "Scientific Name            0\n",
       "Common Names            4166\n",
       "Synonyms                9954\n",
       "Park Accepted              0\n",
       "Sens?                      0\n",
       "Record Status              0\n",
       "Occurrence              5315\n",
       "Occurrence Tags        10563\n",
       "Nativeness              5324\n",
       "Nativeness Tags        10651\n",
       "Abundance               6376\n",
       "NPS Tags                9255\n",
       "Park Tags              10636\n",
       "Internal Park Tags     10661\n",
       "References               678\n",
       "Observations            9455\n",
       "Vouchers                7034\n",
       "ExternalLinks          10661\n",
       "T&E                     9814\n",
       "State Status           10463\n",
       "Ozone                  10614\n",
       "GRank                   4809\n",
       "SRank                   6005\n",
       "dtype: int64"
      ]
     },
     "execution_count": 4,
     "metadata": {},
     "output_type": "execute_result"
    }
   ],
   "source": [
    "# look at missing values by column\n",
    "df_combined.isnull().sum()"
   ]
  },
  {
   "cell_type": "code",
   "execution_count": 5,
   "id": "2898e0fb-26f0-49e0-9e8e-9826c758bf9d",
   "metadata": {},
   "outputs": [
    {
     "data": {
      "text/plain": [
       "(10661, 26)"
      ]
     },
     "execution_count": 5,
     "metadata": {},
     "output_type": "execute_result"
    }
   ],
   "source": [
    "# drop columns with large amount of missing values\n",
    "df_combined = df_combined.drop(['Region', 'Internal Park Tags', 'ExternalLinks', 'Ozone', 'Park Tags', 'Nativeness Tags', 'Occurrence Tags'], axis=1)\n",
    "df_combined.shape"
   ]
  },
  {
   "cell_type": "code",
   "execution_count": 6,
   "id": "661ad49c-1e5f-4c32-96b1-cf964a99522c",
   "metadata": {},
   "outputs": [
    {
     "data": {
      "text/plain": [
       "(10070, 26)"
      ]
     },
     "execution_count": 6,
     "metadata": {},
     "output_type": "execute_result"
    }
   ],
   "source": [
    "# drop species not in park or unconfirmed\n",
    "df_combined = df_combined[~df_combined['Occurrence'].isin(['Not In Park', 'Unconfirmed'])]\n",
    "df_combined.shape"
   ]
  },
  {
   "cell_type": "code",
   "execution_count": 7,
   "id": "aa709b55",
   "metadata": {},
   "outputs": [],
   "source": [
    "# drop species with no family/order name\n",
    "df_combined = df_combined[~df_combined['Order'].isnull()]\n",
    "df_combined = df_combined[~df_combined['Family'].isnull()]\n",
    "df_combined = df_combined[df_combined['Record Status'].isin(['Approved'])]\n",
    "\n",
    "# Filter out rows with more than two words in the 'Scientific Name' column\n",
    "df_combined = df_combined[df_combined['Scientific Name'].str.split().str.len() == 2]\n",
    "\n",
    "# Split the 'Scientific Name' column into 'Genus' and 'Species'\n",
    "df_combined[['Genus', 'Species']] = df_combined['Scientific Name'].str.split(' ', expand=True)\n",
    "\n",
    "# get just non-native yet abundant species\n",
    "non_native_common = df_combined[(df_combined['Nativeness'] == 'Non-native') & \n",
    "                                (df_combined['Abundance'].isin(['Abundant', 'Common']))]\n"
   ]
  },
  {
   "cell_type": "code",
   "execution_count": 8,
   "id": "e806dcc3",
   "metadata": {},
   "outputs": [
    {
     "data": {
      "application/vnd.plotly.v1+json": {
       "config": {
        "plotlyServerURL": "https://plot.ly"
       },
       "data": [
        {
         "link": {
          "source": [
           0,
           1,
           2,
           2,
           3,
           4,
           4,
           4,
           4,
           4,
           4,
           4,
           4,
           4,
           4,
           4,
           4,
           4,
           4,
           4,
           5,
           10,
           11,
           11,
           11,
           12,
           12,
           13,
           13,
           13,
           9,
           14,
           15,
           16,
           16,
           17,
           18,
           18,
           19,
           20,
           6,
           6,
           7,
           21,
           21,
           21,
           22,
           23,
           8,
           24
          ],
          "target": [
           5,
           6,
           7,
           8,
           9,
           10,
           11,
           12,
           13,
           14,
           15,
           16,
           17,
           18,
           19,
           20,
           21,
           22,
           23,
           24,
           25,
           25,
           26,
           25,
           27,
           26,
           25,
           26,
           25,
           27,
           25,
           25,
           25,
           25,
           27,
           27,
           26,
           27,
           25,
           25,
           26,
           25,
           25,
           26,
           25,
           27,
           25,
           25,
           27,
           26
          ],
          "value": [
           1,
           3,
           1,
           1,
           1,
           3,
           12,
           9,
           11,
           1,
           1,
           5,
           1,
           2,
           3,
           1,
           30,
           1,
           1,
           1,
           1,
           3,
           2,
           8,
           2,
           4,
           5,
           3,
           5,
           3,
           1,
           1,
           1,
           4,
           1,
           1,
           1,
           1,
           3,
           1,
           1,
           2,
           1,
           9,
           18,
           3,
           1,
           1,
           1,
           1
          ]
         },
         "node": {
          "color": [
           "#9ecae1",
           "#9ecae1",
           "#9ecae1",
           "#9ecae1",
           "#9ecae1",
           "#4292c6",
           "#4292c6",
           "#4292c6",
           "#4292c6",
           "#4292c6",
           "#4292c6",
           "#4292c6",
           "#4292c6",
           "#4292c6",
           "#4292c6",
           "#4292c6",
           "#4292c6",
           "#4292c6",
           "#4292c6",
           "#4292c6",
           "#4292c6",
           "#4292c6",
           "#4292c6",
           "#4292c6",
           "#4292c6",
           "#08519c",
           "#08519c",
           "#08519c"
          ],
          "label": [
           "Amphibian",
           "Bird",
           "Fish",
           "Mammal",
           "Vascular Plant",
           "Anura",
           "Passeriformes",
           "Perciformes",
           "Salmoniformes",
           "Didelphimorphia",
           "Apiales",
           "Asterales",
           "Brassicales",
           "Caryophyllales",
           "Ericales",
           "Escalloniales",
           "Fabales",
           "Gentianales",
           "Geraniales",
           "Lamiales",
           "Malpighiales",
           "Poales",
           "Ranunculales",
           "Rosales",
           "Zygophyllales",
           "Redwood National Park",
           "Joshua Tree National Park",
           "Sequoia and Kings Canyon National Parks"
          ],
          "line": {
           "color": "black",
           "width": 0.5
          },
          "pad": 15,
          "thickness": 20
         },
         "type": "sankey"
        }
       ],
       "layout": {
        "annotations": [
         {
          "font": {
           "color": "black",
           "size": 16
          },
          "showarrow": false,
          "text": "Category",
          "x": 0.02,
          "y": 1.1
         },
         {
          "font": {
           "color": "black",
           "size": 16
          },
          "showarrow": false,
          "text": "Order",
          "x": 0.5,
          "y": 1.1
         },
         {
          "font": {
           "color": "black",
           "size": 16
          },
          "showarrow": false,
          "text": "Park Name",
          "x": 0.98,
          "y": 1.1
         }
        ],
        "font": {
         "size": 16
        },
        "height": 550,
        "template": {
         "data": {
          "bar": [
           {
            "error_x": {
             "color": "#2a3f5f"
            },
            "error_y": {
             "color": "#2a3f5f"
            },
            "marker": {
             "line": {
              "color": "#E5ECF6",
              "width": 0.5
             },
             "pattern": {
              "fillmode": "overlay",
              "size": 10,
              "solidity": 0.2
             }
            },
            "type": "bar"
           }
          ],
          "barpolar": [
           {
            "marker": {
             "line": {
              "color": "#E5ECF6",
              "width": 0.5
             },
             "pattern": {
              "fillmode": "overlay",
              "size": 10,
              "solidity": 0.2
             }
            },
            "type": "barpolar"
           }
          ],
          "carpet": [
           {
            "aaxis": {
             "endlinecolor": "#2a3f5f",
             "gridcolor": "white",
             "linecolor": "white",
             "minorgridcolor": "white",
             "startlinecolor": "#2a3f5f"
            },
            "baxis": {
             "endlinecolor": "#2a3f5f",
             "gridcolor": "white",
             "linecolor": "white",
             "minorgridcolor": "white",
             "startlinecolor": "#2a3f5f"
            },
            "type": "carpet"
           }
          ],
          "choropleth": [
           {
            "colorbar": {
             "outlinewidth": 0,
             "ticks": ""
            },
            "type": "choropleth"
           }
          ],
          "contour": [
           {
            "colorbar": {
             "outlinewidth": 0,
             "ticks": ""
            },
            "colorscale": [
             [
              0,
              "#0d0887"
             ],
             [
              0.1111111111111111,
              "#46039f"
             ],
             [
              0.2222222222222222,
              "#7201a8"
             ],
             [
              0.3333333333333333,
              "#9c179e"
             ],
             [
              0.4444444444444444,
              "#bd3786"
             ],
             [
              0.5555555555555556,
              "#d8576b"
             ],
             [
              0.6666666666666666,
              "#ed7953"
             ],
             [
              0.7777777777777778,
              "#fb9f3a"
             ],
             [
              0.8888888888888888,
              "#fdca26"
             ],
             [
              1,
              "#f0f921"
             ]
            ],
            "type": "contour"
           }
          ],
          "contourcarpet": [
           {
            "colorbar": {
             "outlinewidth": 0,
             "ticks": ""
            },
            "type": "contourcarpet"
           }
          ],
          "heatmap": [
           {
            "colorbar": {
             "outlinewidth": 0,
             "ticks": ""
            },
            "colorscale": [
             [
              0,
              "#0d0887"
             ],
             [
              0.1111111111111111,
              "#46039f"
             ],
             [
              0.2222222222222222,
              "#7201a8"
             ],
             [
              0.3333333333333333,
              "#9c179e"
             ],
             [
              0.4444444444444444,
              "#bd3786"
             ],
             [
              0.5555555555555556,
              "#d8576b"
             ],
             [
              0.6666666666666666,
              "#ed7953"
             ],
             [
              0.7777777777777778,
              "#fb9f3a"
             ],
             [
              0.8888888888888888,
              "#fdca26"
             ],
             [
              1,
              "#f0f921"
             ]
            ],
            "type": "heatmap"
           }
          ],
          "heatmapgl": [
           {
            "colorbar": {
             "outlinewidth": 0,
             "ticks": ""
            },
            "colorscale": [
             [
              0,
              "#0d0887"
             ],
             [
              0.1111111111111111,
              "#46039f"
             ],
             [
              0.2222222222222222,
              "#7201a8"
             ],
             [
              0.3333333333333333,
              "#9c179e"
             ],
             [
              0.4444444444444444,
              "#bd3786"
             ],
             [
              0.5555555555555556,
              "#d8576b"
             ],
             [
              0.6666666666666666,
              "#ed7953"
             ],
             [
              0.7777777777777778,
              "#fb9f3a"
             ],
             [
              0.8888888888888888,
              "#fdca26"
             ],
             [
              1,
              "#f0f921"
             ]
            ],
            "type": "heatmapgl"
           }
          ],
          "histogram": [
           {
            "marker": {
             "pattern": {
              "fillmode": "overlay",
              "size": 10,
              "solidity": 0.2
             }
            },
            "type": "histogram"
           }
          ],
          "histogram2d": [
           {
            "colorbar": {
             "outlinewidth": 0,
             "ticks": ""
            },
            "colorscale": [
             [
              0,
              "#0d0887"
             ],
             [
              0.1111111111111111,
              "#46039f"
             ],
             [
              0.2222222222222222,
              "#7201a8"
             ],
             [
              0.3333333333333333,
              "#9c179e"
             ],
             [
              0.4444444444444444,
              "#bd3786"
             ],
             [
              0.5555555555555556,
              "#d8576b"
             ],
             [
              0.6666666666666666,
              "#ed7953"
             ],
             [
              0.7777777777777778,
              "#fb9f3a"
             ],
             [
              0.8888888888888888,
              "#fdca26"
             ],
             [
              1,
              "#f0f921"
             ]
            ],
            "type": "histogram2d"
           }
          ],
          "histogram2dcontour": [
           {
            "colorbar": {
             "outlinewidth": 0,
             "ticks": ""
            },
            "colorscale": [
             [
              0,
              "#0d0887"
             ],
             [
              0.1111111111111111,
              "#46039f"
             ],
             [
              0.2222222222222222,
              "#7201a8"
             ],
             [
              0.3333333333333333,
              "#9c179e"
             ],
             [
              0.4444444444444444,
              "#bd3786"
             ],
             [
              0.5555555555555556,
              "#d8576b"
             ],
             [
              0.6666666666666666,
              "#ed7953"
             ],
             [
              0.7777777777777778,
              "#fb9f3a"
             ],
             [
              0.8888888888888888,
              "#fdca26"
             ],
             [
              1,
              "#f0f921"
             ]
            ],
            "type": "histogram2dcontour"
           }
          ],
          "mesh3d": [
           {
            "colorbar": {
             "outlinewidth": 0,
             "ticks": ""
            },
            "type": "mesh3d"
           }
          ],
          "parcoords": [
           {
            "line": {
             "colorbar": {
              "outlinewidth": 0,
              "ticks": ""
             }
            },
            "type": "parcoords"
           }
          ],
          "pie": [
           {
            "automargin": true,
            "type": "pie"
           }
          ],
          "scatter": [
           {
            "fillpattern": {
             "fillmode": "overlay",
             "size": 10,
             "solidity": 0.2
            },
            "type": "scatter"
           }
          ],
          "scatter3d": [
           {
            "line": {
             "colorbar": {
              "outlinewidth": 0,
              "ticks": ""
             }
            },
            "marker": {
             "colorbar": {
              "outlinewidth": 0,
              "ticks": ""
             }
            },
            "type": "scatter3d"
           }
          ],
          "scattercarpet": [
           {
            "marker": {
             "colorbar": {
              "outlinewidth": 0,
              "ticks": ""
             }
            },
            "type": "scattercarpet"
           }
          ],
          "scattergeo": [
           {
            "marker": {
             "colorbar": {
              "outlinewidth": 0,
              "ticks": ""
             }
            },
            "type": "scattergeo"
           }
          ],
          "scattergl": [
           {
            "marker": {
             "colorbar": {
              "outlinewidth": 0,
              "ticks": ""
             }
            },
            "type": "scattergl"
           }
          ],
          "scattermapbox": [
           {
            "marker": {
             "colorbar": {
              "outlinewidth": 0,
              "ticks": ""
             }
            },
            "type": "scattermapbox"
           }
          ],
          "scatterpolar": [
           {
            "marker": {
             "colorbar": {
              "outlinewidth": 0,
              "ticks": ""
             }
            },
            "type": "scatterpolar"
           }
          ],
          "scatterpolargl": [
           {
            "marker": {
             "colorbar": {
              "outlinewidth": 0,
              "ticks": ""
             }
            },
            "type": "scatterpolargl"
           }
          ],
          "scatterternary": [
           {
            "marker": {
             "colorbar": {
              "outlinewidth": 0,
              "ticks": ""
             }
            },
            "type": "scatterternary"
           }
          ],
          "surface": [
           {
            "colorbar": {
             "outlinewidth": 0,
             "ticks": ""
            },
            "colorscale": [
             [
              0,
              "#0d0887"
             ],
             [
              0.1111111111111111,
              "#46039f"
             ],
             [
              0.2222222222222222,
              "#7201a8"
             ],
             [
              0.3333333333333333,
              "#9c179e"
             ],
             [
              0.4444444444444444,
              "#bd3786"
             ],
             [
              0.5555555555555556,
              "#d8576b"
             ],
             [
              0.6666666666666666,
              "#ed7953"
             ],
             [
              0.7777777777777778,
              "#fb9f3a"
             ],
             [
              0.8888888888888888,
              "#fdca26"
             ],
             [
              1,
              "#f0f921"
             ]
            ],
            "type": "surface"
           }
          ],
          "table": [
           {
            "cells": {
             "fill": {
              "color": "#EBF0F8"
             },
             "line": {
              "color": "white"
             }
            },
            "header": {
             "fill": {
              "color": "#C8D4E3"
             },
             "line": {
              "color": "white"
             }
            },
            "type": "table"
           }
          ]
         },
         "layout": {
          "annotationdefaults": {
           "arrowcolor": "#2a3f5f",
           "arrowhead": 0,
           "arrowwidth": 1
          },
          "autotypenumbers": "strict",
          "coloraxis": {
           "colorbar": {
            "outlinewidth": 0,
            "ticks": ""
           }
          },
          "colorscale": {
           "diverging": [
            [
             0,
             "#8e0152"
            ],
            [
             0.1,
             "#c51b7d"
            ],
            [
             0.2,
             "#de77ae"
            ],
            [
             0.3,
             "#f1b6da"
            ],
            [
             0.4,
             "#fde0ef"
            ],
            [
             0.5,
             "#f7f7f7"
            ],
            [
             0.6,
             "#e6f5d0"
            ],
            [
             0.7,
             "#b8e186"
            ],
            [
             0.8,
             "#7fbc41"
            ],
            [
             0.9,
             "#4d9221"
            ],
            [
             1,
             "#276419"
            ]
           ],
           "sequential": [
            [
             0,
             "#0d0887"
            ],
            [
             0.1111111111111111,
             "#46039f"
            ],
            [
             0.2222222222222222,
             "#7201a8"
            ],
            [
             0.3333333333333333,
             "#9c179e"
            ],
            [
             0.4444444444444444,
             "#bd3786"
            ],
            [
             0.5555555555555556,
             "#d8576b"
            ],
            [
             0.6666666666666666,
             "#ed7953"
            ],
            [
             0.7777777777777778,
             "#fb9f3a"
            ],
            [
             0.8888888888888888,
             "#fdca26"
            ],
            [
             1,
             "#f0f921"
            ]
           ],
           "sequentialminus": [
            [
             0,
             "#0d0887"
            ],
            [
             0.1111111111111111,
             "#46039f"
            ],
            [
             0.2222222222222222,
             "#7201a8"
            ],
            [
             0.3333333333333333,
             "#9c179e"
            ],
            [
             0.4444444444444444,
             "#bd3786"
            ],
            [
             0.5555555555555556,
             "#d8576b"
            ],
            [
             0.6666666666666666,
             "#ed7953"
            ],
            [
             0.7777777777777778,
             "#fb9f3a"
            ],
            [
             0.8888888888888888,
             "#fdca26"
            ],
            [
             1,
             "#f0f921"
            ]
           ]
          },
          "colorway": [
           "#636efa",
           "#EF553B",
           "#00cc96",
           "#ab63fa",
           "#FFA15A",
           "#19d3f3",
           "#FF6692",
           "#B6E880",
           "#FF97FF",
           "#FECB52"
          ],
          "font": {
           "color": "#2a3f5f"
          },
          "geo": {
           "bgcolor": "white",
           "lakecolor": "white",
           "landcolor": "#E5ECF6",
           "showlakes": true,
           "showland": true,
           "subunitcolor": "white"
          },
          "hoverlabel": {
           "align": "left"
          },
          "hovermode": "closest",
          "mapbox": {
           "style": "light"
          },
          "paper_bgcolor": "white",
          "plot_bgcolor": "#E5ECF6",
          "polar": {
           "angularaxis": {
            "gridcolor": "white",
            "linecolor": "white",
            "ticks": ""
           },
           "bgcolor": "#E5ECF6",
           "radialaxis": {
            "gridcolor": "white",
            "linecolor": "white",
            "ticks": ""
           }
          },
          "scene": {
           "xaxis": {
            "backgroundcolor": "#E5ECF6",
            "gridcolor": "white",
            "gridwidth": 2,
            "linecolor": "white",
            "showbackground": true,
            "ticks": "",
            "zerolinecolor": "white"
           },
           "yaxis": {
            "backgroundcolor": "#E5ECF6",
            "gridcolor": "white",
            "gridwidth": 2,
            "linecolor": "white",
            "showbackground": true,
            "ticks": "",
            "zerolinecolor": "white"
           },
           "zaxis": {
            "backgroundcolor": "#E5ECF6",
            "gridcolor": "white",
            "gridwidth": 2,
            "linecolor": "white",
            "showbackground": true,
            "ticks": "",
            "zerolinecolor": "white"
           }
          },
          "shapedefaults": {
           "line": {
            "color": "#2a3f5f"
           }
          },
          "ternary": {
           "aaxis": {
            "gridcolor": "white",
            "linecolor": "white",
            "ticks": ""
           },
           "baxis": {
            "gridcolor": "white",
            "linecolor": "white",
            "ticks": ""
           },
           "bgcolor": "#E5ECF6",
           "caxis": {
            "gridcolor": "white",
            "linecolor": "white",
            "ticks": ""
           }
          },
          "title": {
           "x": 0.05
          },
          "xaxis": {
           "automargin": true,
           "gridcolor": "white",
           "linecolor": "white",
           "ticks": "",
           "title": {
            "standoff": 15
           },
           "zerolinecolor": "white",
           "zerolinewidth": 2
          },
          "yaxis": {
           "automargin": true,
           "gridcolor": "white",
           "linecolor": "white",
           "ticks": "",
           "title": {
            "standoff": 15
           },
           "zerolinecolor": "white",
           "zerolinewidth": 2
          }
         }
        },
        "title": {
         "text": "Non-Native Abundant Species"
        }
       }
      }
     },
     "metadata": {},
     "output_type": "display_data"
    }
   ],
   "source": [
    "import plotly.graph_objects as go\n",
    "import pandas as pd\n",
    "\n",
    "# Step 1: Get the counts for order -> family\n",
    "category_order_count = non_native_common.groupby(['Category', 'Order']).size().reset_index(name='count')\n",
    "\n",
    "# Step 2: Get the counts for family -> genus\n",
    "order_park_count = non_native_common.groupby(['Order', 'Park Name']).size().reset_index(name='count')\n",
    "\n",
    "# Combine the order -> family and family -> genus into one list of source, target, and value for Sankey\n",
    "# For order -> family\n",
    "order_family_links = category_order_count[['Category', 'Order', 'count']].rename(columns={'Category': 'source', 'Order': 'target', 'count': 'value'})\n",
    "\n",
    "# For family -> genus\n",
    "family_genus_links = order_park_count[['Order', 'Park Name', 'count']].rename(columns={'Order': 'source', 'Park Name': 'target', 'count': 'value'})\n",
    "\n",
    "# Concatenate the two link DataFrames\n",
    "links = pd.concat([order_family_links, family_genus_links], ignore_index=True)\n",
    "\n",
    "# Create a list of nodes\n",
    "nodes = list(pd.concat([category_order_count['Category'], category_order_count['Order'], order_park_count['Park Name']]).unique())\n",
    "\n",
    "# Map the nodes to indices\n",
    "nodes_dict = {node: i for i, node in enumerate(nodes)}\n",
    "\n",
    "# Add node indices to the links\n",
    "links['source'] = links['source'].map(nodes_dict)\n",
    "links['target'] = links['target'].map(nodes_dict)\n",
    "\n",
    "# Create a color map for nodes\n",
    "order_color = '#9ecae1'\n",
    "family_color = '#4292c6'\n",
    "genus_color = '#08519c'\n",
    "\n",
    "# Assign colors to nodes\n",
    "node_colors = []\n",
    "for node in nodes:\n",
    "    if node in category_order_count['Category'].values:\n",
    "        node_colors.append(order_color)\n",
    "    elif node in order_park_count['Order'].values:\n",
    "        node_colors.append(family_color)\n",
    "    else:\n",
    "        node_colors.append(genus_color)\n",
    "\n",
    "# Create the Sankey diagram\n",
    "fig = go.Figure(go.Sankey(\n",
    "    node=dict(\n",
    "        pad=15,\n",
    "        thickness=20,\n",
    "        line=dict(color=\"black\", width=0.5),\n",
    "        label=nodes,\n",
    "        color=node_colors \n",
    "    ),\n",
    "    link=dict(\n",
    "        source=links['source'],\n",
    "        target=links['target'],\n",
    "        value=links['value']\n",
    "    )\n",
    "))\n",
    "\n",
    "# Add labels for the columns\n",
    "fig.add_annotation(\n",
    "    x=0.02,  # Adjust this value to position above \"Category\" column\n",
    "    y=1.1,  # Slightly above the top of the graph\n",
    "    text=\"Category\",\n",
    "    showarrow=False,\n",
    "    font=dict(size=16, color=\"black\")\n",
    ")\n",
    "\n",
    "fig.add_annotation(\n",
    "    x=0.5,  # Adjust this value to position above \"Order\" column\n",
    "    y=1.1,\n",
    "    text=\"Order\",\n",
    "    showarrow=False,\n",
    "    font=dict(size=16, color=\"black\")\n",
    ")\n",
    "\n",
    "fig.add_annotation(\n",
    "    x=0.98,  # Adjust this value to position above \"Park Name\" column\n",
    "    y=1.1,\n",
    "    text=\"Park Name\",\n",
    "    showarrow=False,\n",
    "    font=dict(size=16, color=\"black\")\n",
    ")\n",
    "\n",
    "# Update layout\n",
    "fig.update_layout(title_text=\"Non-Native Abundant Species\", font_size=16, height=550)\n",
    "fig.show()\n",
    "fig.write_html(\"sankey.html\")\n"
   ]
  },
  {
   "cell_type": "code",
   "execution_count": 8,
   "id": "f3ca0ec0",
   "metadata": {},
   "outputs": [
    {
     "data": {
      "application/vnd.plotly.v1+json": {
       "config": {
        "plotlyServerURL": "https://plot.ly"
       },
       "data": [
        {
         "link": {
          "source": [
           0,
           0,
           0,
           1,
           2,
           2,
           2,
           2,
           2,
           3,
           4,
           5,
           5,
           5,
           5,
           6,
           6,
           7,
           7,
           8,
           9,
           10,
           10,
           10,
           11,
           11,
           11,
           11,
           12,
           12,
           12,
           13,
           14,
           15,
           16,
           16,
           16,
           16,
           17,
           17,
           17,
           17,
           18,
           19,
           20,
           20,
           20,
           21,
           21,
           21,
           21,
           21,
           21,
           21,
           21,
           22,
           22,
           22,
           22,
           22,
           22,
           22,
           22,
           22,
           22,
           22,
           22,
           23,
           23,
           23,
           23,
           24,
           25,
           26,
           26,
           26,
           26,
           26,
           26,
           26,
           26,
           27,
           27,
           27,
           27,
           27,
           27,
           27,
           28,
           29,
           29,
           29,
           30,
           30,
           31,
           32,
           33,
           33,
           33,
           34,
           34,
           35,
           36,
           36,
           37,
           37,
           37,
           38,
           39,
           40,
           40,
           40,
           40,
           41,
           42,
           43,
           43,
           43,
           43,
           44,
           45,
           45,
           46,
           46,
           47,
           47,
           47,
           47,
           48,
           49,
           49,
           49,
           49,
           50,
           50,
           51,
           52,
           52,
           52,
           53,
           54,
           54,
           54,
           55,
           56,
           57,
           57,
           58,
           59,
           59,
           60,
           60,
           60,
           60,
           60,
           60,
           60,
           60,
           60,
           61,
           61,
           61,
           62,
           63,
           63,
           64,
           64,
           65,
           66,
           67,
           67,
           67,
           67,
           67,
           67,
           68,
           69,
           70,
           70,
           71,
           71,
           71,
           72,
           73,
           74,
           75,
           76,
           77,
           77,
           77,
           77,
           77,
           77,
           77,
           77,
           77,
           77,
           77,
           77,
           77,
           77,
           77,
           77,
           77,
           77,
           77,
           77,
           77,
           77,
           77,
           77,
           77,
           77,
           77,
           77,
           77,
           78,
           78,
           78,
           79,
           79,
           79,
           79,
           79,
           79,
           79,
           79,
           79,
           79,
           79,
           79,
           79,
           79,
           79,
           79,
           79,
           79,
           79,
           79,
           80,
           81,
           82,
           82,
           82,
           82,
           83,
           83,
           84,
           84,
           84,
           85,
           85,
           85,
           85,
           86,
           87,
           87,
           87,
           87,
           87,
           87,
           87,
           87,
           88,
           88,
           88,
           89,
           90,
           90,
           91,
           91,
           91,
           92,
           92,
           92,
           92,
           92,
           92,
           92,
           92,
           92,
           93,
           93,
           93,
           93,
           93,
           94,
           95,
           96,
           97,
           97,
           97,
           97,
           97,
           98,
           98,
           98,
           99,
           99,
           99,
           99,
           99,
           99,
           99,
           100,
           101,
           102,
           102,
           103,
           104,
           104,
           104,
           104,
           104,
           104,
           104,
           104,
           104,
           104,
           104,
           104,
           105,
           106,
           107,
           107,
           108,
           108,
           109,
           109,
           109,
           109,
           110,
           111,
           112,
           113,
           113,
           264,
           114,
           114,
           114,
           114,
           114,
           114,
           117,
           223,
           301,
           411,
           411,
           411,
           411,
           411,
           169,
           169,
           169,
           302,
           209,
           209,
           195,
           195,
           195,
           195,
           195,
           195,
           195,
           146,
           118,
           273,
           170,
           170,
           170,
           170,
           170,
           170,
           170,
           170,
           170,
           138,
           138,
           138,
           138,
           181,
           181,
           333,
           403,
           403,
           334,
           124,
           124,
           124,
           124,
           124,
           124,
           124,
           124,
           124,
           124,
           124,
           124,
           124,
           124,
           423,
           423,
           129,
           129,
           129,
           129,
           129,
           129,
           129,
           129,
           129,
           129,
           129,
           129,
           129,
           129,
           129,
           129,
           129,
           129,
           129,
           129,
           129,
           129,
           129,
           129,
           129,
           129,
           386,
           254,
           254,
           254,
           254,
           254,
           254,
           131,
           131,
           131,
           133,
           119,
           119,
           119,
           119,
           130,
           130,
           130,
           355,
           330,
           330,
           330,
           330,
           330,
           330,
           330,
           134,
           381,
           359,
           125,
           139,
           139,
           139,
           139,
           139,
           139,
           139,
           139,
           139,
           139,
           369,
           142,
           142,
           142,
           142,
           142,
           142,
           142,
           142,
           142,
           142,
           142,
           142,
           142,
           142,
           142,
           142,
           142,
           142,
           142,
           142,
           142,
           142,
           142,
           142,
           142,
           142,
           142,
           142,
           142,
           142,
           142,
           142,
           142,
           142,
           142,
           142,
           142,
           142,
           142,
           142,
           142,
           142,
           142,
           142,
           142,
           142,
           142,
           142,
           142,
           142,
           142,
           142,
           142,
           142,
           142,
           142,
           142,
           142,
           142,
           142,
           142,
           142,
           142,
           142,
           142,
           142,
           142,
           142,
           142,
           142,
           142,
           142,
           142,
           142,
           142,
           142,
           142,
           142,
           142,
           142,
           142,
           142,
           142,
           142,
           142,
           142,
           142,
           142,
           142,
           142,
           142,
           142,
           142,
           142,
           142,
           142,
           142,
           142,
           142,
           142,
           142,
           142,
           142,
           142,
           142,
           142,
           142,
           142,
           142,
           142,
           142,
           142,
           142,
           142,
           142,
           142,
           142,
           142,
           142,
           142,
           145,
           145,
           370,
           250,
           187,
           188,
           188,
           147,
           383,
           383,
           238,
           238,
           371,
           371,
           303,
           148,
           148,
           148,
           148,
           148,
           148,
           148,
           148,
           148,
           148,
           148,
           135,
           135,
           152,
           152,
           152,
           152,
           152,
           152,
           152,
           152,
           152,
           152,
           152,
           152,
           152,
           152,
           152,
           152,
           152,
           152,
           152,
           152,
           152,
           152,
           152,
           152,
           152,
           152,
           152,
           126,
           126,
           156,
           171,
           171,
           304,
           304,
           277,
           143,
           143,
           143,
           143,
           143,
           143,
           143,
           161,
           161,
           161,
           395,
           395,
           224,
           224,
           157,
           157,
           335,
           158,
           305,
           305,
           305,
           305,
           305,
           172,
           172,
           172,
           172,
           172,
           172,
           172,
           172,
           172,
           172,
           172,
           172,
           172,
           172,
           172,
           387,
           115,
           218,
           185,
           336,
           336,
           336,
           337,
           186,
           306,
           136,
           274,
           196,
           196,
           424,
           424,
           441,
           441,
           441,
           202,
           307,
           153,
           153,
           206,
           206,
           206,
           206,
           425,
           425,
           425,
           425,
           425,
           425,
           425,
           425,
           425,
           425,
           425,
           425,
           425,
           425,
           425,
           208,
           208,
           208,
           208,
           420,
           420,
           420,
           210,
           308,
           308,
           308,
           308,
           308,
           308,
           412,
           412,
           412,
           412,
           412,
           412,
           412,
           412,
           412,
           408,
           408,
           408,
           408,
           388,
           388,
           388,
           388,
           388,
           388,
           388,
           388,
           388,
           213,
           426,
           426,
           338,
           215,
           215,
           216,
           216,
           216,
           356,
           356,
           356,
           356,
           356,
           356,
           356,
           361,
           364,
           364,
           364,
           364,
           364,
           364,
           364,
           364,
           364,
           364,
           219,
           372,
           217,
           189,
           189,
           189,
           189,
           189,
           189,
           189,
           442,
           221,
           377,
           389,
           225,
           173,
           373,
           373,
           149,
           149,
           339,
           339,
           339,
           339,
           339,
           339,
           339,
           443,
           207,
           227,
           228,
           390,
           229,
           229,
           229,
           229,
           229,
           229,
           229,
           229,
           229,
           229,
           229,
           229,
           229,
           229,
           229,
           229,
           229,
           229,
           229,
           229,
           229,
           233,
           190,
           427,
           283,
           283,
           283,
           283,
           283,
           283,
           283,
           236,
           236,
           236,
           236,
           236,
           236,
           236,
           236,
           236,
           236,
           236,
           236,
           236,
           236,
           236,
           236,
           236,
           236,
           236,
           236,
           236,
           236,
           236,
           236,
           236,
           236,
           236,
           236,
           239,
           239,
           239,
           242,
           162,
           162,
           162,
           439,
           309,
           309,
           309,
           309,
           309,
           309,
           309,
           243,
           249,
           251,
           253,
           255,
           255,
           255,
           255,
           255,
           391,
           257,
           257,
           340,
           341,
           341,
           341,
           436,
           409,
           197,
           150,
           413,
           413,
           392,
           392,
           392,
           414,
           414,
           414,
           259,
           310,
           310,
           310,
           310,
           310,
           310,
           211,
           211,
           378,
           120,
           151,
           151,
           151,
           151,
           151,
           151,
           151,
           127,
           284,
           191,
           191,
           191,
           342,
           419,
           419,
           311,
           311,
           311,
           311,
           311,
           311,
           311,
           311,
           428,
           428,
           428,
           428,
           428,
           140,
           140,
           261,
           240,
           365,
           365,
           121,
           192,
           448,
           265,
           265,
           265,
           265,
           265,
           265,
           265,
           265,
           265,
           265,
           265,
           265,
           265,
           275,
           275,
           312,
           198,
           198,
           198,
           198,
           198,
           278,
           266,
           262,
           262,
           429,
           220,
           220,
           220,
           220,
           220,
           279,
           279,
           279,
           279,
           279,
           279,
           279,
           279,
           154,
           154,
           285,
           285,
           415,
           212,
           343,
           281,
           293,
           293,
           244,
           244,
           282,
           282,
           344,
           289,
           289,
           289,
           289,
           289,
           289,
           289,
           289,
           289,
           280,
           280,
           280,
           280,
           280,
           280,
           404,
           144,
           163,
           163,
           245,
           313,
           313,
           313,
           313,
           445,
           174,
           203,
           203,
           175,
           175,
           175,
           175,
           175,
           396,
           396,
           246,
           345,
           314,
           393,
           393,
           164,
           164,
           164,
           290,
           290,
           291,
           241,
           294,
           222,
           260,
           176,
           176,
           176,
           176,
           296,
           263,
           247,
           247,
           267,
           267,
           267,
           267,
           267,
           267,
           295,
           295,
           295,
           295,
           295,
           295,
           123,
           297,
           298,
           298,
           141,
           141,
           141,
           141,
           141,
           141,
           141,
           141,
           141,
           141,
           141,
           447,
           268,
           268,
           268,
           268,
           268,
           268,
           299,
           299,
           299,
           299,
           165,
           165,
           165,
           300,
           116,
           384,
           384,
           384,
           384,
           384,
           384,
           384,
           362,
           362,
           315,
           315,
           315,
           316,
           316,
           316,
           316,
           316,
           316,
           316,
           316,
           316,
           316,
           316,
           316,
           316,
           316,
           316,
           317,
           317,
           317,
           317,
           317,
           317,
           317,
           317,
           317,
           317,
           317,
           317,
           317,
           317,
           318,
           331,
           346,
           353,
           440,
           248,
           248,
           248,
           248,
           248,
           248,
           248,
           166,
           166,
           193,
           193,
           347,
           347,
           269,
           430,
           430,
           430,
           204,
           194,
           354,
           354,
           354,
           354,
           354,
           286,
           357,
           357,
           357,
           357,
           270,
           270,
           270,
           270,
           270,
           270,
           270,
           270,
           270,
           270,
           270,
           270,
           270,
           270,
           380,
           182,
           182,
           182,
           182,
           182,
           363,
           363,
           363,
           363,
           363,
           363,
           363,
           363,
           363,
           366,
           366,
           366,
           366,
           366,
           366,
           366,
           366,
           366,
           366,
           366,
           366,
           366,
           366,
           366,
           366,
           366,
           366,
           366,
           366,
           366,
           366,
           366,
           366,
           366,
           366,
           366,
           366,
           366,
           366,
           366,
           366,
           366,
           366,
           366,
           366,
           366,
           366,
           366,
           366,
           366,
           366,
           366,
           366,
           366,
           366,
           366,
           366,
           366,
           366,
           366,
           366,
           366,
           366,
           366,
           366,
           366,
           366,
           366,
           366,
           366,
           366,
           366,
           366,
           366,
           366,
           366,
           368,
           368,
           368,
           230,
           230,
           230,
           230,
           230,
           230,
           230,
           230,
           230,
           230,
           230,
           230,
           319,
           237,
           177,
           177,
           177,
           177,
           177,
           177,
           177,
           177,
           177,
           177,
           374,
           178,
           122,
           231,
           231,
           231,
           231,
           379,
           379,
           167,
           167,
           375,
           375,
           375,
           375,
           375,
           375,
           375,
           320,
           382,
           258,
           258,
           258,
           258,
           128,
           385,
           385,
           385,
           385,
           385,
           385,
           385,
           385,
           385,
           385,
           385,
           385,
           385,
           199,
           199,
           321,
           322,
           155,
           397,
           397,
           397,
           397,
           416,
           183,
           398,
           398,
           398,
           398,
           398,
           398,
           398,
           398,
           398,
           398,
           398,
           398,
           398,
           398,
           398,
           398,
           398,
           398,
           398,
           398,
           398,
           398,
           398,
           398,
           398,
           398,
           398,
           398,
           398,
           398,
           256,
           256,
           256,
           405,
           184,
           287,
           287,
           400,
           400,
           400,
           401,
           402,
           402,
           406,
           406,
           360,
           410,
           410,
           410,
           410,
           410,
           410,
           410,
           410,
           410,
           410,
           410,
           410,
           348,
           348,
           431,
           431,
           394,
           394,
           394,
           394,
           394,
           394,
           394,
           200,
           200,
           200,
           200,
           200,
           200,
           200,
           200,
           200,
           200,
           200,
           200,
           200,
           200,
           417,
           271,
           271,
           271,
           159,
           418,
           407,
           179,
           323,
           421,
           421,
           421,
           421,
           421,
           234,
           234,
           422,
           435,
           214,
           201,
           349,
           349,
           349,
           349,
           349,
           349,
           437,
           437,
           437,
           437,
           437,
           437,
           437,
           437,
           437,
           350,
           324,
           137,
           325,
           252,
           235,
           235,
           180,
           358,
           358,
           432,
           444,
           232,
           332,
           276,
           160,
           160,
           160,
           351,
           132,
           132,
           132,
           132,
           326,
           326,
           326,
           326,
           326,
           326,
           327,
           327,
           327,
           327,
           327,
           367,
           367,
           328,
           328,
           328,
           328,
           328,
           328,
           438,
           292,
           168,
           399,
           399,
           399,
           226,
           226,
           226,
           272,
           272,
           205,
           205,
           205,
           205,
           205,
           205,
           205,
           205,
           205,
           288,
           433,
           329,
           446,
           446,
           446,
           376,
           434,
           352,
           449,
           449,
           449,
           449
          ],
          "target": [
           114,
           115,
           116,
           117,
           118,
           119,
           120,
           121,
           122,
           123,
           124,
           125,
           126,
           127,
           128,
           129,
           130,
           131,
           132,
           133,
           134,
           135,
           136,
           137,
           138,
           139,
           140,
           141,
           142,
           143,
           144,
           145,
           146,
           147,
           148,
           149,
           150,
           151,
           152,
           153,
           154,
           155,
           156,
           157,
           158,
           159,
           160,
           161,
           162,
           163,
           164,
           165,
           166,
           167,
           168,
           169,
           170,
           171,
           172,
           173,
           174,
           175,
           176,
           177,
           178,
           179,
           180,
           181,
           182,
           183,
           184,
           185,
           186,
           187,
           188,
           189,
           190,
           191,
           192,
           193,
           194,
           195,
           196,
           197,
           198,
           199,
           200,
           201,
           202,
           203,
           204,
           205,
           206,
           207,
           208,
           209,
           210,
           211,
           212,
           213,
           214,
           215,
           216,
           217,
           218,
           219,
           220,
           221,
           222,
           223,
           224,
           225,
           226,
           227,
           228,
           229,
           230,
           231,
           232,
           233,
           234,
           235,
           236,
           237,
           238,
           239,
           240,
           241,
           242,
           243,
           244,
           245,
           246,
           247,
           248,
           249,
           250,
           251,
           252,
           253,
           254,
           255,
           256,
           257,
           258,
           259,
           260,
           261,
           262,
           263,
           264,
           265,
           266,
           267,
           268,
           269,
           270,
           271,
           272,
           273,
           274,
           275,
           276,
           277,
           278,
           279,
           280,
           281,
           282,
           283,
           284,
           285,
           286,
           287,
           288,
           289,
           290,
           291,
           292,
           293,
           294,
           295,
           296,
           297,
           298,
           299,
           300,
           301,
           302,
           303,
           304,
           305,
           306,
           307,
           308,
           309,
           310,
           311,
           312,
           313,
           314,
           315,
           316,
           317,
           318,
           319,
           320,
           321,
           322,
           323,
           324,
           325,
           326,
           327,
           328,
           329,
           330,
           331,
           332,
           333,
           334,
           335,
           336,
           337,
           338,
           339,
           340,
           341,
           342,
           343,
           344,
           345,
           346,
           347,
           348,
           349,
           350,
           351,
           352,
           353,
           354,
           355,
           356,
           357,
           358,
           359,
           360,
           361,
           362,
           363,
           364,
           365,
           366,
           367,
           368,
           369,
           370,
           371,
           372,
           373,
           374,
           375,
           376,
           377,
           378,
           379,
           380,
           381,
           382,
           383,
           384,
           385,
           386,
           387,
           388,
           389,
           390,
           391,
           392,
           393,
           394,
           395,
           396,
           397,
           398,
           399,
           400,
           401,
           402,
           403,
           404,
           405,
           406,
           407,
           408,
           409,
           410,
           411,
           412,
           413,
           414,
           415,
           416,
           417,
           418,
           419,
           420,
           421,
           422,
           423,
           424,
           425,
           426,
           427,
           428,
           429,
           430,
           431,
           432,
           433,
           434,
           435,
           436,
           437,
           438,
           439,
           440,
           441,
           442,
           443,
           444,
           445,
           446,
           447,
           448,
           449,
           450,
           451,
           452,
           453,
           454,
           455,
           456,
           457,
           458,
           459,
           460,
           461,
           462,
           463,
           464,
           465,
           466,
           467,
           468,
           469,
           470,
           471,
           472,
           473,
           474,
           475,
           476,
           477,
           478,
           479,
           480,
           481,
           482,
           483,
           484,
           485,
           486,
           487,
           488,
           489,
           490,
           491,
           492,
           493,
           494,
           495,
           496,
           497,
           498,
           499,
           500,
           501,
           502,
           503,
           504,
           505,
           506,
           507,
           508,
           509,
           510,
           511,
           512,
           513,
           514,
           515,
           516,
           517,
           518,
           519,
           520,
           521,
           522,
           523,
           524,
           525,
           526,
           527,
           528,
           529,
           530,
           531,
           532,
           533,
           534,
           535,
           536,
           537,
           538,
           539,
           540,
           541,
           542,
           543,
           544,
           545,
           546,
           547,
           548,
           549,
           550,
           551,
           552,
           553,
           554,
           555,
           556,
           557,
           558,
           559,
           560,
           561,
           562,
           563,
           564,
           565,
           566,
           567,
           568,
           569,
           570,
           571,
           572,
           573,
           574,
           575,
           576,
           577,
           578,
           579,
           580,
           581,
           582,
           583,
           584,
           585,
           586,
           587,
           588,
           589,
           590,
           591,
           592,
           593,
           594,
           595,
           596,
           597,
           598,
           599,
           600,
           601,
           602,
           603,
           604,
           605,
           606,
           607,
           608,
           609,
           610,
           611,
           612,
           613,
           614,
           615,
           616,
           617,
           618,
           619,
           620,
           621,
           622,
           623,
           624,
           625,
           626,
           627,
           628,
           629,
           630,
           631,
           632,
           633,
           634,
           635,
           636,
           637,
           638,
           639,
           640,
           641,
           642,
           643,
           644,
           645,
           646,
           647,
           648,
           649,
           650,
           651,
           652,
           653,
           654,
           655,
           656,
           657,
           658,
           659,
           660,
           661,
           662,
           663,
           664,
           665,
           666,
           667,
           668,
           669,
           670,
           671,
           672,
           673,
           674,
           675,
           676,
           677,
           678,
           679,
           680,
           681,
           682,
           683,
           684,
           685,
           686,
           687,
           688,
           689,
           690,
           691,
           692,
           693,
           694,
           695,
           696,
           697,
           698,
           699,
           700,
           701,
           702,
           703,
           704,
           705,
           706,
           707,
           708,
           709,
           710,
           711,
           712,
           713,
           714,
           715,
           716,
           717,
           718,
           719,
           720,
           721,
           722,
           723,
           724,
           725,
           726,
           727,
           728,
           729,
           730,
           731,
           732,
           733,
           734,
           735,
           736,
           737,
           738,
           739,
           740,
           741,
           742,
           743,
           744,
           745,
           746,
           747,
           748,
           749,
           750,
           751,
           752,
           753,
           754,
           755,
           756,
           757,
           758,
           759,
           760,
           761,
           762,
           763,
           764,
           765,
           766,
           767,
           768,
           769,
           770,
           771,
           772,
           773,
           774,
           775,
           776,
           777,
           778,
           779,
           780,
           781,
           782,
           783,
           784,
           785,
           786,
           787,
           788,
           789,
           790,
           791,
           792,
           793,
           794,
           795,
           796,
           797,
           798,
           799,
           800,
           801,
           802,
           803,
           804,
           805,
           806,
           807,
           808,
           809,
           810,
           811,
           812,
           813,
           814,
           815,
           816,
           817,
           818,
           819,
           820,
           821,
           822,
           823,
           824,
           825,
           826,
           827,
           828,
           829,
           830,
           831,
           832,
           833,
           834,
           835,
           836,
           837,
           838,
           839,
           840,
           841,
           842,
           843,
           844,
           845,
           846,
           847,
           848,
           849,
           850,
           851,
           852,
           853,
           854,
           855,
           856,
           857,
           858,
           859,
           860,
           861,
           862,
           863,
           864,
           865,
           866,
           867,
           868,
           869,
           870,
           871,
           872,
           873,
           874,
           875,
           876,
           877,
           878,
           879,
           880,
           881,
           882,
           883,
           884,
           885,
           886,
           887,
           888,
           889,
           890,
           891,
           892,
           893,
           894,
           895,
           896,
           897,
           898,
           899,
           900,
           901,
           902,
           903,
           904,
           905,
           906,
           907,
           908,
           909,
           910,
           911,
           912,
           913,
           914,
           915,
           916,
           917,
           918,
           919,
           920,
           921,
           922,
           923,
           924,
           925,
           926,
           927,
           928,
           929,
           930,
           931,
           932,
           933,
           934,
           935,
           936,
           937,
           938,
           939,
           940,
           941,
           942,
           943,
           944,
           945,
           946,
           947,
           948,
           949,
           950,
           951,
           952,
           953,
           954,
           955,
           956,
           957,
           958,
           959,
           960,
           961,
           962,
           963,
           964,
           965,
           966,
           967,
           968,
           969,
           970,
           971,
           972,
           973,
           974,
           975,
           976,
           977,
           978,
           979,
           980,
           981,
           982,
           983,
           984,
           985,
           986,
           987,
           988,
           989,
           990,
           991,
           992,
           993,
           994,
           995,
           996,
           997,
           998,
           999,
           1000,
           1001,
           1002,
           1003,
           1004,
           1005,
           1006,
           1007,
           1008,
           1009,
           1010,
           1011,
           1012,
           1013,
           1014,
           1015,
           1016,
           1017,
           1018,
           1019,
           1020,
           1021,
           1022,
           1023,
           1024,
           1025,
           1026,
           1027,
           1028,
           1029,
           1030,
           1031,
           1032,
           1033,
           1034,
           1035,
           1036,
           1037,
           1038,
           1039,
           1040,
           1041,
           1042,
           1043,
           1044,
           1045,
           1046,
           1047,
           1048,
           1049,
           1050,
           1051,
           1052,
           1053,
           1054,
           1055,
           1056,
           1057,
           1058,
           1059,
           1060,
           1061,
           1062,
           1063,
           1064,
           1065,
           1066,
           1067,
           1068,
           1069,
           1070,
           1071,
           1072,
           1073,
           1074,
           1075,
           1076,
           1077,
           1078,
           1079,
           1080,
           1081,
           1082,
           1083,
           1084,
           1085,
           1086,
           1087,
           1088,
           1089,
           1090,
           1091,
           1092,
           1093,
           1094,
           1095,
           1096,
           1097,
           1098,
           1099,
           1100,
           1101,
           1102,
           1103,
           1104,
           1105,
           1106,
           1107,
           1108,
           1109,
           1110,
           1111,
           1112,
           1113,
           1114,
           1115,
           1116,
           1117,
           1118,
           1119,
           1120,
           1121,
           1122,
           1123,
           1124,
           1125,
           1126,
           1127,
           1128,
           1129,
           1130,
           1131,
           1132,
           1133,
           1134,
           1135,
           1136,
           1137,
           1138,
           1139,
           1140,
           1141,
           1142,
           1143,
           1144,
           1145,
           1146,
           1147,
           1148,
           1149,
           1150,
           1151,
           1152,
           1153,
           1154,
           1155,
           1156,
           1157,
           1158,
           1159,
           1160,
           1161,
           1162,
           1163,
           1164,
           1165,
           1166,
           1167,
           1168,
           1169,
           1170,
           1171,
           1172,
           1173,
           1174,
           1175,
           1176,
           1177,
           1178,
           1179,
           1180,
           1181,
           1182,
           1183,
           1184,
           1185,
           1186,
           1187,
           1188,
           1189,
           1190,
           1191,
           1192,
           1193,
           1194,
           1195,
           1196,
           1197,
           1198,
           1199,
           1200,
           1201,
           1202,
           1203,
           1204,
           1205,
           1206,
           1207,
           1208,
           1209,
           1210,
           1211,
           1212,
           1213,
           1214,
           1215,
           1216,
           1217,
           1218,
           1219,
           1220,
           1221,
           1222,
           1223,
           1224,
           1225,
           1226,
           1227,
           1228,
           1229,
           1230,
           1231,
           1232,
           1233,
           1234,
           1235,
           1236,
           1237,
           1238,
           1239,
           1240,
           1241,
           1242,
           1243,
           1244,
           1245,
           1246,
           1247,
           1248,
           1249,
           1250,
           1251,
           1252,
           1253,
           1254,
           1255,
           1256,
           1257,
           1258,
           1259,
           1260,
           1261,
           1262,
           1263,
           1264,
           1265,
           1266,
           1267,
           1268,
           1269,
           1270,
           1271,
           1272,
           1273,
           1274,
           1275,
           1276,
           1277,
           1278,
           1279,
           1280,
           1281,
           1282,
           1283,
           1284,
           1285,
           1286,
           1287,
           1288,
           1289,
           1290,
           1291,
           1292,
           1293,
           1294,
           1295,
           1296,
           1297,
           1298,
           1299,
           1300,
           1301,
           1302,
           1303,
           1304,
           1305,
           1306,
           1307,
           1308,
           1309,
           1310,
           1311,
           1312,
           1313,
           1314,
           1315,
           1316,
           1317,
           1318,
           1319,
           1320,
           1321,
           1322,
           1323,
           1324,
           1325,
           1326,
           1327,
           1328,
           1329,
           1330,
           1331,
           1332,
           1333,
           1334,
           1335,
           1336,
           1337,
           1338,
           1339,
           1340,
           1341,
           1342,
           1343,
           1344,
           1345,
           1346,
           1347,
           1348,
           1349,
           1350,
           1351,
           1352,
           1353,
           1354,
           1355,
           1356,
           1357,
           1358,
           1359,
           1360,
           1361,
           1362,
           1363,
           1364,
           1365,
           1366,
           1367,
           1368,
           1369,
           1370,
           1371,
           1372,
           1373,
           1374,
           1375,
           1376,
           1377,
           1378,
           1379,
           1380,
           1381,
           1382,
           1383,
           1384,
           1385,
           1386,
           1387,
           1388,
           1389,
           1390,
           1391,
           1392,
           1393,
           1394,
           1395,
           1396,
           1397,
           1398,
           1399,
           1400,
           1401,
           1402,
           1403,
           1404,
           1405,
           1406,
           1407,
           1408,
           1409,
           1410,
           1411,
           1412,
           1413,
           1414,
           1415,
           1416,
           1417,
           1418,
           1419,
           1420,
           1421,
           1422,
           1423,
           1424,
           1425,
           1426,
           1427,
           1428,
           1429,
           1430,
           1431,
           1432,
           1433,
           1434,
           1435,
           1436,
           1437,
           1438,
           1439,
           1440,
           1441,
           1442,
           1443,
           1444,
           1445,
           1446,
           1447,
           1448,
           1449,
           1450,
           1451,
           1452,
           1453,
           1454,
           1455,
           1456,
           1457,
           1458,
           1459,
           1460,
           1461,
           1462,
           1463,
           1464,
           1465,
           1466,
           1467,
           1468,
           1469,
           1470,
           1471,
           1472,
           1473,
           1474,
           1475,
           1476,
           1477,
           1478,
           1479,
           1480,
           1481,
           1482,
           1483,
           1484,
           1485,
           1486,
           1487,
           1488,
           1489,
           1490,
           1491,
           1492,
           1493,
           1494,
           1495,
           1496,
           1497,
           1498,
           1499,
           1500,
           1501,
           1502,
           1503,
           1504,
           1505,
           1506,
           1507,
           1508,
           1509,
           1510,
           1511,
           1512,
           1513,
           1514,
           1515,
           1516,
           1517,
           1518,
           1519,
           1520,
           1521,
           1522,
           1523,
           1524,
           1525,
           1526,
           1527,
           1528,
           1529,
           1530,
           1531,
           1532,
           1533,
           1534,
           1535,
           1536,
           1537,
           1538,
           1539,
           1540,
           1541,
           1542,
           1543,
           1544,
           1545,
           1546,
           1547,
           1548,
           1549,
           1550,
           1551,
           1552,
           1553,
           1554,
           1555,
           1556,
           1557,
           1558,
           1559,
           1560,
           1561,
           1562,
           1563,
           790,
           1564,
           1565,
           1566,
           1567,
           1568,
           1569,
           1570,
           1571,
           1572,
           1573,
           1574,
           1575,
           1576,
           1577,
           1578,
           1579,
           1580,
           1581,
           1582,
           1583,
           1584,
           1585,
           1586,
           1587,
           1588,
           1589,
           1590,
           1591,
           1592,
           1593,
           1594,
           1595,
           1596,
           1597,
           1598,
           1599,
           1600,
           1601,
           1602,
           1603,
           1604,
           1605,
           1606,
           1607,
           1608,
           1609,
           1610,
           1611,
           1612,
           1613,
           1614,
           1615,
           1616,
           1617,
           1618,
           1619,
           1620,
           1621,
           1622,
           1623,
           1624,
           1625,
           1626,
           1627,
           1628,
           1629,
           1630,
           1631,
           1632,
           1633,
           1634,
           1635,
           1636,
           1637,
           1638,
           1639,
           1640,
           1641,
           1642,
           1643,
           1644,
           1645,
           1646,
           1647,
           1648,
           1649,
           1650,
           1651,
           1652,
           1653,
           1654,
           1655,
           1656,
           1657,
           1658,
           1659,
           1660,
           1661,
           1662,
           1663,
           1664,
           1665,
           1666,
           1667,
           1668,
           1669,
           1670,
           1671,
           1672,
           1673,
           1674,
           1675,
           1676,
           1677,
           1678,
           1679,
           1680,
           1681,
           1682,
           1683,
           1684
          ],
          "value": [
           33,
           3,
           3,
           2,
           1,
           6,
           1,
           2,
           7,
           1,
           66,
           1,
           5,
           3,
           6,
           61,
           4,
           7,
           14,
           1,
           1,
           2,
           2,
           1,
           16,
           26,
           8,
           26,
           304,
           11,
           1,
           2,
           1,
           1,
           55,
           2,
           1,
           38,
           79,
           2,
           2,
           1,
           1,
           7,
           1,
           1,
           3,
           9,
           7,
           5,
           10,
           3,
           2,
           5,
           3,
           3,
           28,
           8,
           50,
           1,
           3,
           22,
           8,
           58,
           1,
           1,
           1,
           2,
           12,
           1,
           2,
           1,
           1,
           1,
           5,
           7,
           1,
           3,
           1,
           2,
           1,
           7,
           9,
           1,
           23,
           5,
           45,
           2,
           1,
           4,
           1,
           37,
           4,
           1,
           11,
           3,
           7,
           4,
           9,
           1,
           1,
           4,
           4,
           1,
           3,
           1,
           6,
           2,
           1,
           5,
           7,
           1,
           5,
           4,
           4,
           49,
           58,
           10,
           1,
           1,
           11,
           5,
           140,
           3,
           4,
           14,
           2,
           1,
           11,
           1,
           2,
           1,
           1,
           6,
           9,
           3,
           1,
           1,
           1,
           5,
           18,
           10,
           20,
           19,
           8,
           1,
           1,
           2,
           6,
           1,
           1,
           32,
           3,
           10,
           25,
           36,
           49,
           7,
           2,
           1,
           1,
           2,
           1,
           1,
           2,
           27,
           10,
           1,
           2,
           21,
           6,
           2,
           1,
           26,
           9,
           15,
           2,
           1,
           1,
           3,
           2,
           40,
           1,
           1,
           4,
           6,
           6,
           3,
           2,
           5,
           3,
           18,
           2,
           2,
           17,
           28,
           19,
           26,
           4,
           12,
           3,
           6,
           53,
           62,
           3,
           3,
           2,
           6,
           1,
           9,
           3,
           2,
           18,
           21,
           37,
           11,
           15,
           4,
           2,
           1,
           1,
           1,
           6,
           1,
           1,
           11,
           1,
           3,
           1,
           1,
           1,
           1,
           1,
           5,
           2,
           8,
           1,
           1,
           1,
           4,
           34,
           1,
           9,
           21,
           2,
           3,
           1,
           1,
           3,
           10,
           93,
           37,
           251,
           9,
           12,
           1,
           1,
           3,
           2,
           6,
           5,
           19,
           4,
           1,
           3,
           3,
           1,
           1,
           2,
           7,
           19,
           36,
           2,
           2,
           37,
           2,
           2,
           4,
           10,
           5,
           23,
           3,
           2,
           14,
           83,
           3,
           11,
           2,
           14,
           4,
           1,
           1,
           4,
           1,
           9,
           13,
           30,
           5,
           21,
           2,
           4,
           4,
           1,
           14,
           4,
           5,
           7,
           15,
           1,
           5,
           3,
           29,
           2,
           1,
           10,
           1,
           4,
           3,
           1,
           7,
           1,
           1,
           1,
           26,
           3,
           1,
           4,
           3,
           1,
           2,
           1,
           1,
           5,
           1,
           2,
           6,
           1,
           8,
           3,
           13,
           3,
           3,
           3,
           2,
           5,
           3,
           1,
           1,
           1,
           1,
           1,
           1,
           1,
           1,
           2,
           1,
           2,
           1,
           1,
           1,
           1,
           1,
           1,
           1,
           1,
           1,
           1,
           6,
           4,
           11,
           2,
           1,
           1,
           1,
           1,
           1,
           13,
           1,
           1,
           1,
           1,
           1,
           1,
           2,
           2,
           1,
           3,
           21,
           1,
           10,
           4,
           5,
           1,
           1,
           4,
           2,
           2,
           5,
           4,
           3,
           1,
           4,
           1,
           6,
           1,
           1,
           1,
           1,
           1,
           1,
           1,
           3,
           1,
           1,
           2,
           3,
           6,
           1,
           2,
           5,
           1,
           2,
           9,
           1,
           1,
           3,
           4,
           2,
           2,
           1,
           5,
           8,
           1,
           1,
           2,
           2,
           3,
           2,
           1,
           2,
           1,
           2,
           1,
           1,
           2,
           1,
           1,
           5,
           2,
           1,
           2,
           1,
           2,
           2,
           1,
           1,
           3,
           1,
           1,
           2,
           5,
           3,
           1,
           3,
           2,
           2,
           4,
           3,
           1,
           2,
           2,
           2,
           2,
           6,
           5,
           2,
           1,
           1,
           7,
           2,
           1,
           10,
           6,
           7,
           1,
           6,
           2,
           2,
           2,
           1,
           5,
           2,
           1,
           2,
           5,
           1,
           3,
           1,
           10,
           2,
           3,
           1,
           3,
           4,
           1,
           1,
           1,
           1,
           3,
           7,
           16,
           4,
           2,
           1,
           1,
           4,
           1,
           1,
           9,
           1,
           1,
           2,
           1,
           1,
           1,
           1,
           1,
           7,
           1,
           3,
           1,
           3,
           3,
           1,
           1,
           3,
           1,
           1,
           1,
           1,
           1,
           1,
           10,
           4,
           1,
           1,
           4,
           2,
           1,
           1,
           1,
           1,
           1,
           1,
           1,
           1,
           1,
           1,
           1,
           1,
           1,
           3,
           1,
           1,
           4,
           2,
           1,
           1,
           16,
           1,
           2,
           3,
           1,
           4,
           1,
           2,
           2,
           1,
           2,
           2,
           2,
           1,
           2,
           1,
           1,
           2,
           1,
           3,
           2,
           1,
           1,
           1,
           1,
           1,
           4,
           1,
           1,
           5,
           2,
           3,
           1,
           1,
           2,
           5,
           2,
           23,
           3,
           2,
           5,
           1,
           4,
           1,
           6,
           7,
           1,
           1,
           1,
           2,
           8,
           1,
           3,
           4,
           2,
           2,
           7,
           2,
           1,
           3,
           1,
           8,
           2,
           2,
           1,
           2,
           1,
           1,
           4,
           3,
           9,
           1,
           4,
           1,
           3,
           1,
           2,
           3,
           1,
           2,
           6,
           2,
           1,
           1,
           1,
           1,
           2,
           1,
           4,
           1,
           1,
           3,
           3,
           3,
           2,
           1,
           5,
           2,
           4,
           3,
           1,
           1,
           1,
           2,
           5,
           5,
           5,
           1,
           1,
           1,
           4,
           7,
           2,
           2,
           2,
           1,
           4,
           1,
           12,
           1,
           3,
           8,
           2,
           3,
           3,
           1,
           3,
           1,
           2,
           1,
           1,
           2,
           2,
           1,
           6,
           3,
           2,
           1,
           1,
           1,
           1,
           1,
           2,
           1,
           1,
           1,
           1,
           1,
           1,
           1,
           1,
           2,
           2,
           2,
           1,
           4,
           1,
           1,
           2,
           2,
           1,
           2,
           6,
           1,
           4,
           1,
           2,
           4,
           2,
           2,
           3,
           7,
           3,
           5,
           3,
           2,
           3,
           1,
           5,
           1,
           4,
           3,
           1,
           2,
           1,
           3,
           1,
           2,
           2,
           1,
           4,
           2,
           1,
           7,
           6,
           1,
           1,
           13,
           3,
           3,
           1,
           1,
           1,
           1,
           2,
           2,
           1,
           1,
           2,
           2,
           1,
           1,
           1,
           1,
           2,
           1,
           1,
           66,
           8,
           1,
           7,
           1,
           1,
           1,
           1,
           1,
           6,
           1,
           2,
           1,
           1,
           1,
           1,
           1,
           1,
           1,
           1,
           1,
           2,
           1,
           2,
           1,
           1,
           4,
           2,
           1,
           1,
           2,
           1,
           1,
           3,
           1,
           1,
           2,
           2,
           1,
           4,
           4,
           2,
           2,
           2,
           12,
           1,
           4,
           1,
           2,
           2,
           1,
           1,
           1,
           2,
           1,
           1,
           2,
           2,
           1,
           3,
           4,
           1,
           3,
           1,
           1,
           1,
           1,
           6,
           1,
           4,
           1,
           5,
           3,
           3,
           3,
           11,
           1,
           1,
           2,
           2,
           2,
           1,
           1,
           4,
           11,
           10,
           21,
           1,
           7,
           5,
           1,
           1,
           1,
           4,
           1,
           1,
           1,
           2,
           34,
           7,
           1,
           1,
           1,
           12,
           11,
           1,
           3,
           3,
           1,
           8,
           8,
           3,
           1,
           3,
           1,
           4,
           1,
           3,
           1,
           5,
           3,
           1,
           2,
           3,
           1,
           4,
           8,
           11,
           1,
           1,
           1,
           1,
           1,
           13,
           1,
           1,
           1,
           1,
           6,
           3,
           1,
           2,
           1,
           1,
           1,
           4,
           2,
           3,
           1,
           3,
           6,
           3,
           1,
           3,
           1,
           1,
           1,
           2,
           3,
           5,
           23,
           3,
           3,
           6,
           1,
           1,
           1,
           1,
           2,
           3,
           3,
           1,
           4,
           8,
           3,
           2,
           3,
           2,
           1,
           1,
           6,
           1,
           1,
           4,
           4,
           2,
           2,
           29,
           8,
           2,
           1,
           2,
           1,
           1,
           1,
           1,
           2,
           2,
           4,
           6,
           1,
           6,
           3,
           2,
           2,
           1,
           1,
           4,
           1,
           14,
           1,
           6,
           1,
           2,
           3,
           3,
           3,
           1,
           1,
           1,
           2,
           1,
           1,
           8,
           2,
           2,
           4,
           4,
           5,
           1,
           1,
           1,
           1,
           1,
           1,
           4,
           9,
           1,
           1,
           2,
           1,
           1,
           1,
           1,
           1,
           1,
           1,
           2,
           1,
           1,
           1,
           3,
           1,
           4,
           1,
           1,
           1,
           4,
           1,
           1,
           2,
           1,
           1,
           2,
           3,
           1,
           2,
           3,
           1,
           6,
           1,
           3,
           2,
           2,
           2,
           4,
           6,
           4,
           6,
           1,
           1,
           1,
           1,
           3,
           2,
           3,
           2,
           6,
           2,
           1,
           1,
           1,
           1,
           2,
           1,
           1,
           1,
           1,
           5,
           1,
           1,
           1,
           3,
           3,
           1,
           3,
           1,
           3,
           1,
           1,
           10,
           5,
           15,
           5,
           2,
           3,
           1,
           1,
           3,
           1,
           1,
           2,
           3,
           1,
           1,
           3,
           2,
           3,
           4,
           3,
           3,
           1,
           9,
           2,
           7,
           1,
           4,
           2,
           1,
           2,
           2,
           1,
           1,
           1,
           1,
           6,
           3,
           1,
           1,
           6,
           7,
           1,
           2,
           1,
           2,
           1,
           2,
           2,
           2,
           3,
           13,
           4,
           2,
           2,
           1,
           2,
           4,
           1,
           1,
           1,
           2,
           10,
           5,
           2,
           2,
           2,
           6,
           2,
           2,
           3,
           7,
           2,
           3,
           3,
           8,
           3,
           9,
           10,
           3,
           4,
           1,
           4,
           4,
           2,
           1,
           2,
           1,
           1,
           1,
           1,
           1,
           1,
           1,
           1,
           2,
           3,
           36,
           1,
           2,
           1,
           1,
           1,
           4,
           2,
           7,
           12,
           9,
           1,
           2,
           1,
           16,
           2,
           4,
           5,
           5,
           1,
           2,
           1,
           1,
           2,
           1,
           6,
           11,
           1,
           1,
           8,
           1,
           3,
           4,
           2,
           1,
           2,
           1,
           1,
           1,
           1,
           1,
           1,
           1,
           2,
           1,
           11,
           17,
           3,
           4,
           1,
           3,
           1,
           2,
           1,
           5,
           1,
           1,
           4,
           20,
           4,
           2,
           2,
           2,
           2,
           3,
           2,
           3,
           6,
           1,
           2,
           2,
           8,
           2,
           1,
           20,
           2,
           3,
           3,
           3,
           2,
           1,
           2,
           1,
           3,
           11,
           10,
           2,
           4,
           1,
           3,
           8,
           3,
           1,
           1,
           1,
           1,
           18,
           7,
           1,
           2,
           1,
           2,
           1,
           2,
           2,
           2,
           1,
           1,
           1,
           5,
           2,
           1,
           3,
           6,
           3,
           2,
           5,
           2,
           12,
           3,
           3,
           13,
           2,
           1,
           5,
           7,
           3,
           3,
           3,
           1,
           1,
           21,
           1,
           1,
           1,
           4,
           13,
           2,
           13,
           5,
           1,
           7,
           2,
           6,
           1,
           1,
           1,
           2,
           3,
           2,
           3,
           1,
           3,
           7,
           1,
           3,
           1,
           2,
           2,
           3,
           1,
           2,
           2,
           6,
           1,
           2,
           3,
           3,
           1,
           5,
           1,
           7,
           1,
           1,
           1,
           9,
           1,
           2,
           3,
           6,
           1,
           1,
           9,
           1,
           1,
           3,
           1,
           1,
           1,
           3,
           2,
           3,
           1,
           1,
           1,
           3,
           1,
           4,
           2,
           1,
           1,
           1,
           2,
           7,
           3,
           2,
           2,
           6,
           1,
           8,
           2,
           1,
           8,
           11,
           1,
           1,
           1,
           2,
           17,
           1,
           2,
           1,
           2,
           3,
           23,
           7,
           2,
           2,
           2,
           4,
           10,
           3,
           1,
           1,
           2,
           1,
           1,
           1,
           6,
           4,
           2,
           1,
           1,
           8,
           2,
           1,
           1,
           1,
           2,
           1,
           1,
           2,
           1,
           2,
           7,
           8,
           2,
           3,
           1,
           2,
           1,
           13,
           1,
           3,
           1,
           3,
           3,
           2,
           6,
           1,
           5,
           14,
           1,
           2,
           4,
           1,
           4,
           1,
           1,
           9,
           2,
           2,
           2,
           3,
           6,
           1,
           10,
           1,
           1,
           1,
           2,
           1,
           1,
           2,
           1,
           1,
           2,
           3,
           5,
           2,
           3,
           2,
           2,
           1,
           2,
           6,
           1,
           3,
           1,
           2,
           1,
           1,
           4,
           1,
           1,
           1,
           1,
           1,
           1,
           2,
           1,
           1,
           1,
           1,
           1,
           2,
           4,
           6,
           2,
           1,
           3,
           2,
           3,
           3,
           6,
           6,
           3,
           3,
           6,
           3,
           4,
           5,
           6,
           14,
           3,
           1,
           6,
           7,
           3,
           1,
           3,
           1,
           1,
           1,
           1,
           3,
           1,
           1,
           1,
           3,
           2,
           3,
           3,
           2,
           5,
           16,
           2,
           1,
           9,
           7,
           11,
           1,
           1,
           3,
           4,
           1,
           1,
           2,
           1,
           1,
           2
          ]
         },
         "node": {
          "label": [
           "Accipitriformes",
           "Acipenseriformes",
           "Alismatales",
           "Anguilliformes",
           "Anseriformes",
           "Anura",
           "Apiales",
           "Apodiformes",
           "Aquifoliales",
           "Arecales",
           "Artiodactyla",
           "Asparagales",
           "Asterales",
           "Atheriniformes",
           "Aulopiformes",
           "Batrachoidiformes",
           "Boraginales",
           "Brassicales",
           "Buxales",
           "Caprimulgiformes",
           "Carcharhiniformes",
           "Carnivora",
           "Caryophyllales",
           "Caudata",
           "Celastrales",
           "Ceratophyllales",
           "Cetacea",
           "Charadriiformes",
           "Chimaeriformes",
           "Chiroptera",
           "Clupeiformes",
           "Columbiformes",
           "Coraciiformes",
           "Cornales",
           "Crossosomatales",
           "Cuculiformes",
           "Cucurbitales",
           "Cypriniformes",
           "Didelphimorphia",
           "Dioscoreales",
           "Dipsacales",
           "Ephedrales",
           "Equisetales",
           "Ericales",
           "Escalloniales",
           "Eulipotyphla",
           "Fabales",
           "Fagales",
           "Falconiformes",
           "Gadiformes",
           "Galliformes",
           "Garryales",
           "Gasterosteiformes",
           "Gaviiformes",
           "Gentianales",
           "Geraniales",
           "Gruiformes",
           "Hexanchiformes",
           "Isoetales",
           "Lagomorpha",
           "Lamiales",
           "Lamniformes",
           "Lampriformes",
           "Laurales",
           "Liliales",
           "Lycopodiales",
           "Magnoliales",
           "Malpighiales",
           "Malvales",
           "Myctophiformes",
           "Myliobatiformes",
           "Myrtales",
           "Nymphaeales",
           "Ophidiiformes",
           "Ophioglossales",
           "Osmeriformes",
           "Oxalidales",
           "Passeriformes",
           "Pelecaniformes",
           "Perciformes",
           "Petromyzontiformes",
           "Piciformes",
           "Pinales",
           "Piperales",
           "Pleuronectiformes",
           "Poales",
           "Podicipediformes",
           "Polypodiales",
           "Procellariiformes",
           "Proteales",
           "Rajiformes",
           "Ranunculales",
           "Rodentia",
           "Rosales",
           "Salmoniformes",
           "Salviniales",
           "Santalales",
           "Sapindales",
           "Saxifragales",
           "Scorpaeniformes",
           "Selaginellales",
           "Siluriformes",
           "Solanales",
           "Squaliformes",
           "Squamata",
           "Squatiniformes",
           "Stomiiformes",
           "Strigiformes",
           "Suliformes",
           "Testudines",
           "Tetraodontiformes",
           "Vitales",
           "Zeiformes",
           "Zygophyllales",
           "Accipitridae",
           "Cathartidae",
           "Pandionidae",
           "Acipenseridae",
           "Alismataceae",
           "Araceae",
           "Hydrocharitaceae",
           "Juncaginaceae",
           "Potamogetonaceae",
           "Ophichthidae",
           "Anatidae",
           "Ascaphidae",
           "Bufonidae",
           "Hylidae",
           "Ranidae",
           "Apiaceae",
           "Araliaceae",
           "Apodidae",
           "Trochilidae",
           "Aquifoliaceae",
           "Arecaceae",
           "Bovidae",
           "Cervidae",
           "Suidae",
           "Amaryllidaceae",
           "Asparagaceae",
           "Iridaceae",
           "Orchidaceae",
           "Asteraceae",
           "Campanulaceae",
           "Menyanthaceae",
           "Atherinopsidae",
           "Alepisauridae",
           "Batrachoididae",
           "Boraginaceae",
           "Ehretiaceae",
           "Heliotropiaceae",
           "Hydrophyllaceae",
           "Brassicaceae",
           "Cleomaceae",
           "Limnanthaceae",
           "Resedaceae",
           "Buxaceae",
           "Caprimulgidae",
           "Carcharhinidae",
           "Scyliorhinidae",
           "Triakidae",
           "Canidae",
           "Felidae",
           "Mephitidae",
           "Mustelidae",
           "Otariidae",
           "Phocidae",
           "Procyonidae",
           "Ursidae",
           "Aizoaceae",
           "Amaranthaceae",
           "Cactaceae",
           "Caryophyllaceae",
           "Droseraceae",
           "Molluginaceae",
           "Montiaceae",
           "Nyctaginaceae",
           "Polygonaceae",
           "Portulacaceae",
           "Simmondsiaceae",
           "Tamaricaceae",
           "Ambystomatidae",
           "Plethodontidae",
           "Rhyacotritonidae",
           "Salamandridae",
           "Celastraceae",
           "Ceratophyllaceae",
           "Balaenidae",
           "Balaenopteridae",
           "Delphinidae",
           "Eschrichtiidae",
           "Hyperoodontidae",
           "Kogiidae",
           "Phocoenidae",
           "Physeteridae",
           "Alcidae",
           "Charadriidae",
           "Haematopodidae",
           "Laridae",
           "Recurvirostridae",
           "Scolopacidae",
           "Stercorariidae",
           "Chimaeridae",
           "Molossidae",
           "Phyllostomidae",
           "Vespertilionidae",
           "Clupeidae",
           "Engraulidae",
           "Columbidae",
           "Alcedinidae",
           "Cornaceae",
           "Hydrangeaceae",
           "Loasaceae",
           "Crossosomataceae",
           "Staphyleaceae",
           "Cuculidae",
           "Cucurbitaceae",
           "Datiscaceae",
           "Catostomidae",
           "Cyprinidae",
           "Leuciscidae",
           "Didelphidae",
           "Nartheciaceae",
           "Adoxaceae",
           "Caprifoliaceae",
           "Dipsacaceae",
           "Valerianaceae",
           "Ephedraceae",
           "Equisetaceae",
           "Ericaceae",
           "Polemoniaceae",
           "Primulaceae",
           "Theaceae",
           "Escalloniaceae",
           "Soricidae",
           "Talpidae",
           "Fabaceae",
           "Polygalaceae",
           "Betulaceae",
           "Fagaceae",
           "Juglandaceae",
           "Myricaceae",
           "Falconidae",
           "Gadidae",
           "Macrouridae",
           "Merlucciidae",
           "Moridae",
           "Odontophoridae",
           "Phasianidae",
           "Garryaceae",
           "Aulorhynchidae",
           "Gasterosteidae",
           "Syngnathidae",
           "Gaviidae",
           "Apocynaceae",
           "Gentianaceae",
           "Rubiaceae",
           "Geraniaceae",
           "Rallidae",
           "Hexanchidae",
           "Notorynchidae",
           "Isoetaceae",
           "Leporidae",
           "Ochotonidae",
           "Acanthaceae",
           "Lamiaceae",
           "Lentibulariaceae",
           "Oleaceae",
           "Orobanchaceae",
           "Phrymaceae",
           "Plantaginaceae",
           "Scrophulariaceae",
           "Verbenaceae",
           "Alopiidae",
           "Cetorhinidae",
           "Lamnidae",
           "Trachipteridae",
           "Calycanthaceae",
           "Lauraceae",
           "Liliaceae",
           "Melanthiaceae",
           "Lycopodiaceae",
           "Magnoliaceae",
           "Euphorbiaceae",
           "Hypericaceae",
           "Linaceae",
           "Picrodendraceae",
           "Salicaceae",
           "Violaceae",
           "Malvaceae",
           "Myctophidae",
           "Myliobatidae",
           "Urolophidae",
           "Lythraceae",
           "Myrtaceae",
           "Onagraceae",
           "Nymphaeaceae",
           "Ophidiidae",
           "Ophioglossaceae",
           "Osmeridae",
           "Oxalidaceae",
           "Aegithalidae",
           "Alaudidae",
           "Bombycillidae",
           "Calcariidae",
           "Cardinalidae",
           "Certhiidae",
           "Cinclidae",
           "Corvidae",
           "Fringillidae",
           "Hirundinidae",
           "Icteridae",
           "Laniidae",
           "Mimidae",
           "Motacillidae",
           "Paridae",
           "Parulidae",
           "Passerellidae",
           "Passeridae",
           "Polioptilidae",
           "Ptilogonatidae",
           "Regulidae",
           "Remizidae",
           "Sittidae",
           "Sturnidae",
           "Sylviidae",
           "Troglodytidae",
           "Turdidae",
           "Tyrannidae",
           "Vireonidae",
           "Ardeidae",
           "Pelecanidae",
           "Threskiornithidae",
           "Ammodytidae",
           "Anarhichadidae",
           "Carangidae",
           "Centrarchidae",
           "Centrolophidae",
           "Cryptacanthodidae",
           "Embiotocidae",
           "Gobiesocidae",
           "Gobiidae",
           "Icosteidae",
           "Luvaridae",
           "Malacanthidae",
           "Moronidae",
           "Percidae",
           "Pholidae",
           "Sciaenidae",
           "Stichaeidae",
           "Stromateidae",
           "Trichodontidae",
           "Zoarcidae",
           "Petromyzontidae",
           "Picidae",
           "Araucariaceae",
           "Cupressaceae",
           "Pinaceae",
           "Taxaceae",
           "Aristolochiaceae",
           "Saururaceae",
           "Cynoglossidae",
           "Paralichthyidae",
           "Pleuronectidae",
           "Cyperaceae",
           "Juncaceae",
           "Poaceae",
           "Typhaceae",
           "Podicipedidae",
           "Aspleniaceae",
           "Athyriaceae",
           "Blechnaceae",
           "Cystopteridaceae",
           "Dryopteridaceae",
           "Polypodiaceae",
           "Pteridaceae",
           "Woodsiaceae",
           "Diomedeidae",
           "Hydrobatidae",
           "Procellariidae",
           "Platanaceae",
           "Arhynchobatidae",
           "Rajidae",
           "Berberidaceae",
           "Papaveraceae",
           "Ranunculaceae",
           "Aplodontiidae",
           "Castoridae",
           "Cricetidae",
           "Dipodidae",
           "Erethizontidae",
           "Geomyidae",
           "Heteromyidae",
           "Muridae",
           "Sciuridae",
           "Cannabaceae",
           "Moraceae",
           "Rhamnaceae",
           "Rosaceae",
           "Urticaceae",
           "Salmonidae",
           "Salviniaceae",
           "Santalaceae",
           "Anacardiaceae",
           "Meliaceae",
           "Rutaceae",
           "Sapindaceae",
           "Simaroubaceae",
           "Crassulaceae",
           "Grossulariaceae",
           "Saxifragaceae",
           "Agonidae",
           "Cottidae",
           "Hemitripteridae",
           "Hexagrammidae",
           "Liparidae",
           "Rhamphocottidae",
           "Scorpaenidae",
           "Selaginellaceae",
           "Ictaluridae",
           "Convolvulaceae",
           "Solanaceae",
           "Squalidae",
           "Anguidae",
           "Charinidae",
           "Colubridae",
           "Crotaphytidae",
           "Eublepharidae",
           "Iguanidae",
           "Leptotyphlopidae",
           "Phrynosomatidae",
           "Scincidae",
           "Teiidae",
           "Viperidae",
           "Xantusiidae",
           "Squatinidae",
           "Gonostomatidae",
           "Strigidae",
           "Tytonidae",
           "Fregatidae",
           "Phalacrocoracidae",
           "Cheloniidae",
           "Dermochelyidae",
           "Emydidae",
           "Testudinidae",
           "Molidae",
           "Vitaceae",
           "Oreosomatidae",
           "Krameriaceae",
           "Zygophyllaceae",
           "Justicia",
           "Accipiter",
           "Aquila",
           "Buteo",
           "Circus",
           "Elanus",
           "Haliaeetus",
           "Acipenser",
           "Sambucus",
           "Psaltriparus",
           "Bathyagonus",
           "Chesnonia",
           "Odontopyxis",
           "Pallasina",
           "Stellerina",
           "Carpobrotus",
           "Tetragonia",
           "Trianthema",
           "Eremophila",
           "Ceryle",
           "Megaceryle",
           "Brachyramphus",
           "Cepphus",
           "Cerorhinca",
           "Fratercula",
           "Ptychoramphus",
           "Synthliboramphus",
           "Uria",
           "Alepisaurus",
           "Sagittaria",
           "Alopias",
           "Amaranthus",
           "Atriplex",
           "Chenopodium",
           "Dysphania",
           "Grayia",
           "Monolepis",
           "Salsola",
           "Suaeda",
           "Tidestromia",
           "Allium",
           "Amaryllis",
           "Leucojum",
           "Narcissus",
           "Ambystoma",
           "Dicamptodon",
           "Ammodytes",
           "Rhus",
           "Toxicodendron",
           "Anarrhichthys",
           "Aix",
           "Anas",
           "Anser",
           "Aythya",
           "Branta",
           "Bucephala",
           "Chen",
           "Clangula",
           "Cygnus",
           "Histrionicus",
           "Lophodytes",
           "Melanitta",
           "Mergus",
           "Oxyura",
           "Anniella",
           "Elgaria",
           "Anethum",
           "Angelica",
           "Anthriscus",
           "Berula",
           "Bowlesia",
           "Caucalis",
           "Cicuta",
           "Conium",
           "Cymopterus",
           "Daucus",
           "Eryngium",
           "Foeniculum",
           "Heracleum",
           "Ligusticum",
           "Lomatium",
           "Oenanthe",
           "Oreonana",
           "Osmorhiza",
           "Oxypolis",
           "Perideridia",
           "Sanicula",
           "Scandix",
           "Sphenosciadium",
           "Tauschia",
           "Torilis",
           "Yabea",
           "Aplodontia",
           "Amsonia",
           "Apocynum",
           "Asclepias",
           "Cynanchum",
           "Nerium",
           "Vinca",
           "Aeronautes",
           "Chaetura",
           "Cypseloides",
           "Ilex",
           "Lemna",
           "Lysichiton",
           "Spirodela",
           "Zantedeschia",
           "Aralia",
           "Hedera",
           "Hydrocotyle",
           "Araucaria",
           "Ardea",
           "Botaurus",
           "Bubulcus",
           "Butorides",
           "Casmerodius",
           "Egretta",
           "Nycticorax",
           "Washingtonia",
           "Bathyraja",
           "Asarum",
           "Ascaphus",
           "Androstephium",
           "Brodiaea",
           "Dichelostemma",
           "Hastingsia",
           "Hesperocallis",
           "Maianthemum",
           "Nolina",
           "Smilacina",
           "Triteleia",
           "Yucca",
           "Asplenium",
           "Achillea",
           "Adenocaulon",
           "Adenophyllum",
           "Ageratina",
           "Agoseris",
           "Ambrosia",
           "Anaphalis",
           "Anisocarpus",
           "Anisocoma",
           "Antennaria",
           "Anthemis",
           "Arctium",
           "Arnica",
           "Artemisia",
           "Aster",
           "Atrichoseris",
           "Baccharis",
           "Baileya",
           "Balsamorhiza",
           "Bellis",
           "Bidens",
           "Brickellia",
           "Calycoseris",
           "Carduus",
           "Centaurea",
           "Chaenactis",
           "Chamomilla",
           "Chrysothamnus",
           "Cichorium",
           "Cirsium",
           "Conyza",
           "Coreopsis",
           "Corethrogyne",
           "Cotula",
           "Crepis",
           "Delairea",
           "Dicoria",
           "Dimorphotheca",
           "Dugaldia",
           "Encelia",
           "Ericameria",
           "Erigeron",
           "Eriophyllum",
           "Euchiton",
           "Eurybia",
           "Euthamia",
           "Filago",
           "Gamochaeta",
           "Geraea",
           "Gnaphalium",
           "Gutierrezia",
           "Hedypnois",
           "Helenium",
           "Helianthus",
           "Helminthotheca",
           "Hemizonia",
           "Hesperevax",
           "Heterotheca",
           "Hieracium",
           "Holocarpha",
           "Hulsea",
           "Hymenoxys",
           "Hypochaeris",
           "Lactuca",
           "Lapsana",
           "Lasthenia",
           "Layia",
           "Leontodon",
           "Lepidospartum",
           "Lessingia",
           "Leucanthemum",
           "Logfia",
           "Luina",
           "Madia",
           "Malacothrix",
           "Matricaria",
           "Micropus",
           "Microseris",
           "Monoptilon",
           "Nicolletia",
           "Nothocalais",
           "Orochaenactis",
           "Packera",
           "Perityle",
           "Peucephyllum",
           "Phalacroseris",
           "Pleurocoronis",
           "Pluchea",
           "Porophyllum",
           "Prenanthella",
           "Psathyrotes",
           "Pseudobahia",
           "Pseudognaphalium",
           "Psilostrophe",
           "Pyrrocoma",
           "Rafinesquia",
           "Raillardella",
           "Raillardiopsis",
           "Rigiopappus",
           "Senecio",
           "Sericocarpus",
           "Silybum",
           "Solidago",
           "Soliva",
           "Sonchus",
           "Sphaeromeria",
           "Stephanomeria",
           "Stylocline",
           "Symphyotrichum",
           "Tanacetum",
           "Taraxacum",
           "Tetradymia",
           "Tonestus",
           "Tragopogon",
           "Trichoptilium",
           "Trimorpha",
           "Uropappus",
           "Viguiera",
           "Wyethia",
           "Xanthium",
           "Atherinops",
           "Atherinopsis",
           "Athyrium",
           "Aulorhynchus",
           "Balaena",
           "Balaenoptera",
           "Megaptera",
           "Porichthys",
           "Berberis",
           "Vancouveria",
           "Alnus",
           "Betula",
           "Blechnum",
           "Woodwardia",
           "Bombycilla",
           "Amsinckia",
           "Cryptantha",
           "Cynoglossum",
           "Eriodictyon",
           "Hackelia",
           "Mertensia",
           "Myosotis",
           "Nama",
           "Pectocarya",
           "Plagiobothrys",
           "Turricula",
           "Bos",
           "Ovis",
           "Anelsonia",
           "Arabis",
           "Athysanus",
           "Barbarea",
           "Brassica",
           "Cakile",
           "Capsella",
           "Cardamine",
           "Caulanthus",
           "Coronopus",
           "Descurainia",
           "Dithyrea",
           "Draba",
           "Guillenia",
           "Hirschfeldia",
           "Isatis",
           "Lepidium",
           "Lesquerella",
           "Nasturtium",
           "Raphanus",
           "Rorippa",
           "Sisymbrium",
           "Streptanthella",
           "Streptanthus",
           "Teesdalia",
           "Thysanocarpus",
           "Tropidocarpum",
           "Anaxyrus",
           "Bufo",
           "Buxus",
           "Echinocereus",
           "Opuntia",
           "Calcarius",
           "Plectrophenax",
           "Calycanthus",
           "Asyneuma",
           "Campanula",
           "Githopsis",
           "Heterocodon",
           "Nemacladus",
           "Porterella",
           "Triodanis",
           "Canis",
           "Urocyon",
           "Vulpes",
           "Cannabis",
           "Celtis",
           "Lonicera",
           "Symphoricarpos",
           "Chordeiles",
           "Phalaenoptilus",
           "Trachurus",
           "Prionace",
           "Cardinalis",
           "Guiraca",
           "Passerina",
           "Pheucticus",
           "Piranga",
           "Achyronychia",
           "Arenaria",
           "Cardionema",
           "Cerastium",
           "Minuartia",
           "Moehringia",
           "Petrorhagia",
           "Polycarpon",
           "Pseudostellaria",
           "Sagina",
           "Saponaria",
           "Silene",
           "Spergula",
           "Spergularia",
           "Stellaria",
           "Castor",
           "Cathartes",
           "Catostomus",
           "Parnassia",
           "Lepomis",
           "Micropterus",
           "Pomoxis",
           "Icichthys",
           "Ceratophyllum",
           "Certhia",
           "Odocoileus",
           "Cetorhinus",
           "Charadrius",
           "Pluvialis",
           "Charina",
           "Lichanura",
           "Caretta",
           "Chelonia",
           "Lepidochelys",
           "Hydrolagus",
           "Cinclus",
           "Cleomella",
           "Isomeris",
           "Alosa",
           "Clupea",
           "Dorosoma",
           "Sardinops",
           "Arizona",
           "Chionactis",
           "Coluber",
           "Contia",
           "Diadophis",
           "Hypsiglena",
           "Lampropeltis",
           "Masticophis",
           "Phyllorhynchus",
           "Pituophis",
           "Rhinocheilus",
           "Salvadora",
           "Tantilla",
           "Thamnophis",
           "Trimorphodon",
           "Columba",
           "Columbina",
           "Patagioenas",
           "Zenaida",
           "Calystegia",
           "Convolvulus",
           "Cuscuta",
           "Cornus",
           "Aphelocoma",
           "Corvus",
           "Cyanocitta",
           "Gymnorhinus",
           "Nucifraga",
           "Perisoreus",
           "Artedius",
           "Ascelichthys",
           "Clinocottus",
           "Cottus",
           "Enophrys",
           "Hemilepidotus",
           "Leptocottus",
           "Oligocottus",
           "Scorpaenichthys",
           "Crassula",
           "Dudleya",
           "Parvisedum",
           "Sedum",
           "Arborimus",
           "Clethrionomys",
           "Microtus",
           "Neotoma",
           "Ondatra",
           "Onychomys",
           "Peromyscus",
           "Phenacomys",
           "Reithrodontomys",
           "Crossosoma",
           "Crotaphytus",
           "Gambelia",
           "Cryptacanthodes",
           "Coccyzus",
           "Geococcyx",
           "Brandegea",
           "Cucurbita",
           "Marah",
           "Calocedrus",
           "Chamaecyparis",
           "Hesperocyparis",
           "Juniperus",
           "Sequoia",
           "Sequoiadendron",
           "Thuja",
           "Symphurus",
           "Carex",
           "Cyperus",
           "Dulichium",
           "Eleocharis",
           "Eriophorum",
           "Fimbristylis",
           "Isolepis",
           "Lipocarpha",
           "Schoenoplectus",
           "Scirpus",
           "Carassius",
           "Cystopteris",
           "Datisca",
           "Delphinus",
           "Globicephala",
           "Grampus",
           "Lagenorhynchus",
           "Lissodelphis",
           "Orcinus",
           "Pseudorca",
           "Dermochelys",
           "Didelphis",
           "Diomedea",
           "Zapus",
           "Dipsacus",
           "Drosera",
           "Dryopteris",
           "Polystichum",
           "Pholisma",
           "Tiquilia",
           "Amphistichus",
           "Cymatogaster",
           "Embiotoca",
           "Hyperprosopon",
           "Micrometrus",
           "Phanerodon",
           "Rhacochilus",
           "Actinemys",
           "Engraulis",
           "Ephedra",
           "Equisetum",
           "Erethizon",
           "Allotropa",
           "Arbutus",
           "Arctostaphylos",
           "Cassiope",
           "Chimaphila",
           "Erica",
           "Gaultheria",
           "Hemitomes",
           "Ledum",
           "Menziesia",
           "Moneses",
           "Monotropa",
           "Orthilia",
           "Phyllodoce",
           "Pityopus",
           "Pleuricospora",
           "Pterospora",
           "Pyrola",
           "Rhododendron",
           "Sarcodes",
           "Vaccinium",
           "Escallonia",
           "Eschrichtius",
           "Coleonyx",
           "Bernardia",
           "Chamaesyce",
           "Croton",
           "Ditaxis",
           "Eremocarpus",
           "Euphorbia",
           "Stillingia",
           "Acacia",
           "Acmispon",
           "Astragalus",
           "Caesalpinia",
           "Cercis",
           "Cytisus",
           "Dalea",
           "Genista",
           "Glycyrrhiza",
           "Hoffmannseggia",
           "Hosackia",
           "Lathyrus",
           "Lotus",
           "Lupinus",
           "Marina",
           "Medicago",
           "Melilotus",
           "Olneya",
           "Oxytropis",
           "Prosopis",
           "Psorothamnus",
           "Robinia",
           "Rupertia",
           "Senna",
           "Spartium",
           "Trifolium",
           "Vicia",
           "Wisteria",
           "Castanopsis",
           "Chrysolepis",
           "Quercus",
           "Falco",
           "Felis",
           "Lynx",
           "Puma",
           "Fregata",
           "Carduelis",
           "Carpodacus",
           "Coccothraustes",
           "Leucosticte",
           "Loxia",
           "Pinicola",
           "Spinus",
           "Microgadus",
           "Garrya",
           "Gasterosteus",
           "Gavia",
           "Centaurium",
           "Gentiana",
           "Gentianopsis",
           "Swertia",
           "Zeltnera",
           "Thomomys",
           "Erodium",
           "Geranium",
           "Gobiesox",
           "Clevelandia",
           "Lepidogobius",
           "Rhinogobiops",
           "Cyclothone",
           "Ribes",
           "Haematopus",
           "Heliotropium",
           "Blepsias",
           "Nautichthys",
           "Chaetodipus",
           "Dipodomys",
           "Perognathus",
           "Hexagrammos",
           "Ophiodon",
           "Oxylebius",
           "Hexanchus",
           "Hirundo",
           "Petrochelidon",
           "Progne",
           "Riparia",
           "Stelgidopteryx",
           "Tachycineta",
           "Philadelphus",
           "Whipplea",
           "Oceanodroma",
           "Elodea",
           "Draperia",
           "Eucrypta",
           "Hesperochiron",
           "Hydrophyllum",
           "Nemophila",
           "Phacelia",
           "Pholistoma",
           "Pseudacris",
           "Hypericum",
           "Berardius",
           "Mesoplodon",
           "Ziphius",
           "Icosteus",
           "Ameiurus",
           "Ictalurus",
           "Agelaius",
           "Dolichonyx",
           "Euphagus",
           "Icterus",
           "Molothrus",
           "Quiscalus",
           "Sturnella",
           "Xanthocephalus",
           "Dipsosaurus",
           "Sauromalus",
           "Sceloporus",
           "Urosaurus",
           "Uta",
           "Iris",
           "Sisyrinchium",
           "Isoetes",
           "Juglans",
           "Juncus",
           "Luzula",
           "Triglochin",
           "Kogia",
           "Krameria",
           "Agastache",
           "Clinopodium",
           "Glechoma",
           "Hyptis",
           "Lamium",
           "Marrubium",
           "Mentha",
           "Monardella",
           "Salazaria",
           "Salvia",
           "Scutellaria",
           "Stachys",
           "Trichostema",
           "Isurus",
           "Lamna",
           "Lanius",
           "Chlidonias",
           "Larus",
           "Rissa",
           "Sterna",
           "Xema",
           "Umbellularia",
           "Utricularia",
           "Lepus",
           "Sylvilagus",
           "Rena",
           "Hesperoleucus",
           "Mylocheilus",
           "Notemigonus",
           "Pimephales",
           "Rhinichthys",
           "Calochortus",
           "Clintonia",
           "Disporum",
           "Erythronium",
           "Fritillaria",
           "Lilium",
           "Prosartes",
           "Scoliopus",
           "Floerkea",
           "Limnanthes",
           "Hesperolinon",
           "Linum",
           "Liparis",
           "Mentzelia",
           "Luvarus",
           "Lycopodium",
           "Lythrum",
           "Punica",
           "Albatrossia",
           "Coryphaenoides",
           "Liriodendron",
           "Magnolia",
           "Caulolatilus",
           "Ayenia",
           "Eremalche",
           "Hibiscus",
           "Iliamna",
           "Malacothamnus",
           "Malva",
           "Modiola",
           "Sidalcea",
           "Sphaeralcea",
           "Pseudotrillium",
           "Toxicoscordion",
           "Trillium",
           "Veratrum",
           "Xerophyllum",
           "Zigadenus",
           "Melia",
           "Menyanthes",
           "Mephitis",
           "Spilogale",
           "Merluccius",
           "Dumetella",
           "Mimus",
           "Oreoscoptes",
           "Toxostoma",
           "Mola",
           "Mollugo",
           "Eumops",
           "Tadarida",
           "Calandrinia",
           "Calyptridium",
           "Claytonia",
           "Lewisia",
           "Montia",
           "Ficus",
           "Morus",
           "Antimora",
           "Morone",
           "Anthus",
           "Mus",
           "Rattus",
           "Martes",
           "Mustela",
           "Taxidea",
           "Stenobrachius",
           "Tarletonbeania",
           "Myliobatis",
           "Myrica",
           "Eucalyptus",
           "Narthecium",
           "Notorynchus",
           "Abronia",
           "Allionia",
           "Boerhavia",
           "Mirabilis",
           "Nuphar",
           "Ochotona",
           "Callipepla",
           "Oreortyx",
           "Forestiera",
           "Fraxinus",
           "Ligustrum",
           "Menodora",
           "Olea",
           "Syringa",
           "Camissonia",
           "Clarkia",
           "Epilobium",
           "Gayophytum",
           "Ludwigia",
           "Oenothera",
           "Ophichthus",
           "Chilara",
           "Botrychium",
           "Sceptridium",
           "Calypso",
           "Cephalanthera",
           "Corallorhiza",
           "Corallorrhiza",
           "Cypripedium",
           "Epipactis",
           "Goodyera",
           "Listera",
           "Piperia",
           "Platanthera",
           "Spiranthes",
           "Allocyttus",
           "Castilleja",
           "Kopsiopsis",
           "Orobanche",
           "Parentucellia",
           "Pedicularis",
           "Triphysaria",
           "Allosmerus",
           "Hypomesus",
           "Spirinchus",
           "Thaleichthys",
           "Callorhinus",
           "Eumetopias",
           "Zalophus",
           "Oxalis",
           "Pandion",
           "Argemone",
           "Dendromecon",
           "Dicentra",
           "Eschscholzia",
           "Meconella",
           "Platystemon",
           "Stylomecon",
           "Citharichthys",
           "Paralichthys",
           "Baeolophus",
           "Parus",
           "Poecile",
           "Cardellina",
           "Dendroica",
           "Geothlypis",
           "Icteria",
           "Mniotilta",
           "Myioborus",
           "Oporornis",
           "Oreothlypis",
           "Parkesia",
           "Parula",
           "Protonotaria",
           "Seiurus",
           "Setophaga",
           "Vermivora",
           "Wilsonia",
           "Aimophila",
           "Ammodramus",
           "Amphispiza",
           "Calamospiza",
           "Chondestes",
           "Junco",
           "Melospiza",
           "Melozone",
           "Passerculus",
           "Passerella",
           "Pipilo",
           "Pooecetes",
           "Spizella",
           "Zonotrichia",
           "Passer",
           "Pelecanus",
           "Perca",
           "Lampetra",
           "Phalacrocorax",
           "Alectoris",
           "Bonasa",
           "Dendragapus",
           "Lagopus",
           "Meleagris",
           "Pavo",
           "Phasianus",
           "Mirounga",
           "Phoca",
           "Phocoena",
           "Phocoenoides",
           "Apodichthys",
           "Pholis",
           "Mimulus",
           "Callisaurus",
           "Phrynosoma",
           "Uma",
           "Macrotus",
           "Physeter",
           "Colaptes",
           "Dryocopus",
           "Melanerpes",
           "Picoides",
           "Sphyrapicus",
           "Tetracoccus",
           "Abies",
           "Picea",
           "Pinus",
           "Tsuga",
           "Antirrhinum",
           "Callitriche",
           "Collinsia",
           "Cymbalaria",
           "Digitalis",
           "Hippuris",
           "Keckiella",
           "Limosella",
           "Mohavea",
           "Penstemon",
           "Plantago",
           "Synthyris",
           "Tonella",
           "Veronica",
           "Platanus",
           "Aneides",
           "Batrachoseps",
           "Ensatina",
           "Hydromantes",
           "Plethodon",
           "Glyptocephalus",
           "Isopsetta",
           "Lepidopsetta",
           "Lyopsetta",
           "Microstomus",
           "Parophrys",
           "Platichthys",
           "Pleuronichthys",
           "Psettichthys",
           "Achnatherum",
           "Agrostis",
           "Aira",
           "Alopecurus",
           "Ammophila",
           "Anthoxanthum",
           "Aristida",
           "Arrhenatherum",
           "Arundo",
           "Avena",
           "Bothriochloa",
           "Bouteloua",
           "Briza",
           "Bromus",
           "Calamagrostis",
           "Cinna",
           "Cortaderia",
           "Crypsis",
           "Cynodon",
           "Cynosurus",
           "Dactylis",
           "Danthonia",
           "Deschampsia",
           "Digitaria",
           "Distichlis",
           "Echinochloa",
           "Elymus",
           "Eragrostis",
           "Erioneuron",
           "Festuca",
           "Gastridium",
           "Glyceria",
           "Holcus",
           "Hordeum",
           "Koeleria",
           "Lamarckia",
           "Leptochloa",
           "Leymus",
           "Lolium",
           "Melica",
           "Muhlenbergia",
           "Nassella",
           "Panicum",
           "Pascopyrum",
           "Paspalum",
           "Phalaris",
           "Phleum",
           "Phragmites",
           "Piptatherum",
           "Pleuraphis",
           "Pleuropogon",
           "Poa",
           "Polypogon",
           "Ptilagrostis",
           "Puccinellia",
           "Rytidosperma",
           "Schismus",
           "Scribneria",
           "Setaria",
           "Sorghum",
           "Sporobolus",
           "Stipa",
           "Torreyochloa",
           "Tridens",
           "Trisetum",
           "Triticum",
           "Vulpia",
           "Aechmophorus",
           "Podiceps",
           "Podilymbus",
           "Allophyllum",
           "Collomia",
           "Eriastrum",
           "Gilia",
           "Leptodactylon",
           "Leptosiphon",
           "Linanthus",
           "Loeseliastrum",
           "Microsteris",
           "Navarretia",
           "Phlox",
           "Polemonium",
           "Polioptila",
           "Polygala",
           "Centrostegia",
           "Chorizanthe",
           "Eriogonum",
           "Fallopia",
           "Oxyria",
           "Oxytheca",
           "Persicaria",
           "Polygonum",
           "Pterostegia",
           "Rumex",
           "Polypodium",
           "Portulaca",
           "Potamogeton",
           "Anagallis",
           "Dodecatheon",
           "Primula",
           "Trientalis",
           "Fulmarus",
           "Puffinus",
           "Bassariscus",
           "Procyon",
           "Adiantum",
           "Argyrochosma",
           "Aspidotis",
           "Cheilanthes",
           "Cryptogramma",
           "Pellaea",
           "Pentagramma",
           "Phainopepla",
           "Raja",
           "Fulica",
           "Gallinula",
           "Porzana",
           "Rallus",
           "Rana",
           "Aconitum",
           "Actaea",
           "Anemone",
           "Aquilegia",
           "Caltha",
           "Clematis",
           "Coptis",
           "Delphinium",
           "Enemion",
           "Isopyrum",
           "Kumlienia",
           "Ranunculus",
           "Thalictrum",
           "Himantopus",
           "Recurvirostra",
           "Regulus",
           "Auriparus",
           "Oligomeris",
           "Ceanothus",
           "Colubrina",
           "Frangula",
           "Rhamnus",
           "Rhamphocottus",
           "Rhyacotriton",
           "Adenostoma",
           "Amelanchier",
           "Aphanes",
           "Cercocarpus",
           "Chamaebatia",
           "Coleogyne",
           "Comarum",
           "Cotoneaster",
           "Crataegus",
           "Fragaria",
           "Geum",
           "Heteromeles",
           "Holodiscus",
           "Horkelia",
           "Horkeliella",
           "Ivesia",
           "Malus",
           "Oemleria",
           "Physocarpus",
           "Potentilla",
           "Poterium",
           "Prunus",
           "Pyracantha",
           "Pyrus",
           "Rosa",
           "Rubus",
           "Sanguisorba",
           "Sibbaldia",
           "Sorbus",
           "Spiraea",
           "Galium",
           "Kelloggia",
           "Sherardia",
           "Thamnosma",
           "Taricha",
           "Populus",
           "Salix",
           "Oncorhynchus",
           "Salmo",
           "Salvelinus",
           "Azolla",
           "Arceuthobium",
           "Phoradendron",
           "Acer",
           "Aesculus",
           "Anemopsis",
           "Boykinia",
           "Chrysosplenium",
           "Darmera",
           "Heuchera",
           "Lithophragma",
           "Micranthes",
           "Mitella",
           "Ozomelis",
           "Pectiantia",
           "Saxifraga",
           "Tellima",
           "Tolmiea",
           "Atractoscion",
           "Genyonemus",
           "Eumeces",
           "Plestiodon",
           "Ammospermophilus",
           "Glaucomys",
           "Marmota",
           "Sciurus",
           "Spermophilus",
           "Tamias",
           "Tamiasciurus",
           "Actitis",
           "Aphriza",
           "Bartramia",
           "Calidris",
           "Catoptrophorus",
           "Gallinago",
           "Heteroscelus",
           "Limnodromus",
           "Limosa",
           "Numenius",
           "Phalaropus",
           "Philomachus",
           "Tringa",
           "Sebastes",
           "Buddleja",
           "Scrophularia",
           "Verbascum",
           "Apristurus",
           "Selaginella",
           "Castela",
           "Simmondsia",
           "Sitta",
           "Datura",
           "Lycium",
           "Nicotiana",
           "Physalis",
           "Solanum",
           "Notiosorex",
           "Sorex",
           "Squalus",
           "Squatina",
           "Staphylea",
           "Stercorarius",
           "Anoplarchus",
           "Cebidichthys",
           "Chirolophis",
           "Lumpenus",
           "Phytichthys",
           "Xiphister",
           "Aegolius",
           "Asio",
           "Athene",
           "Bubo",
           "Glaucidium",
           "Megascops",
           "Nyctea",
           "Otus",
           "Strix",
           "Peprilus",
           "Sturnus",
           "Sus",
           "Chamaea",
           "Syngnathus",
           "Neurotrichus",
           "Scapanus",
           "Tamarix",
           "Taxus",
           "Torreya",
           "Cnemidophorus",
           "Gopherus",
           "Camellia",
           "Plegadis",
           "Trachipterus",
           "Galeorhinus",
           "Mustelus",
           "Triakis",
           "Trichodon",
           "Archilochus",
           "Calypte",
           "Selasphorus",
           "Stellula",
           "Campylorhynchus",
           "Catherpes",
           "Cistothorus",
           "Salpinctes",
           "Thryomanes",
           "Troglodytes",
           "Catharus",
           "Ixoreus",
           "Myadestes",
           "Sialia",
           "Turdus",
           "Sparganium",
           "Typha",
           "Contopus",
           "Empidonax",
           "Myiarchus",
           "Pyrocephalus",
           "Sayornis",
           "Tyrannus",
           "Tyto",
           "Urolophus",
           "Ursus",
           "Hesperocnide",
           "Parietaria",
           "Urtica",
           "Centranthus",
           "Plectritis",
           "Valeriana",
           "Aloysia",
           "Verbena",
           "Antrozous",
           "Corynorhinus",
           "Eptesicus",
           "Euderma",
           "Lasionycteris",
           "Lasiurus",
           "Myotis",
           "Pipistrellus",
           "Plecotus",
           "Viola",
           "Crotalus",
           "Vireo",
           "Ampelopsis",
           "Parthenocissus",
           "Vitis",
           "Woodsia",
           "Xantusia",
           "Lycodes",
           "Fagonia",
           "Kallstroemia",
           "Larrea",
           "Tribulus"
          ],
          "line": {
           "color": "black",
           "width": 0.5
          },
          "pad": 15,
          "thickness": 20
         },
         "type": "sankey"
        }
       ],
       "layout": {
        "font": {
         "size": 14
        },
        "height": 800,
        "template": {
         "data": {
          "bar": [
           {
            "error_x": {
             "color": "#2a3f5f"
            },
            "error_y": {
             "color": "#2a3f5f"
            },
            "marker": {
             "line": {
              "color": "#E5ECF6",
              "width": 0.5
             },
             "pattern": {
              "fillmode": "overlay",
              "size": 10,
              "solidity": 0.2
             }
            },
            "type": "bar"
           }
          ],
          "barpolar": [
           {
            "marker": {
             "line": {
              "color": "#E5ECF6",
              "width": 0.5
             },
             "pattern": {
              "fillmode": "overlay",
              "size": 10,
              "solidity": 0.2
             }
            },
            "type": "barpolar"
           }
          ],
          "carpet": [
           {
            "aaxis": {
             "endlinecolor": "#2a3f5f",
             "gridcolor": "white",
             "linecolor": "white",
             "minorgridcolor": "white",
             "startlinecolor": "#2a3f5f"
            },
            "baxis": {
             "endlinecolor": "#2a3f5f",
             "gridcolor": "white",
             "linecolor": "white",
             "minorgridcolor": "white",
             "startlinecolor": "#2a3f5f"
            },
            "type": "carpet"
           }
          ],
          "choropleth": [
           {
            "colorbar": {
             "outlinewidth": 0,
             "ticks": ""
            },
            "type": "choropleth"
           }
          ],
          "contour": [
           {
            "colorbar": {
             "outlinewidth": 0,
             "ticks": ""
            },
            "colorscale": [
             [
              0,
              "#0d0887"
             ],
             [
              0.1111111111111111,
              "#46039f"
             ],
             [
              0.2222222222222222,
              "#7201a8"
             ],
             [
              0.3333333333333333,
              "#9c179e"
             ],
             [
              0.4444444444444444,
              "#bd3786"
             ],
             [
              0.5555555555555556,
              "#d8576b"
             ],
             [
              0.6666666666666666,
              "#ed7953"
             ],
             [
              0.7777777777777778,
              "#fb9f3a"
             ],
             [
              0.8888888888888888,
              "#fdca26"
             ],
             [
              1,
              "#f0f921"
             ]
            ],
            "type": "contour"
           }
          ],
          "contourcarpet": [
           {
            "colorbar": {
             "outlinewidth": 0,
             "ticks": ""
            },
            "type": "contourcarpet"
           }
          ],
          "heatmap": [
           {
            "colorbar": {
             "outlinewidth": 0,
             "ticks": ""
            },
            "colorscale": [
             [
              0,
              "#0d0887"
             ],
             [
              0.1111111111111111,
              "#46039f"
             ],
             [
              0.2222222222222222,
              "#7201a8"
             ],
             [
              0.3333333333333333,
              "#9c179e"
             ],
             [
              0.4444444444444444,
              "#bd3786"
             ],
             [
              0.5555555555555556,
              "#d8576b"
             ],
             [
              0.6666666666666666,
              "#ed7953"
             ],
             [
              0.7777777777777778,
              "#fb9f3a"
             ],
             [
              0.8888888888888888,
              "#fdca26"
             ],
             [
              1,
              "#f0f921"
             ]
            ],
            "type": "heatmap"
           }
          ],
          "heatmapgl": [
           {
            "colorbar": {
             "outlinewidth": 0,
             "ticks": ""
            },
            "colorscale": [
             [
              0,
              "#0d0887"
             ],
             [
              0.1111111111111111,
              "#46039f"
             ],
             [
              0.2222222222222222,
              "#7201a8"
             ],
             [
              0.3333333333333333,
              "#9c179e"
             ],
             [
              0.4444444444444444,
              "#bd3786"
             ],
             [
              0.5555555555555556,
              "#d8576b"
             ],
             [
              0.6666666666666666,
              "#ed7953"
             ],
             [
              0.7777777777777778,
              "#fb9f3a"
             ],
             [
              0.8888888888888888,
              "#fdca26"
             ],
             [
              1,
              "#f0f921"
             ]
            ],
            "type": "heatmapgl"
           }
          ],
          "histogram": [
           {
            "marker": {
             "pattern": {
              "fillmode": "overlay",
              "size": 10,
              "solidity": 0.2
             }
            },
            "type": "histogram"
           }
          ],
          "histogram2d": [
           {
            "colorbar": {
             "outlinewidth": 0,
             "ticks": ""
            },
            "colorscale": [
             [
              0,
              "#0d0887"
             ],
             [
              0.1111111111111111,
              "#46039f"
             ],
             [
              0.2222222222222222,
              "#7201a8"
             ],
             [
              0.3333333333333333,
              "#9c179e"
             ],
             [
              0.4444444444444444,
              "#bd3786"
             ],
             [
              0.5555555555555556,
              "#d8576b"
             ],
             [
              0.6666666666666666,
              "#ed7953"
             ],
             [
              0.7777777777777778,
              "#fb9f3a"
             ],
             [
              0.8888888888888888,
              "#fdca26"
             ],
             [
              1,
              "#f0f921"
             ]
            ],
            "type": "histogram2d"
           }
          ],
          "histogram2dcontour": [
           {
            "colorbar": {
             "outlinewidth": 0,
             "ticks": ""
            },
            "colorscale": [
             [
              0,
              "#0d0887"
             ],
             [
              0.1111111111111111,
              "#46039f"
             ],
             [
              0.2222222222222222,
              "#7201a8"
             ],
             [
              0.3333333333333333,
              "#9c179e"
             ],
             [
              0.4444444444444444,
              "#bd3786"
             ],
             [
              0.5555555555555556,
              "#d8576b"
             ],
             [
              0.6666666666666666,
              "#ed7953"
             ],
             [
              0.7777777777777778,
              "#fb9f3a"
             ],
             [
              0.8888888888888888,
              "#fdca26"
             ],
             [
              1,
              "#f0f921"
             ]
            ],
            "type": "histogram2dcontour"
           }
          ],
          "mesh3d": [
           {
            "colorbar": {
             "outlinewidth": 0,
             "ticks": ""
            },
            "type": "mesh3d"
           }
          ],
          "parcoords": [
           {
            "line": {
             "colorbar": {
              "outlinewidth": 0,
              "ticks": ""
             }
            },
            "type": "parcoords"
           }
          ],
          "pie": [
           {
            "automargin": true,
            "type": "pie"
           }
          ],
          "scatter": [
           {
            "fillpattern": {
             "fillmode": "overlay",
             "size": 10,
             "solidity": 0.2
            },
            "type": "scatter"
           }
          ],
          "scatter3d": [
           {
            "line": {
             "colorbar": {
              "outlinewidth": 0,
              "ticks": ""
             }
            },
            "marker": {
             "colorbar": {
              "outlinewidth": 0,
              "ticks": ""
             }
            },
            "type": "scatter3d"
           }
          ],
          "scattercarpet": [
           {
            "marker": {
             "colorbar": {
              "outlinewidth": 0,
              "ticks": ""
             }
            },
            "type": "scattercarpet"
           }
          ],
          "scattergeo": [
           {
            "marker": {
             "colorbar": {
              "outlinewidth": 0,
              "ticks": ""
             }
            },
            "type": "scattergeo"
           }
          ],
          "scattergl": [
           {
            "marker": {
             "colorbar": {
              "outlinewidth": 0,
              "ticks": ""
             }
            },
            "type": "scattergl"
           }
          ],
          "scattermapbox": [
           {
            "marker": {
             "colorbar": {
              "outlinewidth": 0,
              "ticks": ""
             }
            },
            "type": "scattermapbox"
           }
          ],
          "scatterpolar": [
           {
            "marker": {
             "colorbar": {
              "outlinewidth": 0,
              "ticks": ""
             }
            },
            "type": "scatterpolar"
           }
          ],
          "scatterpolargl": [
           {
            "marker": {
             "colorbar": {
              "outlinewidth": 0,
              "ticks": ""
             }
            },
            "type": "scatterpolargl"
           }
          ],
          "scatterternary": [
           {
            "marker": {
             "colorbar": {
              "outlinewidth": 0,
              "ticks": ""
             }
            },
            "type": "scatterternary"
           }
          ],
          "surface": [
           {
            "colorbar": {
             "outlinewidth": 0,
             "ticks": ""
            },
            "colorscale": [
             [
              0,
              "#0d0887"
             ],
             [
              0.1111111111111111,
              "#46039f"
             ],
             [
              0.2222222222222222,
              "#7201a8"
             ],
             [
              0.3333333333333333,
              "#9c179e"
             ],
             [
              0.4444444444444444,
              "#bd3786"
             ],
             [
              0.5555555555555556,
              "#d8576b"
             ],
             [
              0.6666666666666666,
              "#ed7953"
             ],
             [
              0.7777777777777778,
              "#fb9f3a"
             ],
             [
              0.8888888888888888,
              "#fdca26"
             ],
             [
              1,
              "#f0f921"
             ]
            ],
            "type": "surface"
           }
          ],
          "table": [
           {
            "cells": {
             "fill": {
              "color": "#EBF0F8"
             },
             "line": {
              "color": "white"
             }
            },
            "header": {
             "fill": {
              "color": "#C8D4E3"
             },
             "line": {
              "color": "white"
             }
            },
            "type": "table"
           }
          ]
         },
         "layout": {
          "annotationdefaults": {
           "arrowcolor": "#2a3f5f",
           "arrowhead": 0,
           "arrowwidth": 1
          },
          "autotypenumbers": "strict",
          "coloraxis": {
           "colorbar": {
            "outlinewidth": 0,
            "ticks": ""
           }
          },
          "colorscale": {
           "diverging": [
            [
             0,
             "#8e0152"
            ],
            [
             0.1,
             "#c51b7d"
            ],
            [
             0.2,
             "#de77ae"
            ],
            [
             0.3,
             "#f1b6da"
            ],
            [
             0.4,
             "#fde0ef"
            ],
            [
             0.5,
             "#f7f7f7"
            ],
            [
             0.6,
             "#e6f5d0"
            ],
            [
             0.7,
             "#b8e186"
            ],
            [
             0.8,
             "#7fbc41"
            ],
            [
             0.9,
             "#4d9221"
            ],
            [
             1,
             "#276419"
            ]
           ],
           "sequential": [
            [
             0,
             "#0d0887"
            ],
            [
             0.1111111111111111,
             "#46039f"
            ],
            [
             0.2222222222222222,
             "#7201a8"
            ],
            [
             0.3333333333333333,
             "#9c179e"
            ],
            [
             0.4444444444444444,
             "#bd3786"
            ],
            [
             0.5555555555555556,
             "#d8576b"
            ],
            [
             0.6666666666666666,
             "#ed7953"
            ],
            [
             0.7777777777777778,
             "#fb9f3a"
            ],
            [
             0.8888888888888888,
             "#fdca26"
            ],
            [
             1,
             "#f0f921"
            ]
           ],
           "sequentialminus": [
            [
             0,
             "#0d0887"
            ],
            [
             0.1111111111111111,
             "#46039f"
            ],
            [
             0.2222222222222222,
             "#7201a8"
            ],
            [
             0.3333333333333333,
             "#9c179e"
            ],
            [
             0.4444444444444444,
             "#bd3786"
            ],
            [
             0.5555555555555556,
             "#d8576b"
            ],
            [
             0.6666666666666666,
             "#ed7953"
            ],
            [
             0.7777777777777778,
             "#fb9f3a"
            ],
            [
             0.8888888888888888,
             "#fdca26"
            ],
            [
             1,
             "#f0f921"
            ]
           ]
          },
          "colorway": [
           "#636efa",
           "#EF553B",
           "#00cc96",
           "#ab63fa",
           "#FFA15A",
           "#19d3f3",
           "#FF6692",
           "#B6E880",
           "#FF97FF",
           "#FECB52"
          ],
          "font": {
           "color": "#2a3f5f"
          },
          "geo": {
           "bgcolor": "white",
           "lakecolor": "white",
           "landcolor": "#E5ECF6",
           "showlakes": true,
           "showland": true,
           "subunitcolor": "white"
          },
          "hoverlabel": {
           "align": "left"
          },
          "hovermode": "closest",
          "mapbox": {
           "style": "light"
          },
          "paper_bgcolor": "white",
          "plot_bgcolor": "#E5ECF6",
          "polar": {
           "angularaxis": {
            "gridcolor": "white",
            "linecolor": "white",
            "ticks": ""
           },
           "bgcolor": "#E5ECF6",
           "radialaxis": {
            "gridcolor": "white",
            "linecolor": "white",
            "ticks": ""
           }
          },
          "scene": {
           "xaxis": {
            "backgroundcolor": "#E5ECF6",
            "gridcolor": "white",
            "gridwidth": 2,
            "linecolor": "white",
            "showbackground": true,
            "ticks": "",
            "zerolinecolor": "white"
           },
           "yaxis": {
            "backgroundcolor": "#E5ECF6",
            "gridcolor": "white",
            "gridwidth": 2,
            "linecolor": "white",
            "showbackground": true,
            "ticks": "",
            "zerolinecolor": "white"
           },
           "zaxis": {
            "backgroundcolor": "#E5ECF6",
            "gridcolor": "white",
            "gridwidth": 2,
            "linecolor": "white",
            "showbackground": true,
            "ticks": "",
            "zerolinecolor": "white"
           }
          },
          "shapedefaults": {
           "line": {
            "color": "#2a3f5f"
           }
          },
          "ternary": {
           "aaxis": {
            "gridcolor": "white",
            "linecolor": "white",
            "ticks": ""
           },
           "baxis": {
            "gridcolor": "white",
            "linecolor": "white",
            "ticks": ""
           },
           "bgcolor": "#E5ECF6",
           "caxis": {
            "gridcolor": "white",
            "linecolor": "white",
            "ticks": ""
           }
          },
          "title": {
           "x": 0.05
          },
          "xaxis": {
           "automargin": true,
           "gridcolor": "white",
           "linecolor": "white",
           "ticks": "",
           "title": {
            "standoff": 15
           },
           "zerolinecolor": "white",
           "zerolinewidth": 2
          },
          "yaxis": {
           "automargin": true,
           "gridcolor": "white",
           "linecolor": "white",
           "ticks": "",
           "title": {
            "standoff": 15
           },
           "zerolinecolor": "white",
           "zerolinewidth": 2
          }
         }
        },
        "title": {
         "text": "all"
        }
       }
      }
     },
     "metadata": {},
     "output_type": "display_data"
    }
   ],
   "source": [
    "#top_orders = df_combined[(df_combined['Park Code'] == 'REDW')]\n",
    "\n",
    "# Step 1: Get the counts for order -> family\n",
    "order_family_count = df_combined.groupby(['Order', 'Family']).size().reset_index(name='count')\n",
    "\n",
    "# Step 2: Get the counts for family -> genus\n",
    "family_genus_count = df_combined.groupby(['Family', 'Genus']).size().reset_index(name='count')\n",
    "\n",
    "# Combine the order -> family and family -> genus into one list of source, target, and value for Sankey\n",
    "# For order -> family\n",
    "order_family_links = order_family_count[['Order', 'Family', 'count']].rename(columns={'Order': 'source', 'Family': 'target', 'count': 'value'})\n",
    "\n",
    "# For family -> genus\n",
    "family_genus_links = family_genus_count[['Family', 'Genus', 'count']].rename(columns={'Family': 'source', 'Genus': 'target', 'count': 'value'})\n",
    "\n",
    "# Concatenate the two link DataFrames\n",
    "links = pd.concat([order_family_links, family_genus_links], ignore_index=True)\n",
    "\n",
    "# Create a list of nodes\n",
    "nodes = list(pd.concat([order_family_count['Order'], order_family_count['Family'], family_genus_count['Genus']]).unique())\n",
    "\n",
    "# Map the nodes to indices\n",
    "nodes_dict = {node: i for i, node in enumerate(nodes)}\n",
    "\n",
    "# Add node indices to the links\n",
    "links['source'] = links['source'].map(nodes_dict)\n",
    "links['target'] = links['target'].map(nodes_dict)\n",
    "\n",
    "# Create the Sankey diagram\n",
    "fig = go.Figure(go.Sankey(\n",
    "    node=dict(\n",
    "        pad=15,\n",
    "        thickness=20,\n",
    "        line=dict(color=\"black\", width=0.5),\n",
    "        label=nodes\n",
    "    ),\n",
    "    link=dict(\n",
    "        source=links['source'],\n",
    "        target=links['target'],\n",
    "        value=links['value']\n",
    "    )\n",
    "))\n",
    "\n",
    "fig.update_layout(title_text=\"all\", font_size=14, height=800)\n",
    "fig.show()"
   ]
  },
  {
   "cell_type": "code",
   "execution_count": 9,
   "id": "053c7783",
   "metadata": {},
   "outputs": [
    {
     "data": {
      "application/vnd.plotly.v1+json": {
       "config": {
        "plotlyServerURL": "https://plot.ly"
       },
       "data": [
        {
         "link": {
          "source": [
           0,
           1,
           2,
           3,
           4,
           5,
           6,
           7,
           11,
           9,
           8,
           10,
           17,
           16,
           15,
           13,
           12,
           14,
           19,
           22,
           23,
           20,
           18,
           21
          ],
          "target": [
           6,
           7,
           8,
           9,
           10,
           11,
           12,
           13,
           14,
           15,
           16,
           17,
           18,
           19,
           20,
           21,
           22,
           23,
           24,
           25,
           26,
           27,
           28,
           29
          ],
          "value": [
           17,
           381,
           51,
           87,
           67,
           390,
           12,
           62,
           251,
           37,
           21,
           29,
           6,
           5,
           13,
           10,
           4,
           20,
           1,
           1,
           3,
           3,
           2,
           3
          ]
         },
         "node": {
          "label": [
           "Amphibian",
           "Bird",
           "Fish",
           "Mammal",
           "Reptile",
           "Vascular Plant",
           "Caudata",
           "Passeriformes",
           "Scorpaeniformes",
           "Rodentia",
           "Squamata",
           "Poales",
           "Plethodontidae",
           "Passerellidae",
           "Poaceae",
           "Cricetidae",
           "Cottidae",
           "Colubridae",
           "Thamnophis",
           "Artedius",
           "Peromyscus",
           "Zonotrichia",
           "Batrachoseps",
           "Bromus",
           "corallinus",
           "attenuatus",
           "diandrus",
           "boylii",
           "elegans",
           "atricapilla"
          ],
          "line": {
           "color": "black",
           "width": 0.5
          },
          "pad": 15,
          "thickness": 20
         },
         "type": "sankey"
        }
       ],
       "layout": {
        "template": {
         "data": {
          "bar": [
           {
            "error_x": {
             "color": "#2a3f5f"
            },
            "error_y": {
             "color": "#2a3f5f"
            },
            "marker": {
             "line": {
              "color": "#E5ECF6",
              "width": 0.5
             },
             "pattern": {
              "fillmode": "overlay",
              "size": 10,
              "solidity": 0.2
             }
            },
            "type": "bar"
           }
          ],
          "barpolar": [
           {
            "marker": {
             "line": {
              "color": "#E5ECF6",
              "width": 0.5
             },
             "pattern": {
              "fillmode": "overlay",
              "size": 10,
              "solidity": 0.2
             }
            },
            "type": "barpolar"
           }
          ],
          "carpet": [
           {
            "aaxis": {
             "endlinecolor": "#2a3f5f",
             "gridcolor": "white",
             "linecolor": "white",
             "minorgridcolor": "white",
             "startlinecolor": "#2a3f5f"
            },
            "baxis": {
             "endlinecolor": "#2a3f5f",
             "gridcolor": "white",
             "linecolor": "white",
             "minorgridcolor": "white",
             "startlinecolor": "#2a3f5f"
            },
            "type": "carpet"
           }
          ],
          "choropleth": [
           {
            "colorbar": {
             "outlinewidth": 0,
             "ticks": ""
            },
            "type": "choropleth"
           }
          ],
          "contour": [
           {
            "colorbar": {
             "outlinewidth": 0,
             "ticks": ""
            },
            "colorscale": [
             [
              0,
              "#0d0887"
             ],
             [
              0.1111111111111111,
              "#46039f"
             ],
             [
              0.2222222222222222,
              "#7201a8"
             ],
             [
              0.3333333333333333,
              "#9c179e"
             ],
             [
              0.4444444444444444,
              "#bd3786"
             ],
             [
              0.5555555555555556,
              "#d8576b"
             ],
             [
              0.6666666666666666,
              "#ed7953"
             ],
             [
              0.7777777777777778,
              "#fb9f3a"
             ],
             [
              0.8888888888888888,
              "#fdca26"
             ],
             [
              1,
              "#f0f921"
             ]
            ],
            "type": "contour"
           }
          ],
          "contourcarpet": [
           {
            "colorbar": {
             "outlinewidth": 0,
             "ticks": ""
            },
            "type": "contourcarpet"
           }
          ],
          "heatmap": [
           {
            "colorbar": {
             "outlinewidth": 0,
             "ticks": ""
            },
            "colorscale": [
             [
              0,
              "#0d0887"
             ],
             [
              0.1111111111111111,
              "#46039f"
             ],
             [
              0.2222222222222222,
              "#7201a8"
             ],
             [
              0.3333333333333333,
              "#9c179e"
             ],
             [
              0.4444444444444444,
              "#bd3786"
             ],
             [
              0.5555555555555556,
              "#d8576b"
             ],
             [
              0.6666666666666666,
              "#ed7953"
             ],
             [
              0.7777777777777778,
              "#fb9f3a"
             ],
             [
              0.8888888888888888,
              "#fdca26"
             ],
             [
              1,
              "#f0f921"
             ]
            ],
            "type": "heatmap"
           }
          ],
          "heatmapgl": [
           {
            "colorbar": {
             "outlinewidth": 0,
             "ticks": ""
            },
            "colorscale": [
             [
              0,
              "#0d0887"
             ],
             [
              0.1111111111111111,
              "#46039f"
             ],
             [
              0.2222222222222222,
              "#7201a8"
             ],
             [
              0.3333333333333333,
              "#9c179e"
             ],
             [
              0.4444444444444444,
              "#bd3786"
             ],
             [
              0.5555555555555556,
              "#d8576b"
             ],
             [
              0.6666666666666666,
              "#ed7953"
             ],
             [
              0.7777777777777778,
              "#fb9f3a"
             ],
             [
              0.8888888888888888,
              "#fdca26"
             ],
             [
              1,
              "#f0f921"
             ]
            ],
            "type": "heatmapgl"
           }
          ],
          "histogram": [
           {
            "marker": {
             "pattern": {
              "fillmode": "overlay",
              "size": 10,
              "solidity": 0.2
             }
            },
            "type": "histogram"
           }
          ],
          "histogram2d": [
           {
            "colorbar": {
             "outlinewidth": 0,
             "ticks": ""
            },
            "colorscale": [
             [
              0,
              "#0d0887"
             ],
             [
              0.1111111111111111,
              "#46039f"
             ],
             [
              0.2222222222222222,
              "#7201a8"
             ],
             [
              0.3333333333333333,
              "#9c179e"
             ],
             [
              0.4444444444444444,
              "#bd3786"
             ],
             [
              0.5555555555555556,
              "#d8576b"
             ],
             [
              0.6666666666666666,
              "#ed7953"
             ],
             [
              0.7777777777777778,
              "#fb9f3a"
             ],
             [
              0.8888888888888888,
              "#fdca26"
             ],
             [
              1,
              "#f0f921"
             ]
            ],
            "type": "histogram2d"
           }
          ],
          "histogram2dcontour": [
           {
            "colorbar": {
             "outlinewidth": 0,
             "ticks": ""
            },
            "colorscale": [
             [
              0,
              "#0d0887"
             ],
             [
              0.1111111111111111,
              "#46039f"
             ],
             [
              0.2222222222222222,
              "#7201a8"
             ],
             [
              0.3333333333333333,
              "#9c179e"
             ],
             [
              0.4444444444444444,
              "#bd3786"
             ],
             [
              0.5555555555555556,
              "#d8576b"
             ],
             [
              0.6666666666666666,
              "#ed7953"
             ],
             [
              0.7777777777777778,
              "#fb9f3a"
             ],
             [
              0.8888888888888888,
              "#fdca26"
             ],
             [
              1,
              "#f0f921"
             ]
            ],
            "type": "histogram2dcontour"
           }
          ],
          "mesh3d": [
           {
            "colorbar": {
             "outlinewidth": 0,
             "ticks": ""
            },
            "type": "mesh3d"
           }
          ],
          "parcoords": [
           {
            "line": {
             "colorbar": {
              "outlinewidth": 0,
              "ticks": ""
             }
            },
            "type": "parcoords"
           }
          ],
          "pie": [
           {
            "automargin": true,
            "type": "pie"
           }
          ],
          "scatter": [
           {
            "fillpattern": {
             "fillmode": "overlay",
             "size": 10,
             "solidity": 0.2
            },
            "type": "scatter"
           }
          ],
          "scatter3d": [
           {
            "line": {
             "colorbar": {
              "outlinewidth": 0,
              "ticks": ""
             }
            },
            "marker": {
             "colorbar": {
              "outlinewidth": 0,
              "ticks": ""
             }
            },
            "type": "scatter3d"
           }
          ],
          "scattercarpet": [
           {
            "marker": {
             "colorbar": {
              "outlinewidth": 0,
              "ticks": ""
             }
            },
            "type": "scattercarpet"
           }
          ],
          "scattergeo": [
           {
            "marker": {
             "colorbar": {
              "outlinewidth": 0,
              "ticks": ""
             }
            },
            "type": "scattergeo"
           }
          ],
          "scattergl": [
           {
            "marker": {
             "colorbar": {
              "outlinewidth": 0,
              "ticks": ""
             }
            },
            "type": "scattergl"
           }
          ],
          "scattermapbox": [
           {
            "marker": {
             "colorbar": {
              "outlinewidth": 0,
              "ticks": ""
             }
            },
            "type": "scattermapbox"
           }
          ],
          "scatterpolar": [
           {
            "marker": {
             "colorbar": {
              "outlinewidth": 0,
              "ticks": ""
             }
            },
            "type": "scatterpolar"
           }
          ],
          "scatterpolargl": [
           {
            "marker": {
             "colorbar": {
              "outlinewidth": 0,
              "ticks": ""
             }
            },
            "type": "scatterpolargl"
           }
          ],
          "scatterternary": [
           {
            "marker": {
             "colorbar": {
              "outlinewidth": 0,
              "ticks": ""
             }
            },
            "type": "scatterternary"
           }
          ],
          "surface": [
           {
            "colorbar": {
             "outlinewidth": 0,
             "ticks": ""
            },
            "colorscale": [
             [
              0,
              "#0d0887"
             ],
             [
              0.1111111111111111,
              "#46039f"
             ],
             [
              0.2222222222222222,
              "#7201a8"
             ],
             [
              0.3333333333333333,
              "#9c179e"
             ],
             [
              0.4444444444444444,
              "#bd3786"
             ],
             [
              0.5555555555555556,
              "#d8576b"
             ],
             [
              0.6666666666666666,
              "#ed7953"
             ],
             [
              0.7777777777777778,
              "#fb9f3a"
             ],
             [
              0.8888888888888888,
              "#fdca26"
             ],
             [
              1,
              "#f0f921"
             ]
            ],
            "type": "surface"
           }
          ],
          "table": [
           {
            "cells": {
             "fill": {
              "color": "#EBF0F8"
             },
             "line": {
              "color": "white"
             }
            },
            "header": {
             "fill": {
              "color": "#C8D4E3"
             },
             "line": {
              "color": "white"
             }
            },
            "type": "table"
           }
          ]
         },
         "layout": {
          "annotationdefaults": {
           "arrowcolor": "#2a3f5f",
           "arrowhead": 0,
           "arrowwidth": 1
          },
          "autotypenumbers": "strict",
          "coloraxis": {
           "colorbar": {
            "outlinewidth": 0,
            "ticks": ""
           }
          },
          "colorscale": {
           "diverging": [
            [
             0,
             "#8e0152"
            ],
            [
             0.1,
             "#c51b7d"
            ],
            [
             0.2,
             "#de77ae"
            ],
            [
             0.3,
             "#f1b6da"
            ],
            [
             0.4,
             "#fde0ef"
            ],
            [
             0.5,
             "#f7f7f7"
            ],
            [
             0.6,
             "#e6f5d0"
            ],
            [
             0.7,
             "#b8e186"
            ],
            [
             0.8,
             "#7fbc41"
            ],
            [
             0.9,
             "#4d9221"
            ],
            [
             1,
             "#276419"
            ]
           ],
           "sequential": [
            [
             0,
             "#0d0887"
            ],
            [
             0.1111111111111111,
             "#46039f"
            ],
            [
             0.2222222222222222,
             "#7201a8"
            ],
            [
             0.3333333333333333,
             "#9c179e"
            ],
            [
             0.4444444444444444,
             "#bd3786"
            ],
            [
             0.5555555555555556,
             "#d8576b"
            ],
            [
             0.6666666666666666,
             "#ed7953"
            ],
            [
             0.7777777777777778,
             "#fb9f3a"
            ],
            [
             0.8888888888888888,
             "#fdca26"
            ],
            [
             1,
             "#f0f921"
            ]
           ],
           "sequentialminus": [
            [
             0,
             "#0d0887"
            ],
            [
             0.1111111111111111,
             "#46039f"
            ],
            [
             0.2222222222222222,
             "#7201a8"
            ],
            [
             0.3333333333333333,
             "#9c179e"
            ],
            [
             0.4444444444444444,
             "#bd3786"
            ],
            [
             0.5555555555555556,
             "#d8576b"
            ],
            [
             0.6666666666666666,
             "#ed7953"
            ],
            [
             0.7777777777777778,
             "#fb9f3a"
            ],
            [
             0.8888888888888888,
             "#fdca26"
            ],
            [
             1,
             "#f0f921"
            ]
           ]
          },
          "colorway": [
           "#636efa",
           "#EF553B",
           "#00cc96",
           "#ab63fa",
           "#FFA15A",
           "#19d3f3",
           "#FF6692",
           "#B6E880",
           "#FF97FF",
           "#FECB52"
          ],
          "font": {
           "color": "#2a3f5f"
          },
          "geo": {
           "bgcolor": "white",
           "lakecolor": "white",
           "landcolor": "#E5ECF6",
           "showlakes": true,
           "showland": true,
           "subunitcolor": "white"
          },
          "hoverlabel": {
           "align": "left"
          },
          "hovermode": "closest",
          "mapbox": {
           "style": "light"
          },
          "paper_bgcolor": "white",
          "plot_bgcolor": "#E5ECF6",
          "polar": {
           "angularaxis": {
            "gridcolor": "white",
            "linecolor": "white",
            "ticks": ""
           },
           "bgcolor": "#E5ECF6",
           "radialaxis": {
            "gridcolor": "white",
            "linecolor": "white",
            "ticks": ""
           }
          },
          "scene": {
           "xaxis": {
            "backgroundcolor": "#E5ECF6",
            "gridcolor": "white",
            "gridwidth": 2,
            "linecolor": "white",
            "showbackground": true,
            "ticks": "",
            "zerolinecolor": "white"
           },
           "yaxis": {
            "backgroundcolor": "#E5ECF6",
            "gridcolor": "white",
            "gridwidth": 2,
            "linecolor": "white",
            "showbackground": true,
            "ticks": "",
            "zerolinecolor": "white"
           },
           "zaxis": {
            "backgroundcolor": "#E5ECF6",
            "gridcolor": "white",
            "gridwidth": 2,
            "linecolor": "white",
            "showbackground": true,
            "ticks": "",
            "zerolinecolor": "white"
           }
          },
          "shapedefaults": {
           "line": {
            "color": "#2a3f5f"
           }
          },
          "ternary": {
           "aaxis": {
            "gridcolor": "white",
            "linecolor": "white",
            "ticks": ""
           },
           "baxis": {
            "gridcolor": "white",
            "linecolor": "white",
            "ticks": ""
           },
           "bgcolor": "#E5ECF6",
           "caxis": {
            "gridcolor": "white",
            "linecolor": "white",
            "ticks": ""
           }
          },
          "title": {
           "x": 0.05
          },
          "xaxis": {
           "automargin": true,
           "gridcolor": "white",
           "linecolor": "white",
           "ticks": "",
           "title": {
            "standoff": 15
           },
           "zerolinecolor": "white",
           "zerolinewidth": 2
          },
          "yaxis": {
           "automargin": true,
           "gridcolor": "white",
           "linecolor": "white",
           "ticks": "",
           "title": {
            "standoff": 15
           },
           "zerolinecolor": "white",
           "zerolinewidth": 2
          }
         }
        }
       }
      }
     },
     "metadata": {},
     "output_type": "display_data"
    }
   ],
   "source": [
    "import pandas as pd\n",
    "import plotly.graph_objects as go\n",
    "\n",
    "# Step 1: Get the counts for category -> order\n",
    "category_order_count = df_combined.groupby(['Category', 'Order']).size().reset_index(name='count')\n",
    "\n",
    "# Step 2: Get the counts for order -> family\n",
    "order_family_count = df_combined.groupby(['Order', 'Family']).size().reset_index(name='count')\n",
    "\n",
    "# Step 3: Get the counts for family -> genus\n",
    "family_genus_count = df_combined.groupby(['Family', 'Genus']).size().reset_index(name='count')\n",
    "\n",
    "# Step 4: Get the counts for genus -> species\n",
    "genus_species_count = df_combined.groupby(['Genus', 'Species']).size().reset_index(name='count')\n",
    "\n",
    "# Step 5: For each category, get the top 5 orders\n",
    "filtered_category_order_count = (\n",
    "    category_order_count.assign(rank=category_order_count.groupby('Category')['count'].rank(method='first', ascending=False))\n",
    "    .query('rank <= 1')\n",
    "    .drop(columns='rank')\n",
    ")\n",
    "\n",
    "# Step 6: For each order, get the top 5 families\n",
    "filtered_order_family_count = (\n",
    "    order_family_count[order_family_count['Order'].isin(filtered_category_order_count['Order'])]\n",
    "    .assign(rank=order_family_count.groupby('Order')['count'].rank(method='first', ascending=False))\n",
    "    .query('rank <= 1')\n",
    "    .drop(columns='rank')\n",
    ")\n",
    "\n",
    "# Step 7: For each family, get the top 1 genus\n",
    "filtered_family_genus_count = (\n",
    "    family_genus_count[family_genus_count['Family'].isin(filtered_order_family_count['Family'])]\n",
    "    .assign(rank=family_genus_count.groupby('Family')['count'].rank(method='first', ascending=False))\n",
    "    .query('rank <= 1')\n",
    "    .drop(columns='rank')\n",
    ")\n",
    "\n",
    "# Step 8: For each genus, get the top 1 species\n",
    "filtered_genus_species_count = (\n",
    "    genus_species_count[genus_species_count['Genus'].isin(filtered_family_genus_count['Genus'])]\n",
    "    .assign(rank=genus_species_count.groupby('Genus')['count'].rank(method='first', ascending=False))\n",
    "    .query('rank <= 1')\n",
    "    .drop(columns='rank')\n",
    ")\n",
    "\n",
    "# Combine the links for each level\n",
    "# Category -> Order\n",
    "category_order_links = filtered_category_order_count[['Category', 'Order', 'count']].rename(\n",
    "    columns={'Category': 'source', 'Order': 'target', 'count': 'value'}\n",
    ")\n",
    "\n",
    "# Order -> Family\n",
    "order_family_links = filtered_order_family_count[['Order', 'Family', 'count']].rename(\n",
    "    columns={'Order': 'source', 'Family': 'target', 'count': 'value'}\n",
    ")\n",
    "\n",
    "# Family -> Genus\n",
    "family_genus_links = filtered_family_genus_count[['Family', 'Genus', 'count']].rename(\n",
    "    columns={'Family': 'source', 'Genus': 'target', 'count': 'value'}\n",
    ")\n",
    "\n",
    "# Genus -> Species\n",
    "genus_species_links = filtered_genus_species_count[['Genus', 'Species', 'count']].rename(\n",
    "    columns={'Genus': 'source', 'Species': 'target', 'count': 'value'}\n",
    ")\n",
    "\n",
    "# Concatenate all the links\n",
    "links = pd.concat([category_order_links, order_family_links, family_genus_links, genus_species_links], ignore_index=True)\n",
    "\n",
    "# Create a list of nodes\n",
    "nodes = list(pd.concat([\n",
    "    filtered_category_order_count['Category'],\n",
    "    filtered_category_order_count['Order'],\n",
    "    filtered_order_family_count['Family'],\n",
    "    filtered_family_genus_count['Genus'],\n",
    "    filtered_genus_species_count['Species']\n",
    "]).unique())\n",
    "\n",
    "# Map the nodes to indices\n",
    "nodes_dict = {node: i for i, node in enumerate(nodes)}\n",
    "\n",
    "# Add node indices to the links\n",
    "links['source'] = links['source'].map(nodes_dict)\n",
    "links['target'] = links['target'].map(nodes_dict)\n",
    "\n",
    "# Create the Sankey diagram\n",
    "fig = go.Figure(go.Sankey(\n",
    "    node=dict(\n",
    "        pad=15,\n",
    "        thickness=20,\n",
    "        line=dict(color=\"black\", width=0.5),\n",
    "        label=nodes\n",
    "    ),\n",
    "    link=dict(\n",
    "        source=links['source'],\n",
    "        target=links['target'],\n",
    "        value=links['value']\n",
    "    )\n",
    "))\n",
    "\n",
    "fig.show()\n"
   ]
  },
  {
   "cell_type": "code",
   "execution_count": 29,
   "id": "8ebc5a39",
   "metadata": {},
   "outputs": [
    {
     "data": {
      "application/vnd.plotly.v1+json": {
       "config": {
        "plotlyServerURL": "https://plot.ly"
       },
       "data": [
        {
         "link": {
          "source": [
           0,
           0,
           0,
           0,
           0,
           1,
           1,
           1,
           1,
           1,
           2,
           2,
           2,
           2,
           2,
           3,
           3,
           3,
           3,
           3,
           4,
           4,
           4,
           4,
           4,
           5,
           5,
           5,
           5,
           5
          ],
          "target": [
           6,
           7,
           8,
           9,
           10,
           11,
           12,
           13,
           14,
           15,
           16,
           17,
           18,
           19,
           20,
           21,
           22,
           23,
           24,
           25,
           26,
           27,
           28,
           29,
           30,
           31,
           32,
           33,
           34,
           35
          ],
          "value": [
           1,
           2,
           2,
           2,
           2,
           3,
           3,
           3,
           3,
           3,
           2,
           2,
           2,
           2,
           2,
           3,
           3,
           3,
           3,
           3,
           2,
           2,
           2,
           2,
           3,
           3,
           3,
           3,
           3,
           3
          ]
         },
         "node": {
          "label": [
           "Amphibian",
           "Bird",
           "Fish",
           "Mammal",
           "Reptile",
           "Vascular Plant",
           "Ambystoma gracile",
           "Bufo boreas",
           "Ensatina eschscholtzii",
           "Pseudacris regilla",
           "Rana catesbeiana",
           "Accipiter cooperii",
           "Accipiter striatus",
           "Aegolius acadicus",
           "Agelaius phoeniceus",
           "Aix sponsa",
           "Catostomus occidentalis",
           "Lepomis cyanellus",
           "Notemigonus crysoleucas",
           "Oncorhynchus mykiss",
           "Salmo trutta",
           "Antrozous pallidus",
           "Bassariscus astutus",
           "Canis latrans",
           "Eptesicus fuscus",
           "Euderma maculatum",
           "Actinemys marmorata",
           "Charina bottae",
           "Coluber constrictor",
           "Contia tenuis",
           "Sceloporus graciosus",
           "Apocynum cannabinum",
           "Bromus diandrus",
           "Bromus tectorum",
           "Clematis ligusticifolia",
           "Dryopteris arguta"
          ],
          "line": {
           "color": "black",
           "width": 0.5
          },
          "pad": 15,
          "thickness": 20
         },
         "type": "sankey"
        }
       ],
       "layout": {
        "template": {
         "data": {
          "bar": [
           {
            "error_x": {
             "color": "#2a3f5f"
            },
            "error_y": {
             "color": "#2a3f5f"
            },
            "marker": {
             "line": {
              "color": "#E5ECF6",
              "width": 0.5
             },
             "pattern": {
              "fillmode": "overlay",
              "size": 10,
              "solidity": 0.2
             }
            },
            "type": "bar"
           }
          ],
          "barpolar": [
           {
            "marker": {
             "line": {
              "color": "#E5ECF6",
              "width": 0.5
             },
             "pattern": {
              "fillmode": "overlay",
              "size": 10,
              "solidity": 0.2
             }
            },
            "type": "barpolar"
           }
          ],
          "carpet": [
           {
            "aaxis": {
             "endlinecolor": "#2a3f5f",
             "gridcolor": "white",
             "linecolor": "white",
             "minorgridcolor": "white",
             "startlinecolor": "#2a3f5f"
            },
            "baxis": {
             "endlinecolor": "#2a3f5f",
             "gridcolor": "white",
             "linecolor": "white",
             "minorgridcolor": "white",
             "startlinecolor": "#2a3f5f"
            },
            "type": "carpet"
           }
          ],
          "choropleth": [
           {
            "colorbar": {
             "outlinewidth": 0,
             "ticks": ""
            },
            "type": "choropleth"
           }
          ],
          "contour": [
           {
            "colorbar": {
             "outlinewidth": 0,
             "ticks": ""
            },
            "colorscale": [
             [
              0,
              "#0d0887"
             ],
             [
              0.1111111111111111,
              "#46039f"
             ],
             [
              0.2222222222222222,
              "#7201a8"
             ],
             [
              0.3333333333333333,
              "#9c179e"
             ],
             [
              0.4444444444444444,
              "#bd3786"
             ],
             [
              0.5555555555555556,
              "#d8576b"
             ],
             [
              0.6666666666666666,
              "#ed7953"
             ],
             [
              0.7777777777777778,
              "#fb9f3a"
             ],
             [
              0.8888888888888888,
              "#fdca26"
             ],
             [
              1,
              "#f0f921"
             ]
            ],
            "type": "contour"
           }
          ],
          "contourcarpet": [
           {
            "colorbar": {
             "outlinewidth": 0,
             "ticks": ""
            },
            "type": "contourcarpet"
           }
          ],
          "heatmap": [
           {
            "colorbar": {
             "outlinewidth": 0,
             "ticks": ""
            },
            "colorscale": [
             [
              0,
              "#0d0887"
             ],
             [
              0.1111111111111111,
              "#46039f"
             ],
             [
              0.2222222222222222,
              "#7201a8"
             ],
             [
              0.3333333333333333,
              "#9c179e"
             ],
             [
              0.4444444444444444,
              "#bd3786"
             ],
             [
              0.5555555555555556,
              "#d8576b"
             ],
             [
              0.6666666666666666,
              "#ed7953"
             ],
             [
              0.7777777777777778,
              "#fb9f3a"
             ],
             [
              0.8888888888888888,
              "#fdca26"
             ],
             [
              1,
              "#f0f921"
             ]
            ],
            "type": "heatmap"
           }
          ],
          "heatmapgl": [
           {
            "colorbar": {
             "outlinewidth": 0,
             "ticks": ""
            },
            "colorscale": [
             [
              0,
              "#0d0887"
             ],
             [
              0.1111111111111111,
              "#46039f"
             ],
             [
              0.2222222222222222,
              "#7201a8"
             ],
             [
              0.3333333333333333,
              "#9c179e"
             ],
             [
              0.4444444444444444,
              "#bd3786"
             ],
             [
              0.5555555555555556,
              "#d8576b"
             ],
             [
              0.6666666666666666,
              "#ed7953"
             ],
             [
              0.7777777777777778,
              "#fb9f3a"
             ],
             [
              0.8888888888888888,
              "#fdca26"
             ],
             [
              1,
              "#f0f921"
             ]
            ],
            "type": "heatmapgl"
           }
          ],
          "histogram": [
           {
            "marker": {
             "pattern": {
              "fillmode": "overlay",
              "size": 10,
              "solidity": 0.2
             }
            },
            "type": "histogram"
           }
          ],
          "histogram2d": [
           {
            "colorbar": {
             "outlinewidth": 0,
             "ticks": ""
            },
            "colorscale": [
             [
              0,
              "#0d0887"
             ],
             [
              0.1111111111111111,
              "#46039f"
             ],
             [
              0.2222222222222222,
              "#7201a8"
             ],
             [
              0.3333333333333333,
              "#9c179e"
             ],
             [
              0.4444444444444444,
              "#bd3786"
             ],
             [
              0.5555555555555556,
              "#d8576b"
             ],
             [
              0.6666666666666666,
              "#ed7953"
             ],
             [
              0.7777777777777778,
              "#fb9f3a"
             ],
             [
              0.8888888888888888,
              "#fdca26"
             ],
             [
              1,
              "#f0f921"
             ]
            ],
            "type": "histogram2d"
           }
          ],
          "histogram2dcontour": [
           {
            "colorbar": {
             "outlinewidth": 0,
             "ticks": ""
            },
            "colorscale": [
             [
              0,
              "#0d0887"
             ],
             [
              0.1111111111111111,
              "#46039f"
             ],
             [
              0.2222222222222222,
              "#7201a8"
             ],
             [
              0.3333333333333333,
              "#9c179e"
             ],
             [
              0.4444444444444444,
              "#bd3786"
             ],
             [
              0.5555555555555556,
              "#d8576b"
             ],
             [
              0.6666666666666666,
              "#ed7953"
             ],
             [
              0.7777777777777778,
              "#fb9f3a"
             ],
             [
              0.8888888888888888,
              "#fdca26"
             ],
             [
              1,
              "#f0f921"
             ]
            ],
            "type": "histogram2dcontour"
           }
          ],
          "mesh3d": [
           {
            "colorbar": {
             "outlinewidth": 0,
             "ticks": ""
            },
            "type": "mesh3d"
           }
          ],
          "parcoords": [
           {
            "line": {
             "colorbar": {
              "outlinewidth": 0,
              "ticks": ""
             }
            },
            "type": "parcoords"
           }
          ],
          "pie": [
           {
            "automargin": true,
            "type": "pie"
           }
          ],
          "scatter": [
           {
            "fillpattern": {
             "fillmode": "overlay",
             "size": 10,
             "solidity": 0.2
            },
            "type": "scatter"
           }
          ],
          "scatter3d": [
           {
            "line": {
             "colorbar": {
              "outlinewidth": 0,
              "ticks": ""
             }
            },
            "marker": {
             "colorbar": {
              "outlinewidth": 0,
              "ticks": ""
             }
            },
            "type": "scatter3d"
           }
          ],
          "scattercarpet": [
           {
            "marker": {
             "colorbar": {
              "outlinewidth": 0,
              "ticks": ""
             }
            },
            "type": "scattercarpet"
           }
          ],
          "scattergeo": [
           {
            "marker": {
             "colorbar": {
              "outlinewidth": 0,
              "ticks": ""
             }
            },
            "type": "scattergeo"
           }
          ],
          "scattergl": [
           {
            "marker": {
             "colorbar": {
              "outlinewidth": 0,
              "ticks": ""
             }
            },
            "type": "scattergl"
           }
          ],
          "scattermapbox": [
           {
            "marker": {
             "colorbar": {
              "outlinewidth": 0,
              "ticks": ""
             }
            },
            "type": "scattermapbox"
           }
          ],
          "scatterpolar": [
           {
            "marker": {
             "colorbar": {
              "outlinewidth": 0,
              "ticks": ""
             }
            },
            "type": "scatterpolar"
           }
          ],
          "scatterpolargl": [
           {
            "marker": {
             "colorbar": {
              "outlinewidth": 0,
              "ticks": ""
             }
            },
            "type": "scatterpolargl"
           }
          ],
          "scatterternary": [
           {
            "marker": {
             "colorbar": {
              "outlinewidth": 0,
              "ticks": ""
             }
            },
            "type": "scatterternary"
           }
          ],
          "surface": [
           {
            "colorbar": {
             "outlinewidth": 0,
             "ticks": ""
            },
            "colorscale": [
             [
              0,
              "#0d0887"
             ],
             [
              0.1111111111111111,
              "#46039f"
             ],
             [
              0.2222222222222222,
              "#7201a8"
             ],
             [
              0.3333333333333333,
              "#9c179e"
             ],
             [
              0.4444444444444444,
              "#bd3786"
             ],
             [
              0.5555555555555556,
              "#d8576b"
             ],
             [
              0.6666666666666666,
              "#ed7953"
             ],
             [
              0.7777777777777778,
              "#fb9f3a"
             ],
             [
              0.8888888888888888,
              "#fdca26"
             ],
             [
              1,
              "#f0f921"
             ]
            ],
            "type": "surface"
           }
          ],
          "table": [
           {
            "cells": {
             "fill": {
              "color": "#EBF0F8"
             },
             "line": {
              "color": "white"
             }
            },
            "header": {
             "fill": {
              "color": "#C8D4E3"
             },
             "line": {
              "color": "white"
             }
            },
            "type": "table"
           }
          ]
         },
         "layout": {
          "annotationdefaults": {
           "arrowcolor": "#2a3f5f",
           "arrowhead": 0,
           "arrowwidth": 1
          },
          "autotypenumbers": "strict",
          "coloraxis": {
           "colorbar": {
            "outlinewidth": 0,
            "ticks": ""
           }
          },
          "colorscale": {
           "diverging": [
            [
             0,
             "#8e0152"
            ],
            [
             0.1,
             "#c51b7d"
            ],
            [
             0.2,
             "#de77ae"
            ],
            [
             0.3,
             "#f1b6da"
            ],
            [
             0.4,
             "#fde0ef"
            ],
            [
             0.5,
             "#f7f7f7"
            ],
            [
             0.6,
             "#e6f5d0"
            ],
            [
             0.7,
             "#b8e186"
            ],
            [
             0.8,
             "#7fbc41"
            ],
            [
             0.9,
             "#4d9221"
            ],
            [
             1,
             "#276419"
            ]
           ],
           "sequential": [
            [
             0,
             "#0d0887"
            ],
            [
             0.1111111111111111,
             "#46039f"
            ],
            [
             0.2222222222222222,
             "#7201a8"
            ],
            [
             0.3333333333333333,
             "#9c179e"
            ],
            [
             0.4444444444444444,
             "#bd3786"
            ],
            [
             0.5555555555555556,
             "#d8576b"
            ],
            [
             0.6666666666666666,
             "#ed7953"
            ],
            [
             0.7777777777777778,
             "#fb9f3a"
            ],
            [
             0.8888888888888888,
             "#fdca26"
            ],
            [
             1,
             "#f0f921"
            ]
           ],
           "sequentialminus": [
            [
             0,
             "#0d0887"
            ],
            [
             0.1111111111111111,
             "#46039f"
            ],
            [
             0.2222222222222222,
             "#7201a8"
            ],
            [
             0.3333333333333333,
             "#9c179e"
            ],
            [
             0.4444444444444444,
             "#bd3786"
            ],
            [
             0.5555555555555556,
             "#d8576b"
            ],
            [
             0.6666666666666666,
             "#ed7953"
            ],
            [
             0.7777777777777778,
             "#fb9f3a"
            ],
            [
             0.8888888888888888,
             "#fdca26"
            ],
            [
             1,
             "#f0f921"
            ]
           ]
          },
          "colorway": [
           "#636efa",
           "#EF553B",
           "#00cc96",
           "#ab63fa",
           "#FFA15A",
           "#19d3f3",
           "#FF6692",
           "#B6E880",
           "#FF97FF",
           "#FECB52"
          ],
          "font": {
           "color": "#2a3f5f"
          },
          "geo": {
           "bgcolor": "white",
           "lakecolor": "white",
           "landcolor": "#E5ECF6",
           "showlakes": true,
           "showland": true,
           "subunitcolor": "white"
          },
          "hoverlabel": {
           "align": "left"
          },
          "hovermode": "closest",
          "mapbox": {
           "style": "light"
          },
          "paper_bgcolor": "white",
          "plot_bgcolor": "#E5ECF6",
          "polar": {
           "angularaxis": {
            "gridcolor": "white",
            "linecolor": "white",
            "ticks": ""
           },
           "bgcolor": "#E5ECF6",
           "radialaxis": {
            "gridcolor": "white",
            "linecolor": "white",
            "ticks": ""
           }
          },
          "scene": {
           "xaxis": {
            "backgroundcolor": "#E5ECF6",
            "gridcolor": "white",
            "gridwidth": 2,
            "linecolor": "white",
            "showbackground": true,
            "ticks": "",
            "zerolinecolor": "white"
           },
           "yaxis": {
            "backgroundcolor": "#E5ECF6",
            "gridcolor": "white",
            "gridwidth": 2,
            "linecolor": "white",
            "showbackground": true,
            "ticks": "",
            "zerolinecolor": "white"
           },
           "zaxis": {
            "backgroundcolor": "#E5ECF6",
            "gridcolor": "white",
            "gridwidth": 2,
            "linecolor": "white",
            "showbackground": true,
            "ticks": "",
            "zerolinecolor": "white"
           }
          },
          "shapedefaults": {
           "line": {
            "color": "#2a3f5f"
           }
          },
          "ternary": {
           "aaxis": {
            "gridcolor": "white",
            "linecolor": "white",
            "ticks": ""
           },
           "baxis": {
            "gridcolor": "white",
            "linecolor": "white",
            "ticks": ""
           },
           "bgcolor": "#E5ECF6",
           "caxis": {
            "gridcolor": "white",
            "linecolor": "white",
            "ticks": ""
           }
          },
          "title": {
           "x": 0.05
          },
          "xaxis": {
           "automargin": true,
           "gridcolor": "white",
           "linecolor": "white",
           "ticks": "",
           "title": {
            "standoff": 15
           },
           "zerolinecolor": "white",
           "zerolinewidth": 2
          },
          "yaxis": {
           "automargin": true,
           "gridcolor": "white",
           "linecolor": "white",
           "ticks": "",
           "title": {
            "standoff": 15
           },
           "zerolinecolor": "white",
           "zerolinewidth": 2
          }
         }
        }
       }
      }
     },
     "metadata": {},
     "output_type": "display_data"
    }
   ],
   "source": [
    "import pandas as pd\n",
    "import plotly.graph_objects as go\n",
    "\n",
    "# Step 1: Get the counts for category -> species\n",
    "category_species_count = df_combined.groupby(['Category', 'Scientific Name']).size().reset_index(name='count')\n",
    "\n",
    "# Step 2: For each category, get the top 5 species\n",
    "filtered_category_species_count = (\n",
    "    category_species_count.assign(rank=category_species_count.groupby('Category')['count'].rank(method='first', ascending=False))\n",
    "    .query('rank <= 5')  # Select the top 5 species per category\n",
    "    .drop(columns='rank')\n",
    ")\n",
    "\n",
    "# Create the links for category -> species\n",
    "category_species_links = filtered_category_species_count[['Category', 'Scientific Name', 'count']].rename(\n",
    "    columns={'Category': 'source', 'Scientific Name': 'target', 'count': 'value'}\n",
    ")\n",
    "\n",
    "# Create a list of nodes\n",
    "nodes = list(pd.concat([\n",
    "    filtered_category_species_count['Category'],\n",
    "    filtered_category_species_count['Scientific Name']\n",
    "]).unique())\n",
    "\n",
    "# Map the nodes to indices\n",
    "nodes_dict = {node: i for i, node in enumerate(nodes)}\n",
    "\n",
    "# Add node indices to the links\n",
    "category_species_links['source'] = category_species_links['source'].map(nodes_dict)\n",
    "category_species_links['target'] = category_species_links['target'].map(nodes_dict)\n",
    "\n",
    "# Create the Sankey diagram\n",
    "fig = go.Figure(go.Sankey(\n",
    "    node=dict(\n",
    "        pad=15,\n",
    "        thickness=20,\n",
    "        line=dict(color=\"black\", width=0.5),\n",
    "        label=nodes\n",
    "    ),\n",
    "    link=dict(\n",
    "        source=category_species_links['source'],\n",
    "        target=category_species_links['target'],\n",
    "        value=category_species_links['value']\n",
    "    )\n",
    "))\n",
    "\n",
    "fig.show()\n"
   ]
  },
  {
   "cell_type": "code",
   "execution_count": 54,
   "id": "c962a5d3",
   "metadata": {},
   "outputs": [
    {
     "name": "stdout",
     "output_type": "stream",
     "text": [
      "Park Name\n",
      "Joshua Tree National Park                  6.457485\n",
      "Redwood National Park                      6.636249\n",
      "Sequoia and Kings Canyon National Parks    7.132308\n",
      "Name: Shannon Component, dtype: float64\n"
     ]
    },
    {
     "name": "stderr",
     "output_type": "stream",
     "text": [
      "/Applications/anaconda3/envs/ds4420/lib/python3.12/site-packages/pandas/core/arraylike.py:399: RuntimeWarning:\n",
      "\n",
      "divide by zero encountered in log\n",
      "\n"
     ]
    }
   ],
   "source": [
    "# Assign weights to abundance categories\n",
    "abundance_weights = {\n",
    "    'Unknown': 0,  \n",
    "    'Rare': 2,\n",
    "    'Uncommon': 4,\n",
    "    'Occasional': 6,\n",
    "    'Common': 8,\n",
    "    'Abundant': 10\n",
    "}\n",
    "\n",
    "# Map the abundance categories to weights\n",
    "df_combined['Abundance Weight'] = df_combined['Abundance'].map(abundance_weights)\n",
    "\n",
    "# Function to calculate Shannon Index for each park\n",
    "def calculate_shannon_index(df):\n",
    "    # Group by Park Code and calculate total abundance per park\n",
    "    park_abundance = df.groupby('Park Name')['Abundance Weight'].sum()\n",
    "    \n",
    "    # Calculate relative abundance (p_i) for each species in each park\n",
    "    df['Relative Abundance'] = df['Abundance Weight'] / df.groupby('Park Code')['Abundance Weight'].transform('sum')\n",
    "    \n",
    "    # Shannon Index formula: H' = -sum(p_i * ln(p_i))\n",
    "    df['Shannon Component'] = df['Relative Abundance'] * np.log(df['Relative Abundance'])\n",
    "    \n",
    "    # Calculate Shannon Index per park by summing the components and negating the result\n",
    "    shannon_index = df.groupby('Park Name')['Shannon Component'].sum() * -1\n",
    "    \n",
    "    return shannon_index\n",
    "\n",
    "# Calculate the Shannon Diversity Index for each park\n",
    "shannon_index_per_park = calculate_shannon_index(df_combined)\n",
    "\n",
    "# Output the results\n",
    "print(shannon_index_per_park)"
   ]
  },
  {
   "cell_type": "code",
   "execution_count": 60,
   "id": "00102d23",
   "metadata": {},
   "outputs": [
    {
     "data": {
      "image/png": "[encoded data removed]",
      "text/plain": [
       "<Figure size 1000x600 with 1 Axes>"
      ]
     },
     "metadata": {},
     "output_type": "display_data"
    }
   ],
   "source": [
    "import matplotlib.pyplot as plt\n",
    "import seaborn as sns\n",
    "\n",
    "# Plot the Shannon Diversity Index for each park\n",
    "plt.figure(figsize=(10, 6))\n",
    "sns.barplot(x=shannon_index_per_park.index, y=shannon_index_per_park.values)\n",
    "plt.title('Shannon Diversity Index by Park')\n",
    "plt.xlabel('Park')\n",
    "plt.ylabel('Shannon Index (H\\')')\n",
    "plt.tight_layout()\n",
    "plt.show()\n"
   ]
  },
  {
   "cell_type": "code",
   "execution_count": 69,
   "id": "a6aa8cae",
   "metadata": {},
   "outputs": [
    {
     "data": {
      "application/vnd.plotly.v1+json": {
       "config": {
        "plotlyServerURL": "https://plot.ly"
       },
       "data": [
        {
         "link": {
          "source": [
           0,
           1,
           2,
           3,
           4,
           5,
           6,
           7,
           11,
           9,
           8,
           10,
           17,
           16,
           15,
           13,
           12,
           14
          ],
          "target": [
           6,
           7,
           8,
           9,
           10,
           11,
           12,
           13,
           14,
           15,
           16,
           17,
           18,
           19,
           20,
           21,
           22,
           23
          ],
          "value": [
           17,
           381,
           51,
           87,
           67,
           390,
           12,
           62,
           251,
           37,
           21,
           29,
           6,
           5,
           13,
           10,
           4,
           20
          ]
         },
         "node": {
          "label": [
           "Amphibian",
           "Bird",
           "Fish",
           "Mammal",
           "Reptile",
           "Vascular Plant",
           "Caudata",
           "Passeriformes",
           "Scorpaeniformes",
           "Rodentia",
           "Squamata",
           "Poales",
           "Plethodontidae",
           "Passerellidae",
           "Poaceae",
           "Cricetidae",
           "Cottidae",
           "Colubridae",
           "Coluber constrictor",
           "Artedius corallinus",
           "Peromyscus boylii",
           "Amphispiza belli",
           "Ensatina eschscholtzii",
           "Bromus diandrus"
          ],
          "line": {
           "color": "black",
           "width": 0.5
          },
          "pad": 15,
          "thickness": 20
         },
         "type": "sankey"
        }
       ],
       "layout": {
        "template": {
         "data": {
          "bar": [
           {
            "error_x": {
             "color": "#2a3f5f"
            },
            "error_y": {
             "color": "#2a3f5f"
            },
            "marker": {
             "line": {
              "color": "#E5ECF6",
              "width": 0.5
             },
             "pattern": {
              "fillmode": "overlay",
              "size": 10,
              "solidity": 0.2
             }
            },
            "type": "bar"
           }
          ],
          "barpolar": [
           {
            "marker": {
             "line": {
              "color": "#E5ECF6",
              "width": 0.5
             },
             "pattern": {
              "fillmode": "overlay",
              "size": 10,
              "solidity": 0.2
             }
            },
            "type": "barpolar"
           }
          ],
          "carpet": [
           {
            "aaxis": {
             "endlinecolor": "#2a3f5f",
             "gridcolor": "white",
             "linecolor": "white",
             "minorgridcolor": "white",
             "startlinecolor": "#2a3f5f"
            },
            "baxis": {
             "endlinecolor": "#2a3f5f",
             "gridcolor": "white",
             "linecolor": "white",
             "minorgridcolor": "white",
             "startlinecolor": "#2a3f5f"
            },
            "type": "carpet"
           }
          ],
          "choropleth": [
           {
            "colorbar": {
             "outlinewidth": 0,
             "ticks": ""
            },
            "type": "choropleth"
           }
          ],
          "contour": [
           {
            "colorbar": {
             "outlinewidth": 0,
             "ticks": ""
            },
            "colorscale": [
             [
              0,
              "#0d0887"
             ],
             [
              0.1111111111111111,
              "#46039f"
             ],
             [
              0.2222222222222222,
              "#7201a8"
             ],
             [
              0.3333333333333333,
              "#9c179e"
             ],
             [
              0.4444444444444444,
              "#bd3786"
             ],
             [
              0.5555555555555556,
              "#d8576b"
             ],
             [
              0.6666666666666666,
              "#ed7953"
             ],
             [
              0.7777777777777778,
              "#fb9f3a"
             ],
             [
              0.8888888888888888,
              "#fdca26"
             ],
             [
              1,
              "#f0f921"
             ]
            ],
            "type": "contour"
           }
          ],
          "contourcarpet": [
           {
            "colorbar": {
             "outlinewidth": 0,
             "ticks": ""
            },
            "type": "contourcarpet"
           }
          ],
          "heatmap": [
           {
            "colorbar": {
             "outlinewidth": 0,
             "ticks": ""
            },
            "colorscale": [
             [
              0,
              "#0d0887"
             ],
             [
              0.1111111111111111,
              "#46039f"
             ],
             [
              0.2222222222222222,
              "#7201a8"
             ],
             [
              0.3333333333333333,
              "#9c179e"
             ],
             [
              0.4444444444444444,
              "#bd3786"
             ],
             [
              0.5555555555555556,
              "#d8576b"
             ],
             [
              0.6666666666666666,
              "#ed7953"
             ],
             [
              0.7777777777777778,
              "#fb9f3a"
             ],
             [
              0.8888888888888888,
              "#fdca26"
             ],
             [
              1,
              "#f0f921"
             ]
            ],
            "type": "heatmap"
           }
          ],
          "heatmapgl": [
           {
            "colorbar": {
             "outlinewidth": 0,
             "ticks": ""
            },
            "colorscale": [
             [
              0,
              "#0d0887"
             ],
             [
              0.1111111111111111,
              "#46039f"
             ],
             [
              0.2222222222222222,
              "#7201a8"
             ],
             [
              0.3333333333333333,
              "#9c179e"
             ],
             [
              0.4444444444444444,
              "#bd3786"
             ],
             [
              0.5555555555555556,
              "#d8576b"
             ],
             [
              0.6666666666666666,
              "#ed7953"
             ],
             [
              0.7777777777777778,
              "#fb9f3a"
             ],
             [
              0.8888888888888888,
              "#fdca26"
             ],
             [
              1,
              "#f0f921"
             ]
            ],
            "type": "heatmapgl"
           }
          ],
          "histogram": [
           {
            "marker": {
             "pattern": {
              "fillmode": "overlay",
              "size": 10,
              "solidity": 0.2
             }
            },
            "type": "histogram"
           }
          ],
          "histogram2d": [
           {
            "colorbar": {
             "outlinewidth": 0,
             "ticks": ""
            },
            "colorscale": [
             [
              0,
              "#0d0887"
             ],
             [
              0.1111111111111111,
              "#46039f"
             ],
             [
              0.2222222222222222,
              "#7201a8"
             ],
             [
              0.3333333333333333,
              "#9c179e"
             ],
             [
              0.4444444444444444,
              "#bd3786"
             ],
             [
              0.5555555555555556,
              "#d8576b"
             ],
             [
              0.6666666666666666,
              "#ed7953"
             ],
             [
              0.7777777777777778,
              "#fb9f3a"
             ],
             [
              0.8888888888888888,
              "#fdca26"
             ],
             [
              1,
              "#f0f921"
             ]
            ],
            "type": "histogram2d"
           }
          ],
          "histogram2dcontour": [
           {
            "colorbar": {
             "outlinewidth": 0,
             "ticks": ""
            },
            "colorscale": [
             [
              0,
              "#0d0887"
             ],
             [
              0.1111111111111111,
              "#46039f"
             ],
             [
              0.2222222222222222,
              "#7201a8"
             ],
             [
              0.3333333333333333,
              "#9c179e"
             ],
             [
              0.4444444444444444,
              "#bd3786"
             ],
             [
              0.5555555555555556,
              "#d8576b"
             ],
             [
              0.6666666666666666,
              "#ed7953"
             ],
             [
              0.7777777777777778,
              "#fb9f3a"
             ],
             [
              0.8888888888888888,
              "#fdca26"
             ],
             [
              1,
              "#f0f921"
             ]
            ],
            "type": "histogram2dcontour"
           }
          ],
          "mesh3d": [
           {
            "colorbar": {
             "outlinewidth": 0,
             "ticks": ""
            },
            "type": "mesh3d"
           }
          ],
          "parcoords": [
           {
            "line": {
             "colorbar": {
              "outlinewidth": 0,
              "ticks": ""
             }
            },
            "type": "parcoords"
           }
          ],
          "pie": [
           {
            "automargin": true,
            "type": "pie"
           }
          ],
          "scatter": [
           {
            "fillpattern": {
             "fillmode": "overlay",
             "size": 10,
             "solidity": 0.2
            },
            "type": "scatter"
           }
          ],
          "scatter3d": [
           {
            "line": {
             "colorbar": {
              "outlinewidth": 0,
              "ticks": ""
             }
            },
            "marker": {
             "colorbar": {
              "outlinewidth": 0,
              "ticks": ""
             }
            },
            "type": "scatter3d"
           }
          ],
          "scattercarpet": [
           {
            "marker": {
             "colorbar": {
              "outlinewidth": 0,
              "ticks": ""
             }
            },
            "type": "scattercarpet"
           }
          ],
          "scattergeo": [
           {
            "marker": {
             "colorbar": {
              "outlinewidth": 0,
              "ticks": ""
             }
            },
            "type": "scattergeo"
           }
          ],
          "scattergl": [
           {
            "marker": {
             "colorbar": {
              "outlinewidth": 0,
              "ticks": ""
             }
            },
            "type": "scattergl"
           }
          ],
          "scattermapbox": [
           {
            "marker": {
             "colorbar": {
              "outlinewidth": 0,
              "ticks": ""
             }
            },
            "type": "scattermapbox"
           }
          ],
          "scatterpolar": [
           {
            "marker": {
             "colorbar": {
              "outlinewidth": 0,
              "ticks": ""
             }
            },
            "type": "scatterpolar"
           }
          ],
          "scatterpolargl": [
           {
            "marker": {
             "colorbar": {
              "outlinewidth": 0,
              "ticks": ""
             }
            },
            "type": "scatterpolargl"
           }
          ],
          "scatterternary": [
           {
            "marker": {
             "colorbar": {
              "outlinewidth": 0,
              "ticks": ""
             }
            },
            "type": "scatterternary"
           }
          ],
          "surface": [
           {
            "colorbar": {
             "outlinewidth": 0,
             "ticks": ""
            },
            "colorscale": [
             [
              0,
              "#0d0887"
             ],
             [
              0.1111111111111111,
              "#46039f"
             ],
             [
              0.2222222222222222,
              "#7201a8"
             ],
             [
              0.3333333333333333,
              "#9c179e"
             ],
             [
              0.4444444444444444,
              "#bd3786"
             ],
             [
              0.5555555555555556,
              "#d8576b"
             ],
             [
              0.6666666666666666,
              "#ed7953"
             ],
             [
              0.7777777777777778,
              "#fb9f3a"
             ],
             [
              0.8888888888888888,
              "#fdca26"
             ],
             [
              1,
              "#f0f921"
             ]
            ],
            "type": "surface"
           }
          ],
          "table": [
           {
            "cells": {
             "fill": {
              "color": "#EBF0F8"
             },
             "line": {
              "color": "white"
             }
            },
            "header": {
             "fill": {
              "color": "#C8D4E3"
             },
             "line": {
              "color": "white"
             }
            },
            "type": "table"
           }
          ]
         },
         "layout": {
          "annotationdefaults": {
           "arrowcolor": "#2a3f5f",
           "arrowhead": 0,
           "arrowwidth": 1
          },
          "autotypenumbers": "strict",
          "coloraxis": {
           "colorbar": {
            "outlinewidth": 0,
            "ticks": ""
           }
          },
          "colorscale": {
           "diverging": [
            [
             0,
             "#8e0152"
            ],
            [
             0.1,
             "#c51b7d"
            ],
            [
             0.2,
             "#de77ae"
            ],
            [
             0.3,
             "#f1b6da"
            ],
            [
             0.4,
             "#fde0ef"
            ],
            [
             0.5,
             "#f7f7f7"
            ],
            [
             0.6,
             "#e6f5d0"
            ],
            [
             0.7,
             "#b8e186"
            ],
            [
             0.8,
             "#7fbc41"
            ],
            [
             0.9,
             "#4d9221"
            ],
            [
             1,
             "#276419"
            ]
           ],
           "sequential": [
            [
             0,
             "#0d0887"
            ],
            [
             0.1111111111111111,
             "#46039f"
            ],
            [
             0.2222222222222222,
             "#7201a8"
            ],
            [
             0.3333333333333333,
             "#9c179e"
            ],
            [
             0.4444444444444444,
             "#bd3786"
            ],
            [
             0.5555555555555556,
             "#d8576b"
            ],
            [
             0.6666666666666666,
             "#ed7953"
            ],
            [
             0.7777777777777778,
             "#fb9f3a"
            ],
            [
             0.8888888888888888,
             "#fdca26"
            ],
            [
             1,
             "#f0f921"
            ]
           ],
           "sequentialminus": [
            [
             0,
             "#0d0887"
            ],
            [
             0.1111111111111111,
             "#46039f"
            ],
            [
             0.2222222222222222,
             "#7201a8"
            ],
            [
             0.3333333333333333,
             "#9c179e"
            ],
            [
             0.4444444444444444,
             "#bd3786"
            ],
            [
             0.5555555555555556,
             "#d8576b"
            ],
            [
             0.6666666666666666,
             "#ed7953"
            ],
            [
             0.7777777777777778,
             "#fb9f3a"
            ],
            [
             0.8888888888888888,
             "#fdca26"
            ],
            [
             1,
             "#f0f921"
            ]
           ]
          },
          "colorway": [
           "#636efa",
           "#EF553B",
           "#00cc96",
           "#ab63fa",
           "#FFA15A",
           "#19d3f3",
           "#FF6692",
           "#B6E880",
           "#FF97FF",
           "#FECB52"
          ],
          "font": {
           "color": "#2a3f5f"
          },
          "geo": {
           "bgcolor": "white",
           "lakecolor": "white",
           "landcolor": "#E5ECF6",
           "showlakes": true,
           "showland": true,
           "subunitcolor": "white"
          },
          "hoverlabel": {
           "align": "left"
          },
          "hovermode": "closest",
          "mapbox": {
           "style": "light"
          },
          "paper_bgcolor": "white",
          "plot_bgcolor": "#E5ECF6",
          "polar": {
           "angularaxis": {
            "gridcolor": "white",
            "linecolor": "white",
            "ticks": ""
           },
           "bgcolor": "#E5ECF6",
           "radialaxis": {
            "gridcolor": "white",
            "linecolor": "white",
            "ticks": ""
           }
          },
          "scene": {
           "xaxis": {
            "backgroundcolor": "#E5ECF6",
            "gridcolor": "white",
            "gridwidth": 2,
            "linecolor": "white",
            "showbackground": true,
            "ticks": "",
            "zerolinecolor": "white"
           },
           "yaxis": {
            "backgroundcolor": "#E5ECF6",
            "gridcolor": "white",
            "gridwidth": 2,
            "linecolor": "white",
            "showbackground": true,
            "ticks": "",
            "zerolinecolor": "white"
           },
           "zaxis": {
            "backgroundcolor": "#E5ECF6",
            "gridcolor": "white",
            "gridwidth": 2,
            "linecolor": "white",
            "showbackground": true,
            "ticks": "",
            "zerolinecolor": "white"
           }
          },
          "shapedefaults": {
           "line": {
            "color": "#2a3f5f"
           }
          },
          "ternary": {
           "aaxis": {
            "gridcolor": "white",
            "linecolor": "white",
            "ticks": ""
           },
           "baxis": {
            "gridcolor": "white",
            "linecolor": "white",
            "ticks": ""
           },
           "bgcolor": "#E5ECF6",
           "caxis": {
            "gridcolor": "white",
            "linecolor": "white",
            "ticks": ""
           }
          },
          "title": {
           "x": 0.05
          },
          "xaxis": {
           "automargin": true,
           "gridcolor": "white",
           "linecolor": "white",
           "ticks": "",
           "title": {
            "standoff": 15
           },
           "zerolinecolor": "white",
           "zerolinewidth": 2
          },
          "yaxis": {
           "automargin": true,
           "gridcolor": "white",
           "linecolor": "white",
           "ticks": "",
           "title": {
            "standoff": 15
           },
           "zerolinecolor": "white",
           "zerolinewidth": 2
          }
         }
        }
       }
      }
     },
     "metadata": {},
     "output_type": "display_data"
    }
   ],
   "source": [
    "import pandas as pd\n",
    "import plotly.graph_objects as go\n",
    "\n",
    "# Step 1: Get the counts for category -> order\n",
    "category_order_count = df_combined.groupby(['Category', 'Order']).size().reset_index(name='count')\n",
    "\n",
    "# Step 2: Get the counts for order -> family\n",
    "order_family_count = df_combined.groupby(['Order', 'Family']).size().reset_index(name='count')\n",
    "\n",
    "# Step 3: Get the counts for family -> genus\n",
    "family_genus_count = df_combined.groupby(['Family', 'Genus']).size().reset_index(name='count')\n",
    "\n",
    "# Step 4: Get the counts for genus -> species\n",
    "genus_species_count = df_combined.groupby(['Genus', 'Species']).size().reset_index(name='count')\n",
    "\n",
    "# Step 5: For each category, get the top 5 orders\n",
    "filtered_category_order_count = (\n",
    "    category_order_count.assign(rank=category_order_count.groupby('Category')['count'].rank(method='first', ascending=False))\n",
    "    .query('rank <= 1')\n",
    "    .drop(columns='rank')\n",
    ")\n",
    "\n",
    "# Step 6: For each order, get the top 5 families\n",
    "filtered_order_family_count = (\n",
    "    order_family_count[order_family_count['Order'].isin(filtered_category_order_count['Order'])]\n",
    "    .assign(rank=order_family_count.groupby('Order')['count'].rank(method='first', ascending=False))\n",
    "    .query('rank <= 1')\n",
    "    .drop(columns='rank')\n",
    ")\n",
    "\n",
    "# Step 7: For each family, get the top 1 genus\n",
    "filtered_family_genus_count = (\n",
    "    family_genus_count[family_genus_count['Family'].isin(filtered_order_family_count['Family'])]\n",
    "    .assign(rank=family_genus_count.groupby('Family')['count'].rank(method='first', ascending=False))\n",
    "    .query('rank <= 1')\n",
    "    .drop(columns='rank')\n",
    ")\n",
    "\n",
    "# Step 8: For each genus, get the top 1 species\n",
    "filtered_genus_species_count = (\n",
    "    genus_species_count[genus_species_count['Genus'].isin(filtered_family_genus_count['Genus'])]\n",
    "    .assign(rank=genus_species_count.groupby('Genus')['count'].rank(method='first', ascending=False))\n",
    "    .query('rank <= 1')\n",
    "    .drop(columns='rank')\n",
    ")\n",
    "\n",
    "# Step 9: Find the most frequent species for each family based on \"References\"\n",
    "# We assume 'Scientific Name' is a combination of 'Genus' and 'Species'\n",
    "df_combined['Scientific Name'] = df_combined['Genus'] + ' ' + df_combined['Species']\n",
    "\n",
    "# Get the most frequent Scientific Name for each Family\n",
    "family_scientific_name = df_combined.groupby('Family')['Scientific Name'].agg(lambda x: x.mode()[0]).reset_index()\n",
    "\n",
    "# Step 10: Merge this information with the family genus count to replace Species with Scientific Name\n",
    "filtered_family_genus_count = pd.merge(filtered_family_genus_count, family_scientific_name, on='Family', how='left')\n",
    "\n",
    "# Combine the links for each level\n",
    "# Category -> Order\n",
    "category_order_links = filtered_category_order_count[['Category', 'Order', 'count']].rename(\n",
    "    columns={'Category': 'source', 'Order': 'target', 'count': 'value'}\n",
    ")\n",
    "\n",
    "# Order -> Family\n",
    "order_family_links = filtered_order_family_count[['Order', 'Family', 'count']].rename(\n",
    "    columns={'Order': 'source', 'Family': 'target', 'count': 'value'}\n",
    ")\n",
    "\n",
    "# Family -> Scientific Name (instead of Genus -> Species)\n",
    "family_scientific_name_links = filtered_family_genus_count[['Family', 'Scientific Name', 'count']].rename(\n",
    "    columns={'Family': 'source', 'Scientific Name': 'target', 'count': 'value'}\n",
    ")\n",
    "\n",
    "# Concatenate all the links\n",
    "links = pd.concat([category_order_links, order_family_links, family_scientific_name_links], ignore_index=True)\n",
    "\n",
    "# Create a list of nodes\n",
    "nodes = list(pd.concat([\n",
    "    filtered_category_order_count['Category'],\n",
    "    filtered_category_order_count['Order'],\n",
    "    filtered_order_family_count['Family'],\n",
    "    filtered_family_genus_count['Scientific Name']  # Add Scientific Name instead of Genus and Species\n",
    "]).unique())\n",
    "\n",
    "# Map the nodes to indices\n",
    "nodes_dict = {node: i for i, node in enumerate(nodes)}\n",
    "\n",
    "# Add node indices to the links\n",
    "links['source'] = links['source'].map(nodes_dict)\n",
    "links['target'] = links['target'].map(nodes_dict)\n",
    "\n",
    "# Create the Sankey diagram\n",
    "fig = go.Figure(go.Sankey(\n",
    "    node=dict(\n",
    "        pad=15,\n",
    "        thickness=20,\n",
    "        line=dict(color=\"black\", width=0.5),\n",
    "        label=nodes\n",
    "    ),\n",
    "    link=dict(\n",
    "        source=links['source'],\n",
    "        target=links['target'],\n",
    "        value=links['value']\n",
    "    )\n",
    "))\n",
    "\n",
    "fig.show()\n"
   ]
  },
  {
   "cell_type": "code",
   "execution_count": null,
   "id": "47644e41",
   "metadata": {},
   "outputs": [],
   "source": []
  }
 ],
 "metadata": {
  "kernelspec": {
   "display_name": "ds4420",
   "language": "python",
   "name": "python3"
  },
  "language_info": {
   "codemirror_mode": {
    "name": "ipython",
    "version": 3
   },
   "file_extension": ".py",
   "mimetype": "text/x-python",
   "name": "python",
   "nbconvert_exporter": "python",
   "pygments_lexer": "ipython3",
   "version": "3.12.7"
  }
 },
 "nbformat": 4,
 "nbformat_minor": 5
}
