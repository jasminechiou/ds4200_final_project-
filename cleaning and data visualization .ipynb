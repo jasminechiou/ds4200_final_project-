{
 "cells": [
  {
   "cell_type": "code",
   "execution_count": 88,
   "id": "8141b28c",
   "metadata": {},
   "outputs": [],
   "source": [
    "import pandas as pd \n",
    "import matplotlib.pyplot as plt\n",
    "from scipy.stats import entropy\n",
    "import numpy as np\n",
    "import altair as alt"
   ]
  },
  {
   "cell_type": "code",
   "execution_count": 85,
   "id": "6d898e9f",
   "metadata": {},
   "outputs": [],
   "source": [
    "df_yellowstone = pd.read_csv(\"species_yellowstone.csv\",skiprows=1)\n",
    "df_acad = pd.read_csv(\"ACAD_species.csv\",skiprows=1)\n",
    "df_agfo = pd.read_csv(\"AGFO_species.csv\")\n",
    "df_yellowstone = df_yellowstone.drop(['Region', 'Internal Park Tags', 'ExternalLinks', 'Ozone', 'Park Tags', 'Nativeness Tags'], axis=1)\n",
    "df_acad = df_acad.drop(['Region', 'Internal Park Tags', 'ExternalLinks', 'Ozone', 'Park Tags', 'Nativeness Tags'], axis=1)\n",
    "df_agfo = df_agfo.drop(['Region', 'Internal Park Tags', 'ExternalLinks', 'Ozone', 'Park Tags', 'Nativeness Tags'], axis = 1)"
   ]
  },
  {
   "cell_type": "code",
   "execution_count": 91,
   "id": "3a99f4d0",
   "metadata": {},
   "outputs": [
    {
     "data": {
      "text/html": [
       "\n",
       "<style>\n",
       "  #altair-viz-c78ea98d70c249b6a30b77015a53b2a6.vega-embed {\n",
       "    width: 100%;\n",
       "    display: flex;\n",
       "  }\n",
       "\n",
       "  #altair-viz-c78ea98d70c249b6a30b77015a53b2a6.vega-embed details,\n",
       "  #altair-viz-c78ea98d70c249b6a30b77015a53b2a6.vega-embed details summary {\n",
       "    position: relative;\n",
       "  }\n",
       "</style>\n",
       "<div id=\"altair-viz-c78ea98d70c249b6a30b77015a53b2a6\"></div>\n",
       "<script type=\"text/javascript\">\n",
       "  var VEGA_DEBUG = (typeof VEGA_DEBUG == \"undefined\") ? {} : VEGA_DEBUG;\n",
       "  (function(spec, embedOpt){\n",
       "    let outputDiv = document.currentScript.previousElementSibling;\n",
       "    if (outputDiv.id !== \"altair-viz-c78ea98d70c249b6a30b77015a53b2a6\") {\n",
       "      outputDiv = document.getElementById(\"altair-viz-c78ea98d70c249b6a30b77015a53b2a6\");\n",
       "    }\n",
       "    const paths = {\n",
       "      \"vega\": \"https://cdn.jsdelivr.net/npm/vega@5?noext\",\n",
       "      \"vega-lib\": \"https://cdn.jsdelivr.net/npm/vega-lib?noext\",\n",
       "      \"vega-lite\": \"https://cdn.jsdelivr.net/npm/vega-lite@5.20.1?noext\",\n",
       "      \"vega-embed\": \"https://cdn.jsdelivr.net/npm/vega-embed@6?noext\",\n",
       "    };\n",
       "\n",
       "    function maybeLoadScript(lib, version) {\n",
       "      var key = `${lib.replace(\"-\", \"\")}_version`;\n",
       "      return (VEGA_DEBUG[key] == version) ?\n",
       "        Promise.resolve(paths[lib]) :\n",
       "        new Promise(function(resolve, reject) {\n",
       "          var s = document.createElement('script');\n",
       "          document.getElementsByTagName(\"head\")[0].appendChild(s);\n",
       "          s.async = true;\n",
       "          s.onload = () => {\n",
       "            VEGA_DEBUG[key] = version;\n",
       "            return resolve(paths[lib]);\n",
       "          };\n",
       "          s.onerror = () => reject(`Error loading script: ${paths[lib]}`);\n",
       "          s.src = paths[lib];\n",
       "        });\n",
       "    }\n",
       "\n",
       "    function showError(err) {\n",
       "      outputDiv.innerHTML = `<div class=\"error\" style=\"color:red;\">${err}</div>`;\n",
       "      throw err;\n",
       "    }\n",
       "\n",
       "    function displayChart(vegaEmbed) {\n",
       "      vegaEmbed(outputDiv, spec, embedOpt)\n",
       "        .catch(err => showError(`Javascript Error: ${err.message}<br>This usually means there's a typo in your chart specification. See the javascript console for the full traceback.`));\n",
       "    }\n",
       "\n",
       "    if(typeof define === \"function\" && define.amd) {\n",
       "      requirejs.config({paths});\n",
       "      require([\"vega-embed\"], displayChart, err => showError(`Error loading script: ${err.message}`));\n",
       "    } else {\n",
       "      maybeLoadScript(\"vega\", \"5\")\n",
       "        .then(() => maybeLoadScript(\"vega-lite\", \"5.20.1\"))\n",
       "        .then(() => maybeLoadScript(\"vega-embed\", \"6\"))\n",
       "        .catch(showError)\n",
       "        .then(() => displayChart(vegaEmbed));\n",
       "    }\n",
       "  })({\"config\": {\"view\": {\"continuousWidth\": 300, \"continuousHeight\": 300}}, \"data\": {\"name\": \"data-1182306c6603cfe9375a1656d0dfd64e\"}, \"mark\": {\"type\": \"bar\"}, \"encoding\": {\"color\": {\"field\": \"Park\", \"legend\": null, \"type\": \"nominal\"}, \"x\": {\"field\": \"Park\", \"title\": \"National Parks\", \"type\": \"nominal\"}, \"y\": {\"field\": \"Species Richness\", \"title\": \"Number of Unique Species\", \"type\": \"quantitative\"}}, \"title\": \"Species Richness (Uniqueness) Comparison Across Parks\", \"$schema\": \"https://vega.github.io/schema/vega-lite/v5.20.1.json\", \"datasets\": {\"data-1182306c6603cfe9375a1656d0dfd64e\": [{\"Park\": \"Yellowstone\", \"Species Richness\": 4175}, {\"Park\": \"Acadia\", \"Species Richness\": 1709}, {\"Park\": \"Agate Fossil Beds\", \"Species Richness\": 1060}]}}, {\"mode\": \"vega-lite\"});\n",
       "</script>"
      ],
      "text/plain": [
       "alt.Chart(...)"
      ]
     },
     "metadata": {},
     "output_type": "display_data"
    }
   ],
   "source": [
    "species_richness_yellowstone = df_yellowstone['Scientific Name'].nunique()\n",
    "species_richess_acad = df_acad['Scientific Name'].nunique()\n",
    "species_richess_agfo = df_agfo['Scientific Name'].nunique()\n",
    "\n",
    "species_data = pd.DataFrame({\n",
    "    'Park': ['Yellowstone', 'Acadia', 'Agate Fossil Beds'],\n",
    "    'Species Richness': [yellowstone_species_richness, acad_species_richness, agfo_species_richness]\n",
    "})\n",
    "\n",
    "chart = alt.Chart(species_data).mark_bar().encode(\n",
    "    x=alt.X('Park', title='National Parks'),\n",
    "    y=alt.Y('Species Richness', title='Number of Unique Species'),\n",
    "    color=alt.Color('Park', legend=None)  # Optional color coding by park\n",
    ").properties(\n",
    "    title='Species Richness (Uniqueness) Comparison Across Parks'\n",
    ")\n",
    "\n",
    "# Display the chart\n",
    "chart.show()"
   ]
  }
 ],
 "metadata": {
  "kernelspec": {
   "display_name": "Python 3 (ipykernel)",
   "language": "python",
   "name": "python3"
  },
  "language_info": {
   "codemirror_mode": {
    "name": "ipython",
    "version": 3
   },
   "file_extension": ".py",
   "mimetype": "text/x-python",
   "name": "python",
   "nbconvert_exporter": "python",
   "pygments_lexer": "ipython3",
   "version": "3.9.13"
  }
 },
 "nbformat": 4,
 "nbformat_minor": 5
}
