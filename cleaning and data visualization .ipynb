{
 "cells": [
  {
   "cell_type": "code",
   "execution_count": null,
   "id": "8141b28c",
   "metadata": {
    "is_executing": true
   },
   "outputs": [],
   "source": [
    "import pandas as pd \n",
    "import matplotlib.pyplot as plt\n",
    "from scipy.stats import entropy\n",
    "import numpy as np\n",
    "import altair as alt \n",
    "import plotly.graph_objects as go\n",
    "import seaborn as sns"
   ]
  },
  {
   "cell_type": "code",
   "execution_count": 88,
   "id": "6d898e9f",
   "metadata": {},
   "outputs": [
    {
     "data": {
      "text/plain": [
       "(10661, 33)"
      ]
     },
     "execution_count": 88,
     "metadata": {},
     "output_type": "execute_result"
    }
   ],
   "source": [
    "# load in data from our 3 California national Parks \n",
    "df_redwood = pd.read_excel(\"redwood.xlsx\")\n",
    "df_joshua = pd.read_excel(\"joshua.xlsx\")\n",
    "df_sequoia = pd.read_excel(\"sequoia.xlsx\")\n",
    "\n",
    "# combine them into one dataframe\n",
    "df_combined = pd.concat([df_redwood, df_joshua, df_sequoia], ignore_index=True)\n",
    "df_combined.shape"
   ]
  },
  {
   "cell_type": "code",
   "execution_count": 89,
   "id": "30c969f3-bb05-49ea-aa7f-edbaa7033561",
   "metadata": {},
   "outputs": [
    {
     "data": {
      "text/plain": [
       "Region                 10661\n",
       "Park Code                  0\n",
       "Park Name                  0\n",
       "Category                   0\n",
       "Category Sort              0\n",
       "Order                    500\n",
       "Family                   504\n",
       "Taxon Code                 0\n",
       "TSN                       47\n",
       "Taxon Record Status        0\n",
       "Scientific Name            0\n",
       "Common Names            4166\n",
       "Synonyms                9954\n",
       "Park Accepted              0\n",
       "Sens?                      0\n",
       "Record Status              0\n",
       "Occurrence              5315\n",
       "Occurrence Tags        10563\n",
       "Nativeness              5324\n",
       "Nativeness Tags        10651\n",
       "Abundance               6376\n",
       "NPS Tags                9255\n",
       "Park Tags              10636\n",
       "Internal Park Tags     10661\n",
       "References               678\n",
       "Observations            9455\n",
       "Vouchers                7034\n",
       "ExternalLinks          10661\n",
       "T&E                     9814\n",
       "State Status           10463\n",
       "Ozone                  10614\n",
       "GRank                   4809\n",
       "SRank                   6005\n",
       "dtype: int64"
      ]
     },
     "execution_count": 89,
     "metadata": {},
     "output_type": "execute_result"
    }
   ],
   "source": [
    "# look at missing values by column\n",
    "df_combined.isnull().sum()"
   ]
  },
  {
   "cell_type": "code",
   "execution_count": 90,
   "id": "2898e0fb-26f0-49e0-9e8e-9826c758bf9d",
   "metadata": {},
   "outputs": [
    {
     "data": {
      "text/plain": [
       "(10661, 26)"
      ]
     },
     "execution_count": 90,
     "metadata": {},
     "output_type": "execute_result"
    }
   ],
   "source": [
    "# drop columns with large amount of missing values\n",
    "df_combined = df_combined.drop(['Region', 'Internal Park Tags', 'ExternalLinks', 'Ozone', 'Park Tags', 'Nativeness Tags', 'Occurrence Tags'], axis=1)\n",
    "df_combined.shape"
   ]
  },
  {
   "cell_type": "code",
   "execution_count": 91,
   "id": "661ad49c-1e5f-4c32-96b1-cf964a99522c",
   "metadata": {},
   "outputs": [
    {
     "data": {
      "text/plain": [
       "(10070, 26)"
      ]
     },
     "execution_count": 91,
     "metadata": {},
     "output_type": "execute_result"
    }
   ],
   "source": [
    "# drop species not in park or unconfirmed\n",
    "df_combined = df_combined[~df_combined['Occurrence'].isin(['Not In Park', 'Unconfirmed'])]\n",
    "df_combined.shape"
   ]
  },
  {
   "cell_type": "code",
   "execution_count": 92,
   "id": "aa709b55",
   "metadata": {},
   "outputs": [],
   "source": [
    "# drop species with no family/order name\n",
    "df_combined = df_combined[~df_combined['Order'].isnull()]\n",
    "df_combined = df_combined[~df_combined['Family'].isnull()]\n",
    "df_combined = df_combined[df_combined['Record Status'].isin(['Approved'])]\n",
    "\n"
   ]
  },
  {
   "cell_type": "code",
   "execution_count": 93,
   "id": "ed51323c",
   "metadata": {},
   "outputs": [
    {
     "data": {
      "text/plain": [
       "Park Code                 0\n",
       "Park Name                 0\n",
       "Category                  0\n",
       "Category Sort             0\n",
       "Order                     0\n",
       "Family                    0\n",
       "Taxon Code                0\n",
       "TSN                      32\n",
       "Taxon Record Status       0\n",
       "Scientific Name           0\n",
       "Common Names             60\n",
       "Synonyms               3800\n",
       "Park Accepted             0\n",
       "Sens?                     0\n",
       "Record Status             0\n",
       "Occurrence                0\n",
       "Nativeness                0\n",
       "Abundance               338\n",
       "NPS Tags               3116\n",
       "References              301\n",
       "Observations           3446\n",
       "Vouchers               1333\n",
       "T&E                    3792\n",
       "State Status           4275\n",
       "GRank                   743\n",
       "SRank                   985\n",
       "dtype: int64"
      ]
     },
     "execution_count": 93,
     "metadata": {},
     "output_type": "execute_result"
    }
   ],
   "source": [
    "df_combined.isnull().sum()"
   ]
  },
  {
   "cell_type": "code",
   "execution_count": 94,
   "id": "e4e88945",
   "metadata": {},
   "outputs": [],
   "source": [
    "df_combined.to_csv('parks_combined.csv', index=False)"
   ]
  },
  {
   "cell_type": "code",
   "execution_count": 95,
   "id": "4c132e11-f4f7-4404-a67c-f2b942bdc0e9",
   "metadata": {},
   "outputs": [
    {
     "data": {
      "text/html": [
       "\n",
       "<style>\n",
       "  #altair-viz-6f8251e3000e4e13af3e3318368f0216.vega-embed {\n",
       "    width: 100%;\n",
       "    display: flex;\n",
       "  }\n",
       "\n",
       "  #altair-viz-6f8251e3000e4e13af3e3318368f0216.vega-embed details,\n",
       "  #altair-viz-6f8251e3000e4e13af3e3318368f0216.vega-embed details summary {\n",
       "    position: relative;\n",
       "  }\n",
       "</style>\n",
       "<div id=\"altair-viz-6f8251e3000e4e13af3e3318368f0216\"></div>\n",
       "<script type=\"text/javascript\">\n",
       "  var VEGA_DEBUG = (typeof VEGA_DEBUG == \"undefined\") ? {} : VEGA_DEBUG;\n",
       "  (function(spec, embedOpt){\n",
       "    let outputDiv = document.currentScript.previousElementSibling;\n",
       "    if (outputDiv.id !== \"altair-viz-6f8251e3000e4e13af3e3318368f0216\") {\n",
       "      outputDiv = document.getElementById(\"altair-viz-6f8251e3000e4e13af3e3318368f0216\");\n",
       "    }\n",
       "    const paths = {\n",
       "      \"vega\": \"https://cdn.jsdelivr.net/npm/vega@5?noext\",\n",
       "      \"vega-lib\": \"https://cdn.jsdelivr.net/npm/vega-lib?noext\",\n",
       "      \"vega-lite\": \"https://cdn.jsdelivr.net/npm/vega-lite@5.20.1?noext\",\n",
       "      \"vega-embed\": \"https://cdn.jsdelivr.net/npm/vega-embed@6?noext\",\n",
       "    };\n",
       "\n",
       "    function maybeLoadScript(lib, version) {\n",
       "      var key = `${lib.replace(\"-\", \"\")}_version`;\n",
       "      return (VEGA_DEBUG[key] == version) ?\n",
       "        Promise.resolve(paths[lib]) :\n",
       "        new Promise(function(resolve, reject) {\n",
       "          var s = document.createElement('script');\n",
       "          document.getElementsByTagName(\"head\")[0].appendChild(s);\n",
       "          s.async = true;\n",
       "          s.onload = () => {\n",
       "            VEGA_DEBUG[key] = version;\n",
       "            return resolve(paths[lib]);\n",
       "          };\n",
       "          s.onerror = () => reject(`Error loading script: ${paths[lib]}`);\n",
       "          s.src = paths[lib];\n",
       "        });\n",
       "    }\n",
       "\n",
       "    function showError(err) {\n",
       "      outputDiv.innerHTML = `<div class=\"error\" style=\"color:red;\">${err}</div>`;\n",
       "      throw err;\n",
       "    }\n",
       "\n",
       "    function displayChart(vegaEmbed) {\n",
       "      vegaEmbed(outputDiv, spec, embedOpt)\n",
       "        .catch(err => showError(`Javascript Error: ${err.message}<br>This usually means there's a typo in your chart specification. See the javascript console for the full traceback.`));\n",
       "    }\n",
       "\n",
       "    if(typeof define === \"function\" && define.amd) {\n",
       "      requirejs.config({paths});\n",
       "      require([\"vega-embed\"], displayChart, err => showError(`Error loading script: ${err.message}`));\n",
       "    } else {\n",
       "      maybeLoadScript(\"vega\", \"5\")\n",
       "        .then(() => maybeLoadScript(\"vega-lite\", \"5.20.1\"))\n",
       "        .then(() => maybeLoadScript(\"vega-embed\", \"6\"))\n",
       "        .catch(showError)\n",
       "        .then(() => displayChart(vegaEmbed));\n",
       "    }\n",
       "  })({\"config\": {\"view\": {\"continuousWidth\": 300, \"continuousHeight\": 300}, \"axis\": {\"labelFontSize\": 12, \"titleFontSize\": 14}, \"title\": {\"fontSize\": 16}}, \"data\": {\"name\": \"data-5a62b360341cd05d9f719413f92e02ed\"}, \"mark\": {\"type\": \"bar\"}, \"encoding\": {\"color\": {\"field\": \"Park Name\", \"title\": \"Park Name\", \"type\": \"nominal\"}, \"tooltip\": [{\"field\": \"Category\", \"type\": \"nominal\"}, {\"field\": \"Park Name\", \"type\": \"nominal\"}, {\"field\": \"Species Count\", \"type\": \"quantitative\"}], \"x\": {\"axis\": {\"labelAngle\": -45}, \"field\": \"Category\", \"sort\": null, \"title\": \"Category\", \"type\": \"nominal\"}, \"xOffset\": {\"field\": \"Park Name\", \"type\": \"nominal\"}, \"y\": {\"field\": \"Species Count\", \"title\": \"Number of Unique Species\", \"type\": \"quantitative\"}}, \"height\": 400, \"title\": \"Species Families by Number of Unique Species Across Parks\", \"width\": 800, \"$schema\": \"https://vega.github.io/schema/vega-lite/v5.20.1.json\", \"datasets\": {\"data-5a62b360341cd05d9f719413f92e02ed\": [{\"Category\": \"Amphibian\", \"Park Name\": \"Joshua Tree National Park\", \"Species Count\": 3}, {\"Category\": \"Amphibian\", \"Park Name\": \"Redwood National Park\", \"Species Count\": 20}, {\"Category\": \"Amphibian\", \"Park Name\": \"Sequoia and Kings Canyon National Parks\", \"Species Count\": 12}, {\"Category\": \"Bird\", \"Park Name\": \"Joshua Tree National Park\", \"Species Count\": 250}, {\"Category\": \"Bird\", \"Park Name\": \"Redwood National Park\", \"Species Count\": 309}, {\"Category\": \"Bird\", \"Park Name\": \"Sequoia and Kings Canyon National Parks\", \"Species Count\": 212}, {\"Category\": \"Fish\", \"Park Name\": \"Redwood National Park\", \"Species Count\": 190}, {\"Category\": \"Fish\", \"Park Name\": \"Sequoia and Kings Canyon National Parks\", \"Species Count\": 11}, {\"Category\": \"Mammal\", \"Park Name\": \"Joshua Tree National Park\", \"Species Count\": 54}, {\"Category\": \"Mammal\", \"Park Name\": \"Redwood National Park\", \"Species Count\": 101}, {\"Category\": \"Mammal\", \"Park Name\": \"Sequoia and Kings Canyon National Parks\", \"Species Count\": 74}, {\"Category\": \"Reptile\", \"Park Name\": \"Joshua Tree National Park\", \"Species Count\": 44}, {\"Category\": \"Reptile\", \"Park Name\": \"Redwood National Park\", \"Species Count\": 29}, {\"Category\": \"Reptile\", \"Park Name\": \"Sequoia and Kings Canyon National Parks\", \"Species Count\": 22}, {\"Category\": \"Vascular Plant\", \"Park Name\": \"Joshua Tree National Park\", \"Species Count\": 565}, {\"Category\": \"Vascular Plant\", \"Park Name\": \"Redwood National Park\", \"Species Count\": 983}, {\"Category\": \"Vascular Plant\", \"Park Name\": \"Sequoia and Kings Canyon National Parks\", \"Species Count\": 1545}]}}, {\"mode\": \"vega-lite\"});\n",
       "</script>"
      ],
      "text/plain": [
       "alt.Chart(...)"
      ]
     },
     "execution_count": 95,
     "metadata": {},
     "output_type": "execute_result"
    }
   ],
   "source": [
    "species_distribution_by_park = df_combined.groupby(['Category', 'Park Name'])['Scientific Name'].nunique().reset_index()\n",
    "\n",
    "# Rename columns for clarity\n",
    "species_distribution_by_park.columns = ['Category', 'Park Name', 'Species Count']\n",
    "\n",
    "# Create the grouped bar chart using Altair\n",
    "species_distribution_chart = alt.Chart(species_distribution_by_park).mark_bar().encode(\n",
    "    x=alt.X('Category:N', title='Category', axis=alt.Axis(labelAngle=-45), sort=None),  # Categories on the x-axis\n",
    "    y=alt.Y('Species Count:Q', title='Number of Unique Species'),  # Species count on the y-axis\n",
    "    color=alt.Color('Park Name:N', title='Park Name'),  # Color by Park Name\n",
    "    tooltip=['Category', 'Park Name', 'Species Count'],  # Tooltip with additional information\n",
    "    xOffset='Park Name:N'  # Group the bars by Park Name within each category\n",
    ").properties(\n",
    "    width=800,\n",
    "    height=400,\n",
    "    title='Species Families by Number of Unique Species Across Parks'\n",
    ").configure_axis(\n",
    "    labelFontSize=12,\n",
    "    titleFontSize=14\n",
    ").configure_title(\n",
    "    fontSize=16\n",
    ")\n",
    "\n",
    "# Show the chart\n",
    "species_distribution_chart"
   ]
  },
  {
   "cell_type": "code",
   "execution_count": 96,
   "id": "cf3a71fa-3abb-4b49-8fab-d337ae770665",
   "metadata": {},
   "outputs": [
    {
     "name": "stderr",
     "output_type": "stream",
     "text": [
      "/var/folders/_m/w66l765131l8253_28x9bp400000gp/T/ipykernel_66286/227774761.py:8: FutureWarning:\n",
      "\n",
      "\n",
      "\n",
      "Passing `palette` without assigning `hue` is deprecated and will be removed in v0.14.0. Assign the `y` variable to `hue` and set `legend=False` for the same effect.\n",
      "\n",
      "\n"
     ]
    },
    {
     "data": {
      "image/png": "[encoded data removed]",
      "text/plain": [
       "<Figure size 1000x600 with 1 Axes>"
      ]
     },
     "metadata": {},
     "output_type": "display_data"
    }
   ],
   "source": [
    "abundance_distribution = df_combined['Abundance'].value_counts().reset_index()\n",
    "\n",
    "# Rename columns for clarity\n",
    "abundance_distribution.columns = ['Abundance', 'Species Count']\n",
    "\n",
    "# Set up the plot\n",
    "plt.figure(figsize=(10, 6))\n",
    "sns.barplot(x='Species Count', y='Abundance', data=abundance_distribution, palette='coolwarm')\n",
    "\n",
    "# Add titles and labels\n",
    "plt.title('Species Distribution by Abundance', fontsize=16)\n",
    "plt.xlabel('Number of Species', fontsize=12)\n",
    "plt.ylabel('Abundance', fontsize=12)\n",
    "\n",
    "# Show the plot\n",
    "plt.tight_layout()\n",
    "plt.show()"
   ]
  },
  {
   "cell_type": "code",
   "execution_count": 97,
   "id": "7715db8e-4ecd-4ade-8884-7e3fdc28d7b7",
   "metadata": {},
   "outputs": [
    {
     "data": {
      "image/png": "[encoded data removed]",
      "text/plain": [
       "<Figure size 1000x600 with 1 Axes>"
      ]
     },
     "metadata": {},
     "output_type": "display_data"
    }
   ],
   "source": [
    "# Simplify T&E column\n",
    "def simplify_te(te_value):\n",
    "    if pd.isna(te_value) or te_value not in ['T', 'E', 'SC', 'DM', 'RT', 'SU', 'UR', 'C']:\n",
    "        return 'Not Listed'\n",
    "    return te_value\n",
    "\n",
    "df_combined['T&E Simplified'] = df_combined['T&E'].apply(simplify_te)\n",
    "\n",
    "# Simplify GRank column into categories\n",
    "def categorize_grank(grank_value):\n",
    "    if pd.isna(grank_value) or grank_value in ['GNR', 'GU', 'G5TNR', 'G5?', 'G4?', 'G5T5?', 'G4?', 'GNA']:\n",
    "        return 'Not Listed'\n",
    "    elif grank_value in ['G1', 'G2']:\n",
    "        return 'High Risk'\n",
    "    elif grank_value in ['G3', 'G4']:\n",
    "        return 'Moderate Risk'\n",
    "    elif grank_value == 'G5':\n",
    "        return 'Low Risk'\n",
    "    return 'Other'\n",
    "\n",
    "df_combined['GRank Categorized'] = df_combined['GRank'].apply(categorize_grank)\n",
    "\n",
    "# Count occurrences for each simplified category\n",
    "te_counts = df_combined['T&E Simplified'].value_counts().reset_index()\n",
    "te_counts.columns = ['Conservation Status', 'Count']\n",
    "te_counts['Type'] = 'T&E'\n",
    "\n",
    "grank_counts = df_combined['GRank Categorized'].value_counts().reset_index()\n",
    "grank_counts.columns = ['Conservation Status', 'Count']\n",
    "grank_counts['Type'] = 'Global Rank'\n",
    "\n",
    "# Combine counts into a single DataFrame\n",
    "conservation_counts = pd.concat([te_counts, grank_counts], ignore_index=True)\n",
    "\n",
    "# Set up the plot\n",
    "plt.figure(figsize=(10, 6))\n",
    "sns.barplot(data=conservation_counts, x='Count', y='Conservation Status', hue='Type', palette='Set1')\n",
    "\n",
    "# Add titles and labels\n",
    "plt.title('Species Conservation Status Overview', fontsize=16)\n",
    "plt.xlabel('Number of Species', fontsize=12)\n",
    "plt.ylabel('Conservation Status', fontsize=12)\n",
    "\n",
    "# Show the plot with a legend\n",
    "plt.legend(title='Type')\n",
    "plt.tight_layout()\n",
    "plt.show()"
   ]
  },
  {
   "cell_type": "code",
   "execution_count": 98,
   "id": "36a6a80f-4e08-4877-940d-55c50b422379",
   "metadata": {},
   "outputs": [
    {
     "data": {
      "image/png": "[encoded data removed]",
      "text/plain": [
       "<Figure size 1000x1000 with 1 Axes>"
      ]
     },
     "metadata": {},
     "output_type": "display_data"
    }
   ],
   "source": [
    "# Set up the plot for a donut chart\n",
    "plt.figure(figsize=(10, 10))\n",
    "\n",
    "# Define a color palette with distinct colors for T&E and GRank\n",
    "colors = sns.color_palette(\"husl\", len(conservation_counts))\n",
    "\n",
    "# Create the pie chart\n",
    "wedges, texts, autotexts = plt.pie(\n",
    "    conservation_counts['Count'],\n",
    "    labels=conservation_counts['Conservation Status'],\n",
    "    autopct='%1.1f%%',\n",
    "    startangle=140,\n",
    "    colors=colors,\n",
    "    explode=[0.1 if t == 'T&E' else 0 for t in conservation_counts['Type']]  # Slightly explode T&E sections\n",
    ")\n",
    "\n",
    "# Draw a circle at the center of pie to make it look like a donut\n",
    "centre_circle = plt.Circle((0, 0), 0.70, fc='white')\n",
    "fig = plt.gcf()\n",
    "fig.gca().add_artist(centre_circle)\n",
    "\n",
    "# Equal aspect ratio ensures that pie is drawn as a circle.\n",
    "plt.tight_layout()\n",
    "plt.title('Species Conservation Status Overview', fontsize=16, fontweight='bold')\n",
    "\n",
    "# Customize text colors\n",
    "for text in autotexts:\n",
    "    text.set_color('white')\n",
    "\n",
    "plt.show()"
   ]
  },
  {
   "cell_type": "code",
   "execution_count": 99,
   "id": "17ee0059-896f-455d-9aa4-fdd511d05400",
   "metadata": {},
   "outputs": [
    {
     "data": {
      "application/vnd.plotly.v1+json": {
       "config": {
        "plotlyServerURL": "https://plot.ly"
       },
       "data": [
        {
         "link": {
          "color": "lightblue",
          "source": [
           0,
           6,
           0,
           6,
           0,
           7,
           0,
           6,
           0,
           6,
           0,
           7,
           1,
           6,
           1,
           7,
           1,
           6,
           1,
           7,
           1,
           6,
           1,
           7,
           1,
           14,
           1,
           6,
           1,
           7,
           1,
           6,
           1,
           7,
           2,
           6,
           2,
           6,
           2,
           7,
           2,
           6,
           2,
           7,
           2,
           6,
           2,
           7,
           2,
           6,
           2,
           7,
           3,
           6,
           3,
           6,
           3,
           7,
           3,
           6,
           3,
           7,
           3,
           6,
           3,
           7,
           3,
           6,
           3,
           7,
           3,
           6,
           3,
           7,
           4,
           6,
           4,
           6,
           4,
           6,
           4,
           6,
           4,
           6,
           4,
           6,
           5,
           6,
           5,
           7,
           5,
           6,
           5,
           7,
           5,
           6,
           5,
           6,
           5,
           7,
           5,
           6,
           5,
           7,
           5,
           14,
           5,
           6,
           5,
           7,
           5,
           14
          ],
          "target": [
           6,
           9,
           6,
           10,
           7,
           10,
           6,
           11,
           6,
           12,
           7,
           12,
           6,
           9,
           7,
           9,
           6,
           10,
           7,
           10,
           6,
           13,
           7,
           13,
           14,
           13,
           6,
           11,
           7,
           11,
           6,
           12,
           7,
           12,
           6,
           9,
           6,
           10,
           7,
           10,
           6,
           11,
           7,
           11,
           6,
           12,
           7,
           12,
           6,
           14,
           7,
           14,
           6,
           9,
           6,
           10,
           7,
           10,
           6,
           13,
           7,
           13,
           6,
           11,
           7,
           11,
           6,
           12,
           7,
           12,
           6,
           14,
           7,
           14,
           6,
           9,
           6,
           10,
           6,
           13,
           6,
           11,
           6,
           12,
           6,
           14,
           6,
           9,
           7,
           9,
           6,
           10,
           7,
           10,
           6,
           13,
           6,
           11,
           7,
           11,
           6,
           12,
           7,
           12,
           14,
           12,
           6,
           14,
           7,
           14,
           14,
           14
          ],
          "value": [
           5,
           5,
           11,
           11,
           1,
           1,
           2,
           2,
           13,
           13,
           1,
           1,
           34,
           34,
           2,
           2,
           167,
           167,
           1,
           1,
           131,
           131,
           55,
           55,
           1,
           1,
           160,
           160,
           13,
           13,
           176,
           176,
           4,
           4,
           7,
           7,
           26,
           26,
           3,
           3,
           6,
           6,
           4,
           4,
           6,
           6,
           1,
           1,
           37,
           37,
           14,
           14,
           11,
           11,
           59,
           59,
           1,
           1,
           16,
           16,
           1,
           1,
           16,
           16,
           3,
           3,
           62,
           62,
           2,
           2,
           34,
           34,
           4,
           4,
           8,
           8,
           51,
           51,
           3,
           3,
           9,
           9,
           13,
           13,
           3,
           3,
           48,
           48,
           12,
           12,
           647,
           647,
           74,
           74,
           1,
           1,
           455,
           455,
           154,
           154,
           920,
           920,
           121,
           121,
           3,
           3,
           364,
           364,
           106,
           106,
           4,
           4
          ]
         },
         "node": {
          "color": "blue",
          "label": [
           "Amphibian",
           "Bird",
           "Fish",
           "Mammal",
           "Reptile",
           "Vascular Plant",
           "Native",
           "Non-native",
           "Unknown",
           "Abundant",
           "Common",
           "Rare",
           "Uncommon",
           "Occasional",
           "Unknown"
          ],
          "line": {
           "color": "black",
           "width": 0.5
          },
          "pad": 15,
          "thickness": 20
         },
         "type": "sankey"
        }
       ],
       "layout": {
        "font": {
         "size": 12
        },
        "template": {
         "data": {
          "bar": [
           {
            "error_x": {
             "color": "#2a3f5f"
            },
            "error_y": {
             "color": "#2a3f5f"
            },
            "marker": {
             "line": {
              "color": "#E5ECF6",
              "width": 0.5
             },
             "pattern": {
              "fillmode": "overlay",
              "size": 10,
              "solidity": 0.2
             }
            },
            "type": "bar"
           }
          ],
          "barpolar": [
           {
            "marker": {
             "line": {
              "color": "#E5ECF6",
              "width": 0.5
             },
             "pattern": {
              "fillmode": "overlay",
              "size": 10,
              "solidity": 0.2
             }
            },
            "type": "barpolar"
           }
          ],
          "carpet": [
           {
            "aaxis": {
             "endlinecolor": "#2a3f5f",
             "gridcolor": "white",
             "linecolor": "white",
             "minorgridcolor": "white",
             "startlinecolor": "#2a3f5f"
            },
            "baxis": {
             "endlinecolor": "#2a3f5f",
             "gridcolor": "white",
             "linecolor": "white",
             "minorgridcolor": "white",
             "startlinecolor": "#2a3f5f"
            },
            "type": "carpet"
           }
          ],
          "choropleth": [
           {
            "colorbar": {
             "outlinewidth": 0,
             "ticks": ""
            },
            "type": "choropleth"
           }
          ],
          "contour": [
           {
            "colorbar": {
             "outlinewidth": 0,
             "ticks": ""
            },
            "colorscale": [
             [
              0,
              "#0d0887"
             ],
             [
              0.1111111111111111,
              "#46039f"
             ],
             [
              0.2222222222222222,
              "#7201a8"
             ],
             [
              0.3333333333333333,
              "#9c179e"
             ],
             [
              0.4444444444444444,
              "#bd3786"
             ],
             [
              0.5555555555555556,
              "#d8576b"
             ],
             [
              0.6666666666666666,
              "#ed7953"
             ],
             [
              0.7777777777777778,
              "#fb9f3a"
             ],
             [
              0.8888888888888888,
              "#fdca26"
             ],
             [
              1,
              "#f0f921"
             ]
            ],
            "type": "contour"
           }
          ],
          "contourcarpet": [
           {
            "colorbar": {
             "outlinewidth": 0,
             "ticks": ""
            },
            "type": "contourcarpet"
           }
          ],
          "heatmap": [
           {
            "colorbar": {
             "outlinewidth": 0,
             "ticks": ""
            },
            "colorscale": [
             [
              0,
              "#0d0887"
             ],
             [
              0.1111111111111111,
              "#46039f"
             ],
             [
              0.2222222222222222,
              "#7201a8"
             ],
             [
              0.3333333333333333,
              "#9c179e"
             ],
             [
              0.4444444444444444,
              "#bd3786"
             ],
             [
              0.5555555555555556,
              "#d8576b"
             ],
             [
              0.6666666666666666,
              "#ed7953"
             ],
             [
              0.7777777777777778,
              "#fb9f3a"
             ],
             [
              0.8888888888888888,
              "#fdca26"
             ],
             [
              1,
              "#f0f921"
             ]
            ],
            "type": "heatmap"
           }
          ],
          "heatmapgl": [
           {
            "colorbar": {
             "outlinewidth": 0,
             "ticks": ""
            },
            "colorscale": [
             [
              0,
              "#0d0887"
             ],
             [
              0.1111111111111111,
              "#46039f"
             ],
             [
              0.2222222222222222,
              "#7201a8"
             ],
             [
              0.3333333333333333,
              "#9c179e"
             ],
             [
              0.4444444444444444,
              "#bd3786"
             ],
             [
              0.5555555555555556,
              "#d8576b"
             ],
             [
              0.6666666666666666,
              "#ed7953"
             ],
             [
              0.7777777777777778,
              "#fb9f3a"
             ],
             [
              0.8888888888888888,
              "#fdca26"
             ],
             [
              1,
              "#f0f921"
             ]
            ],
            "type": "heatmapgl"
           }
          ],
          "histogram": [
           {
            "marker": {
             "pattern": {
              "fillmode": "overlay",
              "size": 10,
              "solidity": 0.2
             }
            },
            "type": "histogram"
           }
          ],
          "histogram2d": [
           {
            "colorbar": {
             "outlinewidth": 0,
             "ticks": ""
            },
            "colorscale": [
             [
              0,
              "#0d0887"
             ],
             [
              0.1111111111111111,
              "#46039f"
             ],
             [
              0.2222222222222222,
              "#7201a8"
             ],
             [
              0.3333333333333333,
              "#9c179e"
             ],
             [
              0.4444444444444444,
              "#bd3786"
             ],
             [
              0.5555555555555556,
              "#d8576b"
             ],
             [
              0.6666666666666666,
              "#ed7953"
             ],
             [
              0.7777777777777778,
              "#fb9f3a"
             ],
             [
              0.8888888888888888,
              "#fdca26"
             ],
             [
              1,
              "#f0f921"
             ]
            ],
            "type": "histogram2d"
           }
          ],
          "histogram2dcontour": [
           {
            "colorbar": {
             "outlinewidth": 0,
             "ticks": ""
            },
            "colorscale": [
             [
              0,
              "#0d0887"
             ],
             [
              0.1111111111111111,
              "#46039f"
             ],
             [
              0.2222222222222222,
              "#7201a8"
             ],
             [
              0.3333333333333333,
              "#9c179e"
             ],
             [
              0.4444444444444444,
              "#bd3786"
             ],
             [
              0.5555555555555556,
              "#d8576b"
             ],
             [
              0.6666666666666666,
              "#ed7953"
             ],
             [
              0.7777777777777778,
              "#fb9f3a"
             ],
             [
              0.8888888888888888,
              "#fdca26"
             ],
             [
              1,
              "#f0f921"
             ]
            ],
            "type": "histogram2dcontour"
           }
          ],
          "mesh3d": [
           {
            "colorbar": {
             "outlinewidth": 0,
             "ticks": ""
            },
            "type": "mesh3d"
           }
          ],
          "parcoords": [
           {
            "line": {
             "colorbar": {
              "outlinewidth": 0,
              "ticks": ""
             }
            },
            "type": "parcoords"
           }
          ],
          "pie": [
           {
            "automargin": true,
            "type": "pie"
           }
          ],
          "scatter": [
           {
            "fillpattern": {
             "fillmode": "overlay",
             "size": 10,
             "solidity": 0.2
            },
            "type": "scatter"
           }
          ],
          "scatter3d": [
           {
            "line": {
             "colorbar": {
              "outlinewidth": 0,
              "ticks": ""
             }
            },
            "marker": {
             "colorbar": {
              "outlinewidth": 0,
              "ticks": ""
             }
            },
            "type": "scatter3d"
           }
          ],
          "scattercarpet": [
           {
            "marker": {
             "colorbar": {
              "outlinewidth": 0,
              "ticks": ""
             }
            },
            "type": "scattercarpet"
           }
          ],
          "scattergeo": [
           {
            "marker": {
             "colorbar": {
              "outlinewidth": 0,
              "ticks": ""
             }
            },
            "type": "scattergeo"
           }
          ],
          "scattergl": [
           {
            "marker": {
             "colorbar": {
              "outlinewidth": 0,
              "ticks": ""
             }
            },
            "type": "scattergl"
           }
          ],
          "scattermapbox": [
           {
            "marker": {
             "colorbar": {
              "outlinewidth": 0,
              "ticks": ""
             }
            },
            "type": "scattermapbox"
           }
          ],
          "scatterpolar": [
           {
            "marker": {
             "colorbar": {
              "outlinewidth": 0,
              "ticks": ""
             }
            },
            "type": "scatterpolar"
           }
          ],
          "scatterpolargl": [
           {
            "marker": {
             "colorbar": {
              "outlinewidth": 0,
              "ticks": ""
             }
            },
            "type": "scatterpolargl"
           }
          ],
          "scatterternary": [
           {
            "marker": {
             "colorbar": {
              "outlinewidth": 0,
              "ticks": ""
             }
            },
            "type": "scatterternary"
           }
          ],
          "surface": [
           {
            "colorbar": {
             "outlinewidth": 0,
             "ticks": ""
            },
            "colorscale": [
             [
              0,
              "#0d0887"
             ],
             [
              0.1111111111111111,
              "#46039f"
             ],
             [
              0.2222222222222222,
              "#7201a8"
             ],
             [
              0.3333333333333333,
              "#9c179e"
             ],
             [
              0.4444444444444444,
              "#bd3786"
             ],
             [
              0.5555555555555556,
              "#d8576b"
             ],
             [
              0.6666666666666666,
              "#ed7953"
             ],
             [
              0.7777777777777778,
              "#fb9f3a"
             ],
             [
              0.8888888888888888,
              "#fdca26"
             ],
             [
              1,
              "#f0f921"
             ]
            ],
            "type": "surface"
           }
          ],
          "table": [
           {
            "cells": {
             "fill": {
              "color": "#EBF0F8"
             },
             "line": {
              "color": "white"
             }
            },
            "header": {
             "fill": {
              "color": "#C8D4E3"
             },
             "line": {
              "color": "white"
             }
            },
            "type": "table"
           }
          ]
         },
         "layout": {
          "annotationdefaults": {
           "arrowcolor": "#2a3f5f",
           "arrowhead": 0,
           "arrowwidth": 1
          },
          "autotypenumbers": "strict",
          "coloraxis": {
           "colorbar": {
            "outlinewidth": 0,
            "ticks": ""
           }
          },
          "colorscale": {
           "diverging": [
            [
             0,
             "#8e0152"
            ],
            [
             0.1,
             "#c51b7d"
            ],
            [
             0.2,
             "#de77ae"
            ],
            [
             0.3,
             "#f1b6da"
            ],
            [
             0.4,
             "#fde0ef"
            ],
            [
             0.5,
             "#f7f7f7"
            ],
            [
             0.6,
             "#e6f5d0"
            ],
            [
             0.7,
             "#b8e186"
            ],
            [
             0.8,
             "#7fbc41"
            ],
            [
             0.9,
             "#4d9221"
            ],
            [
             1,
             "#276419"
            ]
           ],
           "sequential": [
            [
             0,
             "#0d0887"
            ],
            [
             0.1111111111111111,
             "#46039f"
            ],
            [
             0.2222222222222222,
             "#7201a8"
            ],
            [
             0.3333333333333333,
             "#9c179e"
            ],
            [
             0.4444444444444444,
             "#bd3786"
            ],
            [
             0.5555555555555556,
             "#d8576b"
            ],
            [
             0.6666666666666666,
             "#ed7953"
            ],
            [
             0.7777777777777778,
             "#fb9f3a"
            ],
            [
             0.8888888888888888,
             "#fdca26"
            ],
            [
             1,
             "#f0f921"
            ]
           ],
           "sequentialminus": [
            [
             0,
             "#0d0887"
            ],
            [
             0.1111111111111111,
             "#46039f"
            ],
            [
             0.2222222222222222,
             "#7201a8"
            ],
            [
             0.3333333333333333,
             "#9c179e"
            ],
            [
             0.4444444444444444,
             "#bd3786"
            ],
            [
             0.5555555555555556,
             "#d8576b"
            ],
            [
             0.6666666666666666,
             "#ed7953"
            ],
            [
             0.7777777777777778,
             "#fb9f3a"
            ],
            [
             0.8888888888888888,
             "#fdca26"
            ],
            [
             1,
             "#f0f921"
            ]
           ]
          },
          "colorway": [
           "#636efa",
           "#EF553B",
           "#00cc96",
           "#ab63fa",
           "#FFA15A",
           "#19d3f3",
           "#FF6692",
           "#B6E880",
           "#FF97FF",
           "#FECB52"
          ],
          "font": {
           "color": "#2a3f5f"
          },
          "geo": {
           "bgcolor": "white",
           "lakecolor": "white",
           "landcolor": "#E5ECF6",
           "showlakes": true,
           "showland": true,
           "subunitcolor": "white"
          },
          "hoverlabel": {
           "align": "left"
          },
          "hovermode": "closest",
          "mapbox": {
           "style": "light"
          },
          "paper_bgcolor": "white",
          "plot_bgcolor": "#E5ECF6",
          "polar": {
           "angularaxis": {
            "gridcolor": "white",
            "linecolor": "white",
            "ticks": ""
           },
           "bgcolor": "#E5ECF6",
           "radialaxis": {
            "gridcolor": "white",
            "linecolor": "white",
            "ticks": ""
           }
          },
          "scene": {
           "xaxis": {
            "backgroundcolor": "#E5ECF6",
            "gridcolor": "white",
            "gridwidth": 2,
            "linecolor": "white",
            "showbackground": true,
            "ticks": "",
            "zerolinecolor": "white"
           },
           "yaxis": {
            "backgroundcolor": "#E5ECF6",
            "gridcolor": "white",
            "gridwidth": 2,
            "linecolor": "white",
            "showbackground": true,
            "ticks": "",
            "zerolinecolor": "white"
           },
           "zaxis": {
            "backgroundcolor": "#E5ECF6",
            "gridcolor": "white",
            "gridwidth": 2,
            "linecolor": "white",
            "showbackground": true,
            "ticks": "",
            "zerolinecolor": "white"
           }
          },
          "shapedefaults": {
           "line": {
            "color": "#2a3f5f"
           }
          },
          "ternary": {
           "aaxis": {
            "gridcolor": "white",
            "linecolor": "white",
            "ticks": ""
           },
           "baxis": {
            "gridcolor": "white",
            "linecolor": "white",
            "ticks": ""
           },
           "bgcolor": "#E5ECF6",
           "caxis": {
            "gridcolor": "white",
            "linecolor": "white",
            "ticks": ""
           }
          },
          "title": {
           "x": 0.05
          },
          "xaxis": {
           "automargin": true,
           "gridcolor": "white",
           "linecolor": "white",
           "ticks": "",
           "title": {
            "standoff": 15
           },
           "zerolinecolor": "white",
           "zerolinewidth": 2
          },
          "yaxis": {
           "automargin": true,
           "gridcolor": "white",
           "linecolor": "white",
           "ticks": "",
           "title": {
            "standoff": 15
           },
           "zerolinecolor": "white",
           "zerolinewidth": 2
          }
         }
        },
        "title": {
         "text": "Sankey Diagram of Species Categories, Nativeness, and Abundance"
        }
       }
      }
     },
     "metadata": {},
     "output_type": "display_data"
    }
   ],
   "source": [
    "# Prepare the data by grouping by 'Category', 'Abundance', and 'Nativeness', counting occurrences\n",
    "sankey_data = df_combined.groupby(['Category', 'Abundance', 'Nativeness']).size().reset_index(name='Count')\n",
    "\n",
    "# Create lists of unique 'Category', 'Abundance', and 'Nativeness' values for Sankey nodes\n",
    "categories = sankey_data['Category'].unique().tolist()\n",
    "abundances = sankey_data['Abundance'].unique().tolist()\n",
    "nativeness = sankey_data['Nativeness'].unique().tolist()\n",
    "\n",
    "# Combine all nodes into one list of nodes\n",
    "# Nativeness nodes will be inserted in between categories and abundances\n",
    "all_nodes = categories + nativeness + abundances\n",
    "\n",
    "# Create a dictionary for node labels to numeric indices\n",
    "node_indices = {node: i for i, node in enumerate(all_nodes)}\n",
    "\n",
    "# Initialize source and target lists\n",
    "sources = []\n",
    "targets = []\n",
    "values = []\n",
    "\n",
    "# Map the sources and targets for the first link (Category to Nativeness)\n",
    "for _, row in sankey_data.iterrows():\n",
    "    category_index = node_indices[row['Category']]\n",
    "    nativeness_index = node_indices[row['Nativeness']]\n",
    "    abundance_index = node_indices[row['Abundance']]\n",
    "    \n",
    "    # Add the flow from Category to Nativeness\n",
    "    sources.append(category_index)\n",
    "    targets.append(nativeness_index)\n",
    "    values.append(row['Count'])\n",
    "    \n",
    "    # Add the flow from Nativeness to Abundance\n",
    "    sources.append(nativeness_index)\n",
    "    targets.append(abundance_index)\n",
    "    values.append(row['Count'])\n",
    "\n",
    "# Step 2: Create the Sankey Diagram\n",
    "fig = go.Figure(go.Sankey(\n",
    "    node=dict(\n",
    "        pad=15,            # Padding between nodes\n",
    "        thickness=20,      # Thickness of nodes\n",
    "        line=dict(color=\"black\", width=0.5),\n",
    "        label=all_nodes,   # The labels for the nodes\n",
    "        color=\"blue\"       # Color for nodes\n",
    "    ),\n",
    "    link=dict(\n",
    "        source=sources,    # Indices of source nodes\n",
    "        target=targets,    # Indices of target nodes\n",
    "        value=values,      # The values (flows) between nodes\n",
    "        color=\"lightblue\"  # Color for the links\n",
    "    )\n",
    "))\n",
    "\n",
    "# Add a title and show the figure\n",
    "fig.update_layout(title_text=\"Sankey Diagram of Species Categories, Nativeness, and Abundance\", font_size=12)\n",
    "fig.show()"
   ]
  },
  {
   "cell_type": "code",
   "execution_count": 100,
   "id": "8b08cd55-8336-404e-8586-62d439b7d119",
   "metadata": {},
   "outputs": [
    {
     "data": {
      "image/png": "[encoded data removed]",
      "text/plain": [
       "<Figure size 1200x800 with 1 Axes>"
      ]
     },
     "metadata": {},
     "output_type": "display_data"
    }
   ],
   "source": [
    "# Pivot the data for area plot\n",
    "area_data = conservation_counts.pivot(index='Conservation Status', columns='Type', values='Count').fillna(0)\n",
    "\n",
    "# Set up the plot for a stacked area chart\n",
    "plt.figure(figsize=(12, 8))\n",
    "plt.stackplot(area_data.index, area_data['T&E'], area_data['Global Rank'], labels=area_data.columns,\n",
    "              colors=sns.color_palette(\"husl\", 2), alpha=0.8)\n",
    "\n",
    "# Customize the chart\n",
    "plt.title('Stacked Area Chart of Species Conservation Status', fontsize=16, fontweight='bold')\n",
    "plt.xlabel('Conservation Status', fontsize=14)\n",
    "plt.ylabel('Number of Species', fontsize=14)\n",
    "plt.xticks(rotation=45)\n",
    "plt.legend(title='Type', fontsize=12)\n",
    "\n",
    "# Show gridlines\n",
    "plt.grid(visible=True)\n",
    "\n",
    "# Show the plot\n",
    "plt.tight_layout()\n",
    "plt.show()"
   ]
  },
  {
   "cell_type": "code",
   "execution_count": 101,
   "id": "69a74f9f-78c4-4b07-80b3-a3e9e2fd23cd",
   "metadata": {},
   "outputs": [
    {
     "data": {
      "application/vnd.plotly.v1+json": {
       "config": {
        "plotlyServerURL": "https://plot.ly"
       },
       "data": [
        {
         "link": {
          "color": "lightblue",
          "source": [
           0,
           0,
           0,
           0,
           1,
           1,
           1,
           1,
           1,
           2,
           2,
           2,
           2,
           2,
           3,
           3,
           3,
           3,
           3,
           3,
           4,
           4,
           4,
           4,
           4,
           4,
           5,
           5,
           5,
           5,
           5,
           5
          ],
          "target": [
           6,
           7,
           8,
           9,
           6,
           7,
           10,
           8,
           9,
           6,
           7,
           8,
           9,
           11,
           6,
           7,
           10,
           8,
           9,
           11,
           6,
           7,
           10,
           8,
           9,
           11,
           6,
           7,
           10,
           8,
           9,
           11
          ],
          "value": [
           5,
           12,
           2,
           14,
           36,
           168,
           187,
           173,
           180,
           7,
           29,
           10,
           7,
           51,
           11,
           60,
           17,
           19,
           64,
           38,
           8,
           51,
           3,
           9,
           13,
           3,
           60,
           721,
           1,
           609,
           1044,
           474
          ]
         },
         "node": {
          "color": "blue",
          "label": [
           "Amphibian",
           "Bird",
           "Fish",
           "Mammal",
           "Reptile",
           "Vascular Plant",
           "Abundant",
           "Common",
           "Rare",
           "Uncommon",
           "Occasional",
           "Unknown"
          ],
          "line": {
           "color": "black",
           "width": 0.5
          },
          "pad": 15,
          "thickness": 20
         },
         "type": "sankey"
        }
       ],
       "layout": {
        "font": {
         "size": 12
        },
        "template": {
         "data": {
          "bar": [
           {
            "error_x": {
             "color": "#2a3f5f"
            },
            "error_y": {
             "color": "#2a3f5f"
            },
            "marker": {
             "line": {
              "color": "#E5ECF6",
              "width": 0.5
             },
             "pattern": {
              "fillmode": "overlay",
              "size": 10,
              "solidity": 0.2
             }
            },
            "type": "bar"
           }
          ],
          "barpolar": [
           {
            "marker": {
             "line": {
              "color": "#E5ECF6",
              "width": 0.5
             },
             "pattern": {
              "fillmode": "overlay",
              "size": 10,
              "solidity": 0.2
             }
            },
            "type": "barpolar"
           }
          ],
          "carpet": [
           {
            "aaxis": {
             "endlinecolor": "#2a3f5f",
             "gridcolor": "white",
             "linecolor": "white",
             "minorgridcolor": "white",
             "startlinecolor": "#2a3f5f"
            },
            "baxis": {
             "endlinecolor": "#2a3f5f",
             "gridcolor": "white",
             "linecolor": "white",
             "minorgridcolor": "white",
             "startlinecolor": "#2a3f5f"
            },
            "type": "carpet"
           }
          ],
          "choropleth": [
           {
            "colorbar": {
             "outlinewidth": 0,
             "ticks": ""
            },
            "type": "choropleth"
           }
          ],
          "contour": [
           {
            "colorbar": {
             "outlinewidth": 0,
             "ticks": ""
            },
            "colorscale": [
             [
              0,
              "#0d0887"
             ],
             [
              0.1111111111111111,
              "#46039f"
             ],
             [
              0.2222222222222222,
              "#7201a8"
             ],
             [
              0.3333333333333333,
              "#9c179e"
             ],
             [
              0.4444444444444444,
              "#bd3786"
             ],
             [
              0.5555555555555556,
              "#d8576b"
             ],
             [
              0.6666666666666666,
              "#ed7953"
             ],
             [
              0.7777777777777778,
              "#fb9f3a"
             ],
             [
              0.8888888888888888,
              "#fdca26"
             ],
             [
              1,
              "#f0f921"
             ]
            ],
            "type": "contour"
           }
          ],
          "contourcarpet": [
           {
            "colorbar": {
             "outlinewidth": 0,
             "ticks": ""
            },
            "type": "contourcarpet"
           }
          ],
          "heatmap": [
           {
            "colorbar": {
             "outlinewidth": 0,
             "ticks": ""
            },
            "colorscale": [
             [
              0,
              "#0d0887"
             ],
             [
              0.1111111111111111,
              "#46039f"
             ],
             [
              0.2222222222222222,
              "#7201a8"
             ],
             [
              0.3333333333333333,
              "#9c179e"
             ],
             [
              0.4444444444444444,
              "#bd3786"
             ],
             [
              0.5555555555555556,
              "#d8576b"
             ],
             [
              0.6666666666666666,
              "#ed7953"
             ],
             [
              0.7777777777777778,
              "#fb9f3a"
             ],
             [
              0.8888888888888888,
              "#fdca26"
             ],
             [
              1,
              "#f0f921"
             ]
            ],
            "type": "heatmap"
           }
          ],
          "heatmapgl": [
           {
            "colorbar": {
             "outlinewidth": 0,
             "ticks": ""
            },
            "colorscale": [
             [
              0,
              "#0d0887"
             ],
             [
              0.1111111111111111,
              "#46039f"
             ],
             [
              0.2222222222222222,
              "#7201a8"
             ],
             [
              0.3333333333333333,
              "#9c179e"
             ],
             [
              0.4444444444444444,
              "#bd3786"
             ],
             [
              0.5555555555555556,
              "#d8576b"
             ],
             [
              0.6666666666666666,
              "#ed7953"
             ],
             [
              0.7777777777777778,
              "#fb9f3a"
             ],
             [
              0.8888888888888888,
              "#fdca26"
             ],
             [
              1,
              "#f0f921"
             ]
            ],
            "type": "heatmapgl"
           }
          ],
          "histogram": [
           {
            "marker": {
             "pattern": {
              "fillmode": "overlay",
              "size": 10,
              "solidity": 0.2
             }
            },
            "type": "histogram"
           }
          ],
          "histogram2d": [
           {
            "colorbar": {
             "outlinewidth": 0,
             "ticks": ""
            },
            "colorscale": [
             [
              0,
              "#0d0887"
             ],
             [
              0.1111111111111111,
              "#46039f"
             ],
             [
              0.2222222222222222,
              "#7201a8"
             ],
             [
              0.3333333333333333,
              "#9c179e"
             ],
             [
              0.4444444444444444,
              "#bd3786"
             ],
             [
              0.5555555555555556,
              "#d8576b"
             ],
             [
              0.6666666666666666,
              "#ed7953"
             ],
             [
              0.7777777777777778,
              "#fb9f3a"
             ],
             [
              0.8888888888888888,
              "#fdca26"
             ],
             [
              1,
              "#f0f921"
             ]
            ],
            "type": "histogram2d"
           }
          ],
          "histogram2dcontour": [
           {
            "colorbar": {
             "outlinewidth": 0,
             "ticks": ""
            },
            "colorscale": [
             [
              0,
              "#0d0887"
             ],
             [
              0.1111111111111111,
              "#46039f"
             ],
             [
              0.2222222222222222,
              "#7201a8"
             ],
             [
              0.3333333333333333,
              "#9c179e"
             ],
             [
              0.4444444444444444,
              "#bd3786"
             ],
             [
              0.5555555555555556,
              "#d8576b"
             ],
             [
              0.6666666666666666,
              "#ed7953"
             ],
             [
              0.7777777777777778,
              "#fb9f3a"
             ],
             [
              0.8888888888888888,
              "#fdca26"
             ],
             [
              1,
              "#f0f921"
             ]
            ],
            "type": "histogram2dcontour"
           }
          ],
          "mesh3d": [
           {
            "colorbar": {
             "outlinewidth": 0,
             "ticks": ""
            },
            "type": "mesh3d"
           }
          ],
          "parcoords": [
           {
            "line": {
             "colorbar": {
              "outlinewidth": 0,
              "ticks": ""
             }
            },
            "type": "parcoords"
           }
          ],
          "pie": [
           {
            "automargin": true,
            "type": "pie"
           }
          ],
          "scatter": [
           {
            "fillpattern": {
             "fillmode": "overlay",
             "size": 10,
             "solidity": 0.2
            },
            "type": "scatter"
           }
          ],
          "scatter3d": [
           {
            "line": {
             "colorbar": {
              "outlinewidth": 0,
              "ticks": ""
             }
            },
            "marker": {
             "colorbar": {
              "outlinewidth": 0,
              "ticks": ""
             }
            },
            "type": "scatter3d"
           }
          ],
          "scattercarpet": [
           {
            "marker": {
             "colorbar": {
              "outlinewidth": 0,
              "ticks": ""
             }
            },
            "type": "scattercarpet"
           }
          ],
          "scattergeo": [
           {
            "marker": {
             "colorbar": {
              "outlinewidth": 0,
              "ticks": ""
             }
            },
            "type": "scattergeo"
           }
          ],
          "scattergl": [
           {
            "marker": {
             "colorbar": {
              "outlinewidth": 0,
              "ticks": ""
             }
            },
            "type": "scattergl"
           }
          ],
          "scattermapbox": [
           {
            "marker": {
             "colorbar": {
              "outlinewidth": 0,
              "ticks": ""
             }
            },
            "type": "scattermapbox"
           }
          ],
          "scatterpolar": [
           {
            "marker": {
             "colorbar": {
              "outlinewidth": 0,
              "ticks": ""
             }
            },
            "type": "scatterpolar"
           }
          ],
          "scatterpolargl": [
           {
            "marker": {
             "colorbar": {
              "outlinewidth": 0,
              "ticks": ""
             }
            },
            "type": "scatterpolargl"
           }
          ],
          "scatterternary": [
           {
            "marker": {
             "colorbar": {
              "outlinewidth": 0,
              "ticks": ""
             }
            },
            "type": "scatterternary"
           }
          ],
          "surface": [
           {
            "colorbar": {
             "outlinewidth": 0,
             "ticks": ""
            },
            "colorscale": [
             [
              0,
              "#0d0887"
             ],
             [
              0.1111111111111111,
              "#46039f"
             ],
             [
              0.2222222222222222,
              "#7201a8"
             ],
             [
              0.3333333333333333,
              "#9c179e"
             ],
             [
              0.4444444444444444,
              "#bd3786"
             ],
             [
              0.5555555555555556,
              "#d8576b"
             ],
             [
              0.6666666666666666,
              "#ed7953"
             ],
             [
              0.7777777777777778,
              "#fb9f3a"
             ],
             [
              0.8888888888888888,
              "#fdca26"
             ],
             [
              1,
              "#f0f921"
             ]
            ],
            "type": "surface"
           }
          ],
          "table": [
           {
            "cells": {
             "fill": {
              "color": "#EBF0F8"
             },
             "line": {
              "color": "white"
             }
            },
            "header": {
             "fill": {
              "color": "#C8D4E3"
             },
             "line": {
              "color": "white"
             }
            },
            "type": "table"
           }
          ]
         },
         "layout": {
          "annotationdefaults": {
           "arrowcolor": "#2a3f5f",
           "arrowhead": 0,
           "arrowwidth": 1
          },
          "autotypenumbers": "strict",
          "coloraxis": {
           "colorbar": {
            "outlinewidth": 0,
            "ticks": ""
           }
          },
          "colorscale": {
           "diverging": [
            [
             0,
             "#8e0152"
            ],
            [
             0.1,
             "#c51b7d"
            ],
            [
             0.2,
             "#de77ae"
            ],
            [
             0.3,
             "#f1b6da"
            ],
            [
             0.4,
             "#fde0ef"
            ],
            [
             0.5,
             "#f7f7f7"
            ],
            [
             0.6,
             "#e6f5d0"
            ],
            [
             0.7,
             "#b8e186"
            ],
            [
             0.8,
             "#7fbc41"
            ],
            [
             0.9,
             "#4d9221"
            ],
            [
             1,
             "#276419"
            ]
           ],
           "sequential": [
            [
             0,
             "#0d0887"
            ],
            [
             0.1111111111111111,
             "#46039f"
            ],
            [
             0.2222222222222222,
             "#7201a8"
            ],
            [
             0.3333333333333333,
             "#9c179e"
            ],
            [
             0.4444444444444444,
             "#bd3786"
            ],
            [
             0.5555555555555556,
             "#d8576b"
            ],
            [
             0.6666666666666666,
             "#ed7953"
            ],
            [
             0.7777777777777778,
             "#fb9f3a"
            ],
            [
             0.8888888888888888,
             "#fdca26"
            ],
            [
             1,
             "#f0f921"
            ]
           ],
           "sequentialminus": [
            [
             0,
             "#0d0887"
            ],
            [
             0.1111111111111111,
             "#46039f"
            ],
            [
             0.2222222222222222,
             "#7201a8"
            ],
            [
             0.3333333333333333,
             "#9c179e"
            ],
            [
             0.4444444444444444,
             "#bd3786"
            ],
            [
             0.5555555555555556,
             "#d8576b"
            ],
            [
             0.6666666666666666,
             "#ed7953"
            ],
            [
             0.7777777777777778,
             "#fb9f3a"
            ],
            [
             0.8888888888888888,
             "#fdca26"
            ],
            [
             1,
             "#f0f921"
            ]
           ]
          },
          "colorway": [
           "#636efa",
           "#EF553B",
           "#00cc96",
           "#ab63fa",
           "#FFA15A",
           "#19d3f3",
           "#FF6692",
           "#B6E880",
           "#FF97FF",
           "#FECB52"
          ],
          "font": {
           "color": "#2a3f5f"
          },
          "geo": {
           "bgcolor": "white",
           "lakecolor": "white",
           "landcolor": "#E5ECF6",
           "showlakes": true,
           "showland": true,
           "subunitcolor": "white"
          },
          "hoverlabel": {
           "align": "left"
          },
          "hovermode": "closest",
          "mapbox": {
           "style": "light"
          },
          "paper_bgcolor": "white",
          "plot_bgcolor": "#E5ECF6",
          "polar": {
           "angularaxis": {
            "gridcolor": "white",
            "linecolor": "white",
            "ticks": ""
           },
           "bgcolor": "#E5ECF6",
           "radialaxis": {
            "gridcolor": "white",
            "linecolor": "white",
            "ticks": ""
           }
          },
          "scene": {
           "xaxis": {
            "backgroundcolor": "#E5ECF6",
            "gridcolor": "white",
            "gridwidth": 2,
            "linecolor": "white",
            "showbackground": true,
            "ticks": "",
            "zerolinecolor": "white"
           },
           "yaxis": {
            "backgroundcolor": "#E5ECF6",
            "gridcolor": "white",
            "gridwidth": 2,
            "linecolor": "white",
            "showbackground": true,
            "ticks": "",
            "zerolinecolor": "white"
           },
           "zaxis": {
            "backgroundcolor": "#E5ECF6",
            "gridcolor": "white",
            "gridwidth": 2,
            "linecolor": "white",
            "showbackground": true,
            "ticks": "",
            "zerolinecolor": "white"
           }
          },
          "shapedefaults": {
           "line": {
            "color": "#2a3f5f"
           }
          },
          "ternary": {
           "aaxis": {
            "gridcolor": "white",
            "linecolor": "white",
            "ticks": ""
           },
           "baxis": {
            "gridcolor": "white",
            "linecolor": "white",
            "ticks": ""
           },
           "bgcolor": "#E5ECF6",
           "caxis": {
            "gridcolor": "white",
            "linecolor": "white",
            "ticks": ""
           }
          },
          "title": {
           "x": 0.05
          },
          "xaxis": {
           "automargin": true,
           "gridcolor": "white",
           "linecolor": "white",
           "ticks": "",
           "title": {
            "standoff": 15
           },
           "zerolinecolor": "white",
           "zerolinewidth": 2
          },
          "yaxis": {
           "automargin": true,
           "gridcolor": "white",
           "linecolor": "white",
           "ticks": "",
           "title": {
            "standoff": 15
           },
           "zerolinecolor": "white",
           "zerolinewidth": 2
          }
         }
        },
        "title": {
         "text": "Sankey Diagram of Species Categories and Abundance"
        }
       }
      }
     },
     "metadata": {},
     "output_type": "display_data"
    }
   ],
   "source": [
    "# Prepare the data by grouping by 'Category' and 'Abundance' and counting occurrences\n",
    "sankey_data = df_combined.groupby(['Category', 'Abundance']).size().reset_index(name='Count')\n",
    "\n",
    "# Create lists of unique 'Category' and 'Abundance' values for Sankey nodes\n",
    "categories = sankey_data['Category'].unique().tolist()\n",
    "abundances = sankey_data['Abundance'].unique().tolist()\n",
    "\n",
    "# Combine both categories and abundances into one list of nodes\n",
    "all_nodes = categories + abundances\n",
    "\n",
    "# Create a dictionary for node labels to numeric indices\n",
    "node_indices = {node: i for i, node in enumerate(all_nodes)}\n",
    "\n",
    "# Map source and target nodes to their corresponding indices\n",
    "sankey_data['source'] = sankey_data['Category'].map(node_indices)\n",
    "sankey_data['target'] = sankey_data['Abundance'].map(node_indices)\n",
    "\n",
    "# Extract the source, target, and value (flow) data for the Sankey diagram\n",
    "sources = sankey_data['source'].tolist()\n",
    "targets = sankey_data['target'].tolist()\n",
    "values = sankey_data['Count'].tolist()\n",
    "\n",
    "# Step 2: Create the Sankey Diagram\n",
    "fig = go.Figure(go.Sankey(\n",
    "    node=dict(\n",
    "        pad=15,            # Padding between nodes\n",
    "        thickness=20,      # Thickness of nodes\n",
    "        line=dict(color=\"black\", width=0.5),\n",
    "        label=all_nodes,   # The labels for the nodes\n",
    "        color=\"blue\"       # Color for nodes\n",
    "    ),\n",
    "    link=dict(\n",
    "        source=sources,    # Indices of source nodes\n",
    "        target=targets,    # Indices of target nodes\n",
    "        value=values,      # The values (flows) between nodes\n",
    "        color=\"lightblue\"  # Color for the links\n",
    "    )\n",
    "))\n",
    "\n",
    "# Add a title and show the figure\n",
    "fig.update_layout(title_text=\"Sankey Diagram of Species Categories and Abundance\", font_size=12)\n",
    "fig.show()"
   ]
  },
  {
   "cell_type": "code",
   "execution_count": 19,
   "id": "2248bd60-0807-4de3-ada7-771392d52b44",
   "metadata": {
    "ExecuteTime": {
     "end_time": "2024-11-26T00:52:13.435847Z",
     "start_time": "2024-11-26T00:52:13.298436Z"
    }
   },
   "outputs": [
    {
     "data": {
      "text/plain": "<Figure size 800x600 with 1 Axes>",
      "image/png": "[encoded data removed]"
     },
     "metadata": {},
     "output_type": "display_data"
    }
   ],
   "source": [
    "import pandas as pd\n",
    "import matplotlib.pyplot as plt\n",
    "\n",
    "# Load the combined dataset\n",
    "df_combined = pd.read_csv(\"parks_combined.csv\")\n",
    "\n",
    "# Strip any leading/trailing spaces from 'Park Name' to ensure filtering works\n",
    "df_combined['Park Name'] = df_combined['Park Name'].str.strip()\n",
    "\n",
    "# Filter data for each park\n",
    "sequoia_data = df_combined[df_combined['Park Name'].str.contains('Sequoia', case=False, na=False)]\n",
    "joshua_data = df_combined[df_combined['Park Name'].str.contains('Joshua Tree', case=False, na=False)]\n",
    "redwood_data = df_combined[df_combined['Park Name'].str.contains('Redwood', case=False, na=False)]\n",
    "\n",
    "# Calculate species richness for each park\n",
    "sequoia_species_richness = sequoia_data['Scientific Name'].nunique()\n",
    "joshua_species_richness = joshua_data['Scientific Name'].nunique()\n",
    "redwood_species_richness = redwood_data['Scientific Name'].nunique()\n",
    "\n",
    "\n",
    "# Data for visualization\n",
    "parks = [\"Sequoia\", \"Joshua Tree\", \"Redwood\"]\n",
    "species_richness = [sequoia_species_richness, joshua_species_richness, redwood_species_richness]\n",
    "\n",
    "# Reset the plot style\n",
    "plt.style.use('default')\n",
    "\n",
    "# Create the bar chart\n",
    "plt.figure(figsize=(8, 6))\n",
    "plt.bar(parks, species_richness, color=['#FFA07A', '#6495ED', '#90EE90'])\n",
    "\n",
    "# Add chart details\n",
    "plt.title(\"Comparison of Species Richness in Sequoia, Joshua Tree, and Redwood National Parks\", fontsize=14)\n",
    "plt.xlabel(\"National Park\", fontsize=12)\n",
    "plt.ylabel(\"Number of Unique Species\", fontsize=12)\n",
    "plt.grid(axis='y', linestyle='--', alpha=0.7)\n",
    "\n",
    "# Display the chart\n",
    "plt.tight_layout()\n",
    "plt.show()\n"
   ]
  },
  {
   "cell_type": "code",
   "outputs": [
    {
     "data": {
      "text/plain": "<Figure size 1200x600 with 1 Axes>",
      "image/png": "[encoded data removed]"
     },
     "metadata": {},
     "output_type": "display_data"
    }
   ],
   "source": [
    "import pandas as pd\n",
    "import matplotlib.pyplot as plt\n",
    "\n",
    "# Load the combined dataset\n",
    "df_combined = pd.read_csv(\"parks_combined.csv\")\n",
    "\n",
    "# Strip any leading/trailing spaces from 'Park Name' and 'Abundance' columns\n",
    "df_combined['Park Name'] = df_combined['Park Name'].str.strip()\n",
    "df_combined['Abundance'] = df_combined['Abundance'].str.strip()\n",
    "\n",
    "# Filter data for each park\n",
    "sequoia_data = df_combined[df_combined['Park Name'].str.contains('Sequoia', case=False, na=False)]\n",
    "joshua_data = df_combined[df_combined['Park Name'].str.contains('Joshua Tree', case=False, na=False)]\n",
    "redwood_data = df_combined[df_combined['Park Name'].str.contains('Redwood', case=False, na=False)]\n",
    "\n",
    "# Calculate species richness by Abundance for each park\n",
    "sequoia_abundance = sequoia_data.groupby('Abundance')['Scientific Name'].nunique().reset_index()\n",
    "joshua_abundance = joshua_data.groupby('Abundance')['Scientific Name'].nunique().reset_index()\n",
    "redwood_abundance = redwood_data.groupby('Abundance')['Scientific Name'].nunique().reset_index()\n",
    "\n",
    "# Create a grouped bar chart for visualization\n",
    "x = range(len(sequoia_abundance['Abundance']))  # X-axis positions for Sequoia\n",
    "\n",
    "plt.figure(figsize=(12, 6))\n",
    "\n",
    "# Plot bars for each park\n",
    "bar_width = 0.25\n",
    "plt.bar(x, sequoia_abundance['Scientific Name'], width=bar_width, label='Sequoia', color='#FFA07A')\n",
    "plt.bar([i + bar_width for i in x], joshua_abundance['Scientific Name'], width=bar_width, label='Joshua Tree', color='#6495ED')\n",
    "plt.bar([i + 2 * bar_width for i in x], redwood_abundance['Scientific Name'], width=bar_width, label='Redwood', color='#90EE90')\n",
    "\n",
    "# Add labels, title, and legend\n",
    "plt.title('Species Richness by Abundance in National Parks', fontsize=16)\n",
    "plt.xlabel('Abundance Category', fontsize=12)\n",
    "plt.ylabel('Number of Unique Species', fontsize=12)\n",
    "plt.xticks([i + bar_width for i in x], sequoia_abundance['Abundance'], fontsize=10, rotation=45)\n",
    "plt.legend(title='National Park', fontsize=10)\n",
    "plt.grid(axis='y', linestyle='--', alpha=0.7)\n",
    "\n",
    "# Display the chart\n",
    "plt.tight_layout()\n",
    "plt.show()\n"
   ],
   "metadata": {
    "collapsed": false,
    "ExecuteTime": {
     "end_time": "2024-11-26T01:14:30.394538Z",
     "start_time": "2024-11-26T01:14:29.813829Z"
    }
   },
   "id": "2b33b99feee0ec8d",
   "execution_count": 21
  },
  {
   "cell_type": "code",
   "outputs": [],
   "source": [],
   "metadata": {
    "collapsed": false
   },
   "id": "26eea18a8fe102e2"
  }
 ],
 "metadata": {
  "kernelspec": {
   "display_name": "ds4420",
   "language": "python",
   "name": "python3"
  },
  "language_info": {
   "codemirror_mode": {
    "name": "ipython",
    "version": 3
   },
   "file_extension": ".py",
   "mimetype": "text/x-python",
   "name": "python",
   "nbconvert_exporter": "python",
   "pygments_lexer": "ipython3",
   "version": "3.12.7"
  }
 },
 "nbformat": 4,
 "nbformat_minor": 5
}
